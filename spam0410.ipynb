{
 "cells": [
  {
   "cell_type": "code",
   "execution_count": 2,
   "metadata": {
    "collapsed": false
   },
   "outputs": [
    {
     "data": {
      "text/html": [
       "<div style=\"max-height:1000px;max-width:1500px;overflow:auto;\">\n",
       "<table border=\"1\" class=\"dataframe\">\n",
       "  <thead>\n",
       "    <tr style=\"text-align: right;\">\n",
       "      <th></th>\n",
       "      <th>songID</th>\n",
       "      <th>IP</th>\n",
       "      <th>username</th>\n",
       "      <th>visitorID</th>\n",
       "      <th>details</th>\n",
       "      <th>t1</th>\n",
       "      <th>t10</th>\n",
       "    </tr>\n",
       "  </thead>\n",
       "  <tbody>\n",
       "    <tr>\n",
       "      <th>0</th>\n",
       "      <td> 1075542680</td>\n",
       "      <td>      1.55.197.9</td>\n",
       "      <td>                NaN</td>\n",
       "      <td>NaN</td>\n",
       "      <td> {\"strGenreId\":\"1\",\"from_id\":\"album\",\"artistId\"...</td>\n",
       "      <td> 1</td>\n",
       "      <td> 10</td>\n",
       "    </tr>\n",
       "    <tr>\n",
       "      <th>1</th>\n",
       "      <td>    6222235</td>\n",
       "      <td>   42.114.37.199</td>\n",
       "      <td> maimaimotminhta123</td>\n",
       "      <td>NaN</td>\n",
       "      <td> {\"strGenreId\":\"1\",\"artistId\":\"0\",\"id\":\"6222235...</td>\n",
       "      <td> 1</td>\n",
       "      <td> 10</td>\n",
       "    </tr>\n",
       "    <tr>\n",
       "      <th>2</th>\n",
       "      <td> 1074700863</td>\n",
       "      <td>   118.70.81.116</td>\n",
       "      <td>                NaN</td>\n",
       "      <td>NaN</td>\n",
       "      <td> {\"strGenreId\":\"1\",\"artistId\":\"40466\",\"id\":\"107...</td>\n",
       "      <td> 1</td>\n",
       "      <td> 10</td>\n",
       "    </tr>\n",
       "    <tr>\n",
       "      <th>3</th>\n",
       "      <td> 1074797521</td>\n",
       "      <td> 113.175.241.192</td>\n",
       "      <td>                NaN</td>\n",
       "      <td>NaN</td>\n",
       "      <td> {\"strGenreId\":\"1\",\"artistId\":\"16409\",\"id\":\"107...</td>\n",
       "      <td> 1</td>\n",
       "      <td> 10</td>\n",
       "    </tr>\n",
       "  </tbody>\n",
       "</table>\n",
       "<p>4 rows × 7 columns</p>\n",
       "</div>"
      ],
      "text/plain": [
       "       songID               IP            username  visitorID  \\\n",
       "0  1075542680       1.55.197.9                 NaN        NaN   \n",
       "1     6222235    42.114.37.199  maimaimotminhta123        NaN   \n",
       "2  1074700863    118.70.81.116                 NaN        NaN   \n",
       "3  1074797521  113.175.241.192                 NaN        NaN   \n",
       "\n",
       "                                             details  t1  t10  \n",
       "0  {\"strGenreId\":\"1\",\"from_id\":\"album\",\"artistId\"...   1   10  \n",
       "1  {\"strGenreId\":\"1\",\"artistId\":\"0\",\"id\":\"6222235...   1   10  \n",
       "2  {\"strGenreId\":\"1\",\"artistId\":\"40466\",\"id\":\"107...   1   10  \n",
       "3  {\"strGenreId\":\"1\",\"artistId\":\"16409\",\"id\":\"107...   1   10  \n",
       "\n",
       "[4 rows x 7 columns]"
      ]
     },
     "execution_count": 2,
     "metadata": {},
     "output_type": "execute_result"
    }
   ],
   "source": [
    "%matplotlib inline\n",
    "import pandas as pd\n",
    "import numpy as np\n",
    "data=pd.read_csv('/home/danhd/Desktop/ZingMp3_Spam/spam-data.txt',sep='\\t',header=None)\n",
    "data.columns = ['songID','IP','username','visitorID','details','t1','t10']\n",
    "data.head(4)"
   ]
  },
  {
   "cell_type": "code",
   "execution_count": 4,
   "metadata": {
    "collapsed": false
   },
   "outputs": [
    {
     "data": {
      "text/plain": [
       "songID  IP             \n",
       "11      113.163.119.217    2\n",
       "        116.100.146.102    1\n",
       "33      113.176.203.219    1\n",
       "101     113.163.17.93      1\n",
       "151     14.174.194.186     1\n",
       "176     14.181.124.83      1\n",
       "dtype: int64"
      ]
     },
     "execution_count": 4,
     "metadata": {},
     "output_type": "execute_result"
    }
   ],
   "source": [
    "groupData=data.groupby(['songID','IP'])\n",
    "groupData.head(6)"
   ]
  },
  {
   "cell_type": "code",
   "execution_count": 81,
   "metadata": {
    "collapsed": false
   },
   "outputs": [
    {
     "data": {
      "text/html": [
       "<div style=\"max-height:1000px;max-width:1500px;overflow:auto;\">\n",
       "<table border=\"1\" class=\"dataframe\">\n",
       "  <thead>\n",
       "    <tr style=\"text-align: right;\">\n",
       "      <th></th>\n",
       "      <th>IP</th>\n",
       "      <th>songID</th>\n",
       "    </tr>\n",
       "    <tr>\n",
       "      <th>songID</th>\n",
       "      <th></th>\n",
       "      <th></th>\n",
       "    </tr>\n",
       "  </thead>\n",
       "  <tbody>\n",
       "    <tr>\n",
       "      <th>11 </th>\n",
       "      <td> 2</td>\n",
       "      <td> 3</td>\n",
       "    </tr>\n",
       "    <tr>\n",
       "      <th>33 </th>\n",
       "      <td> 1</td>\n",
       "      <td> 1</td>\n",
       "    </tr>\n",
       "    <tr>\n",
       "      <th>101</th>\n",
       "      <td> 1</td>\n",
       "      <td> 1</td>\n",
       "    </tr>\n",
       "    <tr>\n",
       "      <th>151</th>\n",
       "      <td> 1</td>\n",
       "      <td> 1</td>\n",
       "    </tr>\n",
       "    <tr>\n",
       "      <th>176</th>\n",
       "      <td> 1</td>\n",
       "      <td> 1</td>\n",
       "    </tr>\n",
       "    <tr>\n",
       "      <th>215</th>\n",
       "      <td> 1</td>\n",
       "      <td> 1</td>\n",
       "    </tr>\n",
       "  </tbody>\n",
       "</table>\n",
       "<p>6 rows × 2 columns</p>\n",
       "</div>"
      ],
      "text/plain": [
       "        IP  songID\n",
       "songID            \n",
       "11       2       3\n",
       "33       1       1\n",
       "101      1       1\n",
       "151      1       1\n",
       "176      1       1\n",
       "215      1       1\n",
       "\n",
       "[6 rows x 2 columns]"
      ]
     },
     "execution_count": 81,
     "metadata": {},
     "output_type": "execute_result"
    }
   ],
   "source": [
    "groupData=data.groupby(['songID']).agg({'IP':pd.Series.nunique,'songID':pd.Series.count})\n",
    "groupData.head(6)"
   ]
  },
  {
   "cell_type": "code",
   "execution_count": 82,
   "metadata": {
    "collapsed": false
   },
   "outputs": [
    {
     "name": "stdout",
     "output_type": "stream",
     "text": [
      "        IP count  Listen count\n",
      "songID                        \n",
      "11             2             3\n",
      "33             1             1\n",
      "101            1             1\n",
      "151            1             1\n",
      "176            1             1\n",
      "215            1             1\n",
      "\n",
      "[6 rows x 2 columns]\n"
     ]
    }
   ],
   "source": [
    "groupData.columns=['IP count','Listen count']\n",
    "print groupData.head(6)"
   ]
  },
  {
   "cell_type": "code",
   "execution_count": 14,
   "metadata": {
    "collapsed": false
   },
   "outputs": [
    {
     "data": {
      "text/html": [
       "<div style=\"max-height:1000px;max-width:1500px;overflow:auto;\">\n",
       "<table border=\"1\" class=\"dataframe\">\n",
       "  <thead>\n",
       "    <tr style=\"text-align: right;\">\n",
       "      <th></th>\n",
       "      <th>songID</th>\n",
       "      <th>visitorID</th>\n",
       "      <th>t1</th>\n",
       "      <th>t10</th>\n",
       "    </tr>\n",
       "  </thead>\n",
       "  <tbody>\n",
       "    <tr>\n",
       "      <th>count</th>\n",
       "      <td> 7.503414e+06</td>\n",
       "      <td>  0</td>\n",
       "      <td> 7503414</td>\n",
       "      <td> 7503414</td>\n",
       "    </tr>\n",
       "    <tr>\n",
       "      <th>mean</th>\n",
       "      <td> 1.036028e+09</td>\n",
       "      <td>NaN</td>\n",
       "      <td>       1</td>\n",
       "      <td>      10</td>\n",
       "    </tr>\n",
       "    <tr>\n",
       "      <th>std</th>\n",
       "      <td> 2.009755e+08</td>\n",
       "      <td>NaN</td>\n",
       "      <td>       0</td>\n",
       "      <td>       0</td>\n",
       "    </tr>\n",
       "    <tr>\n",
       "      <th>min</th>\n",
       "      <td> 1.100000e+01</td>\n",
       "      <td>NaN</td>\n",
       "      <td>       1</td>\n",
       "      <td>      10</td>\n",
       "    </tr>\n",
       "    <tr>\n",
       "      <th>25%</th>\n",
       "      <td> 1.074618e+09</td>\n",
       "      <td>NaN</td>\n",
       "      <td>       1</td>\n",
       "      <td>      10</td>\n",
       "    </tr>\n",
       "    <tr>\n",
       "      <th>50%</th>\n",
       "      <td> 1.075481e+09</td>\n",
       "      <td>NaN</td>\n",
       "      <td>       1</td>\n",
       "      <td>      10</td>\n",
       "    </tr>\n",
       "    <tr>\n",
       "      <th>75%</th>\n",
       "      <td> 1.075750e+09</td>\n",
       "      <td>NaN</td>\n",
       "      <td>       1</td>\n",
       "      <td>      10</td>\n",
       "    </tr>\n",
       "    <tr>\n",
       "      <th>max</th>\n",
       "      <td> 1.075764e+09</td>\n",
       "      <td>NaN</td>\n",
       "      <td>       1</td>\n",
       "      <td>      10</td>\n",
       "    </tr>\n",
       "  </tbody>\n",
       "</table>\n",
       "<p>8 rows × 4 columns</p>\n",
       "</div>"
      ],
      "text/plain": [
       "             songID  visitorID       t1      t10\n",
       "count  7.503414e+06          0  7503414  7503414\n",
       "mean   1.036028e+09        NaN        1       10\n",
       "std    2.009755e+08        NaN        0        0\n",
       "min    1.100000e+01        NaN        1       10\n",
       "25%    1.074618e+09        NaN        1       10\n",
       "50%    1.075481e+09        NaN        1       10\n",
       "75%    1.075750e+09        NaN        1       10\n",
       "max    1.075764e+09        NaN        1       10\n",
       "\n",
       "[8 rows x 4 columns]"
      ]
     },
     "execution_count": 14,
     "metadata": {},
     "output_type": "execute_result"
    }
   ],
   "source": [
    "data.describe()"
   ]
  },
  {
   "cell_type": "code",
   "execution_count": 15,
   "metadata": {
    "collapsed": false
   },
   "outputs": [
    {
     "data": {
      "text/html": [
       "<div style=\"max-height:1000px;max-width:1500px;overflow:auto;\">\n",
       "<table border=\"1\" class=\"dataframe\">\n",
       "  <thead>\n",
       "    <tr style=\"text-align: right;\">\n",
       "      <th></th>\n",
       "      <th>IP</th>\n",
       "      <th>songID</th>\n",
       "    </tr>\n",
       "  </thead>\n",
       "  <tbody>\n",
       "    <tr>\n",
       "      <th>count</th>\n",
       "      <td> 206569.000000</td>\n",
       "      <td> 206569.000000</td>\n",
       "    </tr>\n",
       "    <tr>\n",
       "      <th>mean</th>\n",
       "      <td>     27.294613</td>\n",
       "      <td>     36.324008</td>\n",
       "    </tr>\n",
       "    <tr>\n",
       "      <th>std</th>\n",
       "      <td>    640.641246</td>\n",
       "      <td>    961.251144</td>\n",
       "    </tr>\n",
       "    <tr>\n",
       "      <th>min</th>\n",
       "      <td>      1.000000</td>\n",
       "      <td>      1.000000</td>\n",
       "    </tr>\n",
       "    <tr>\n",
       "      <th>25%</th>\n",
       "      <td>      1.000000</td>\n",
       "      <td>      1.000000</td>\n",
       "    </tr>\n",
       "    <tr>\n",
       "      <th>50%</th>\n",
       "      <td>      1.000000</td>\n",
       "      <td>      2.000000</td>\n",
       "    </tr>\n",
       "    <tr>\n",
       "      <th>75%</th>\n",
       "      <td>      4.000000</td>\n",
       "      <td>      5.000000</td>\n",
       "    </tr>\n",
       "    <tr>\n",
       "      <th>max</th>\n",
       "      <td>  99694.000000</td>\n",
       "      <td> 167738.000000</td>\n",
       "    </tr>\n",
       "  </tbody>\n",
       "</table>\n",
       "<p>8 rows × 2 columns</p>\n",
       "</div>"
      ],
      "text/plain": [
       "                  IP         songID\n",
       "count  206569.000000  206569.000000\n",
       "mean       27.294613      36.324008\n",
       "std       640.641246     961.251144\n",
       "min         1.000000       1.000000\n",
       "25%         1.000000       1.000000\n",
       "50%         1.000000       2.000000\n",
       "75%         4.000000       5.000000\n",
       "max     99694.000000  167738.000000\n",
       "\n",
       "[8 rows x 2 columns]"
      ]
     },
     "execution_count": 15,
     "metadata": {},
     "output_type": "execute_result"
    }
   ],
   "source": [
    "groupData.describe()"
   ]
  },
  {
   "cell_type": "code",
   "execution_count": 83,
   "metadata": {
    "collapsed": false
   },
   "outputs": [
    {
     "data": {
      "text/plain": [
       "<matplotlib.axes.AxesSubplot at 0x7f91dcf03490>"
      ]
     },
     "execution_count": 83,
     "metadata": {},
     "output_type": "execute_result"
    },
    {
     "data": {
      "image/png": "[encoded data removed]",
      "text/plain": [
       "<matplotlib.figure.Figure at 0x7f91dcef2b50>"
      ]
     },
     "metadata": {},
     "output_type": "display_data"
    }
   ],
   "source": [
    "groupData.plot(x='IP count',y='Listen count',style='o')"
   ]
  },
  {
   "cell_type": "code",
   "execution_count": 84,
   "metadata": {
    "collapsed": false
   },
   "outputs": [
    {
     "data": {
      "text/html": [
       "<div style=\"max-height:1000px;max-width:1500px;overflow:auto;\">\n",
       "<table border=\"1\" class=\"dataframe\">\n",
       "  <thead>\n",
       "    <tr style=\"text-align: right;\">\n",
       "      <th></th>\n",
       "      <th>IP count</th>\n",
       "      <th>Listen count</th>\n",
       "    </tr>\n",
       "    <tr>\n",
       "      <th>songID</th>\n",
       "      <th></th>\n",
       "      <th></th>\n",
       "    </tr>\n",
       "  </thead>\n",
       "  <tbody>\n",
       "    <tr>\n",
       "      <th>11 </th>\n",
       "      <td> 2</td>\n",
       "      <td> 3</td>\n",
       "    </tr>\n",
       "    <tr>\n",
       "      <th>33 </th>\n",
       "      <td> 1</td>\n",
       "      <td> 1</td>\n",
       "    </tr>\n",
       "    <tr>\n",
       "      <th>101</th>\n",
       "      <td> 1</td>\n",
       "      <td> 1</td>\n",
       "    </tr>\n",
       "    <tr>\n",
       "      <th>151</th>\n",
       "      <td> 1</td>\n",
       "      <td> 1</td>\n",
       "    </tr>\n",
       "    <tr>\n",
       "      <th>176</th>\n",
       "      <td> 1</td>\n",
       "      <td> 1</td>\n",
       "    </tr>\n",
       "    <tr>\n",
       "      <th>215</th>\n",
       "      <td> 1</td>\n",
       "      <td> 1</td>\n",
       "    </tr>\n",
       "  </tbody>\n",
       "</table>\n",
       "<p>6 rows × 2 columns</p>\n",
       "</div>"
      ],
      "text/plain": [
       "        IP count  Listen count\n",
       "songID                        \n",
       "11             2             3\n",
       "33             1             1\n",
       "101            1             1\n",
       "151            1             1\n",
       "176            1             1\n",
       "215            1             1\n",
       "\n",
       "[6 rows x 2 columns]"
      ]
     },
     "execution_count": 84,
     "metadata": {},
     "output_type": "execute_result"
    }
   ],
   "source": [
    "filterIPData=groupData[groupData['IP count']<=40000]\n",
    "filterIPData.head(6)"
   ]
  },
  {
   "cell_type": "code",
   "execution_count": 85,
   "metadata": {
    "collapsed": false
   },
   "outputs": [
    {
     "data": {
      "text/plain": [
       "<matplotlib.axes.AxesSubplot at 0x7f91dd0aba50>"
      ]
     },
     "execution_count": 85,
     "metadata": {},
     "output_type": "execute_result"
    },
    {
     "data": {
      "image/png": "[encoded data removed]",
      "text/plain": [
       "<matplotlib.figure.Figure at 0x7f91dcfbea50>"
      ]
     },
     "metadata": {},
     "output_type": "display_data"
    }
   ],
   "source": [
    "filterIPData.plot(x='IP count',y='Listen count',style='o')"
   ]
  },
  {
   "cell_type": "code",
   "execution_count": 41,
   "metadata": {
    "collapsed": false
   },
   "outputs": [
    {
     "data": {
      "text/plain": [
       "count     0\n",
       "mean    NaN\n",
       "std     NaN\n",
       "min     NaN\n",
       "25%     NaN\n",
       "50%     NaN\n",
       "75%     NaN\n",
       "max     NaN\n",
       "Name: visitorID, dtype: float64"
      ]
     },
     "execution_count": 41,
     "metadata": {},
     "output_type": "execute_result"
    }
   ],
   "source": [
    "data['visitorID'].describe()"
   ]
  },
  {
   "cell_type": "code",
   "execution_count": 3,
   "metadata": {
    "collapsed": false
   },
   "outputs": [
    {
     "data": {
      "text/html": [
       "<div style=\"max-height:1000px;max-width:1500px;overflow:auto;\">\n",
       "<table border=\"1\" class=\"dataframe\">\n",
       "  <thead>\n",
       "    <tr style=\"text-align: right;\">\n",
       "      <th></th>\n",
       "      <th>songID</th>\n",
       "      <th>IP</th>\n",
       "      <th>username</th>\n",
       "      <th>visitorID</th>\n",
       "      <th>details</th>\n",
       "      <th>t1</th>\n",
       "      <th>t10</th>\n",
       "    </tr>\n",
       "  </thead>\n",
       "  <tbody>\n",
       "    <tr>\n",
       "      <th>1 </th>\n",
       "      <td>    6222235</td>\n",
       "      <td>  42.114.37.199</td>\n",
       "      <td> maimaimotminhta123</td>\n",
       "      <td>NaN</td>\n",
       "      <td> {\"strGenreId\":\"1\",\"artistId\":\"0\",\"id\":\"6222235...</td>\n",
       "      <td> 1</td>\n",
       "      <td> 10</td>\n",
       "    </tr>\n",
       "    <tr>\n",
       "      <th>9 </th>\n",
       "      <td> 1073880377</td>\n",
       "      <td>  118.71.192.75</td>\n",
       "      <td>         b0y0verkiz</td>\n",
       "      <td>NaN</td>\n",
       "      <td> {\"strGenreId\":\"1\",\"from_id\":\"playlist\",\"artist...</td>\n",
       "      <td> 1</td>\n",
       "      <td> 10</td>\n",
       "    </tr>\n",
       "    <tr>\n",
       "      <th>12</th>\n",
       "      <td> 1075213826</td>\n",
       "      <td>   1.55.223.211</td>\n",
       "      <td>          shitanloz</td>\n",
       "      <td>NaN</td>\n",
       "      <td> {\"strGenreId\":\"3\",\"artistId\":\"32138\",\"id\":\"107...</td>\n",
       "      <td> 1</td>\n",
       "      <td> 10</td>\n",
       "    </tr>\n",
       "    <tr>\n",
       "      <th>18</th>\n",
       "      <td> 1075755353</td>\n",
       "      <td>  117.6.127.156</td>\n",
       "      <td>             010ewg</td>\n",
       "      <td>NaN</td>\n",
       "      <td> {\"strGenreId\":\"1\",\"from_id\":\"album\",\"artistId\"...</td>\n",
       "      <td> 1</td>\n",
       "      <td> 10</td>\n",
       "    </tr>\n",
       "    <tr>\n",
       "      <th>29</th>\n",
       "      <td> 1073875809</td>\n",
       "      <td> 123.17.150.112</td>\n",
       "      <td>     princess_clamp</td>\n",
       "      <td>NaN</td>\n",
       "      <td> {\"strGenreId\":\"1\",\"artistId\":\"7902\",\"id\":\"1073...</td>\n",
       "      <td> 1</td>\n",
       "      <td> 10</td>\n",
       "    </tr>\n",
       "    <tr>\n",
       "      <th>39</th>\n",
       "      <td> 1075541198</td>\n",
       "      <td>   42.112.155.3</td>\n",
       "      <td>           sosdl.ke</td>\n",
       "      <td>NaN</td>\n",
       "      <td> {\"strGenreId\":\"1\",\"from_id\":\"playlist\",\"artist...</td>\n",
       "      <td> 1</td>\n",
       "      <td> 10</td>\n",
       "    </tr>\n",
       "  </tbody>\n",
       "</table>\n",
       "<p>6 rows × 7 columns</p>\n",
       "</div>"
      ],
      "text/plain": [
       "        songID              IP            username  visitorID  \\\n",
       "1      6222235   42.114.37.199  maimaimotminhta123        NaN   \n",
       "9   1073880377   118.71.192.75          b0y0verkiz        NaN   \n",
       "12  1075213826    1.55.223.211           shitanloz        NaN   \n",
       "18  1075755353   117.6.127.156              010ewg        NaN   \n",
       "29  1073875809  123.17.150.112      princess_clamp        NaN   \n",
       "39  1075541198    42.112.155.3            sosdl.ke        NaN   \n",
       "\n",
       "                                              details  t1  t10  \n",
       "1   {\"strGenreId\":\"1\",\"artistId\":\"0\",\"id\":\"6222235...   1   10  \n",
       "9   {\"strGenreId\":\"1\",\"from_id\":\"playlist\",\"artist...   1   10  \n",
       "12  {\"strGenreId\":\"3\",\"artistId\":\"32138\",\"id\":\"107...   1   10  \n",
       "18  {\"strGenreId\":\"1\",\"from_id\":\"album\",\"artistId\"...   1   10  \n",
       "29  {\"strGenreId\":\"1\",\"artistId\":\"7902\",\"id\":\"1073...   1   10  \n",
       "39  {\"strGenreId\":\"1\",\"from_id\":\"playlist\",\"artist...   1   10  \n",
       "\n",
       "[6 rows x 7 columns]"
      ]
     },
     "execution_count": 3,
     "metadata": {},
     "output_type": "execute_result"
    }
   ],
   "source": [
    "import numpy as np\n",
    "dataUser=data.dropna(subset=['username'])\n",
    "dataUser.head(6)"
   ]
  },
  {
   "cell_type": "code",
   "execution_count": 4,
   "metadata": {
    "collapsed": false
   },
   "outputs": [
    {
     "name": "stdout",
     "output_type": "stream",
     "text": [
      "        User count  Listen count\n",
      "songID                          \n",
      "101              1             1\n",
      "505              1             1\n",
      "526              1             1\n",
      "604              1             1\n",
      "627              1             1\n",
      "638              2             2\n",
      "\n",
      "[6 rows x 2 columns]\n"
     ]
    }
   ],
   "source": [
    "groupUserData=dataUser.groupby(['songID']).agg({'username':pd.Series.nunique,'songID':pd.Series.count})\n",
    "groupUserData.columns=['User count','Listen count']\n",
    "print groupUserData.head(6)"
   ]
  },
  {
   "cell_type": "code",
   "execution_count": 5,
   "metadata": {
    "collapsed": false
   },
   "outputs": [
    {
     "data": {
      "text/plain": [
       "<matplotlib.axes.AxesSubplot at 0x7f1faae8a950>"
      ]
     },
     "execution_count": 5,
     "metadata": {},
     "output_type": "execute_result"
    },
    {
     "data": {
      "image/png": "[encoded data removed]",
      "text/plain": [
       "<matplotlib.figure.Figure at 0x7f1fd6b1d3d0>"
      ]
     },
     "metadata": {},
     "output_type": "display_data"
    }
   ],
   "source": [
    "groupUserData.plot(x='User count',y='Listen count',style='o')"
   ]
  },
  {
   "cell_type": "code",
   "execution_count": 78,
   "metadata": {
    "collapsed": false
   },
   "outputs": [
    {
     "data": {
      "text/html": [
       "<div style=\"max-height:1000px;max-width:1500px;overflow:auto;\">\n",
       "<table border=\"1\" class=\"dataframe\">\n",
       "  <thead>\n",
       "    <tr style=\"text-align: right;\">\n",
       "      <th></th>\n",
       "      <th>User count</th>\n",
       "      <th>Listen count</th>\n",
       "    </tr>\n",
       "  </thead>\n",
       "  <tbody>\n",
       "    <tr>\n",
       "      <th>count</th>\n",
       "      <td> 81175.000000</td>\n",
       "      <td>  81175.000000</td>\n",
       "    </tr>\n",
       "    <tr>\n",
       "      <th>mean</th>\n",
       "      <td>     9.091124</td>\n",
       "      <td>     15.256458</td>\n",
       "    </tr>\n",
       "    <tr>\n",
       "      <th>std</th>\n",
       "      <td>   103.084892</td>\n",
       "      <td>    475.104032</td>\n",
       "    </tr>\n",
       "    <tr>\n",
       "      <th>min</th>\n",
       "      <td>     1.000000</td>\n",
       "      <td>      1.000000</td>\n",
       "    </tr>\n",
       "    <tr>\n",
       "      <th>25%</th>\n",
       "      <td>     1.000000</td>\n",
       "      <td>      1.000000</td>\n",
       "    </tr>\n",
       "    <tr>\n",
       "      <th>50%</th>\n",
       "      <td>     1.000000</td>\n",
       "      <td>      2.000000</td>\n",
       "    </tr>\n",
       "    <tr>\n",
       "      <th>75%</th>\n",
       "      <td>     3.000000</td>\n",
       "      <td>      4.000000</td>\n",
       "    </tr>\n",
       "    <tr>\n",
       "      <th>max</th>\n",
       "      <td>  9938.000000</td>\n",
       "      <td> 124832.000000</td>\n",
       "    </tr>\n",
       "  </tbody>\n",
       "</table>\n",
       "<p>8 rows × 2 columns</p>\n",
       "</div>"
      ],
      "text/plain": [
       "         User count   Listen count\n",
       "count  81175.000000   81175.000000\n",
       "mean       9.091124      15.256458\n",
       "std      103.084892     475.104032\n",
       "min        1.000000       1.000000\n",
       "25%        1.000000       1.000000\n",
       "50%        1.000000       2.000000\n",
       "75%        3.000000       4.000000\n",
       "max     9938.000000  124832.000000\n",
       "\n",
       "[8 rows x 2 columns]"
      ]
     },
     "execution_count": 78,
     "metadata": {},
     "output_type": "execute_result"
    }
   ],
   "source": [
    "groupUserData.describe()"
   ]
  },
  {
   "cell_type": "code",
   "execution_count": 67,
   "metadata": {
    "collapsed": false
   },
   "outputs": [
    {
     "data": {
      "text/html": [
       "<div style=\"max-height:1000px;max-width:1500px;overflow:auto;\">\n",
       "<table border=\"1\" class=\"dataframe\">\n",
       "  <thead>\n",
       "    <tr style=\"text-align: right;\">\n",
       "      <th></th>\n",
       "      <th>User count</th>\n",
       "      <th>Listen count</th>\n",
       "    </tr>\n",
       "    <tr>\n",
       "      <th>songID</th>\n",
       "      <th></th>\n",
       "      <th></th>\n",
       "    </tr>\n",
       "  </thead>\n",
       "  <tbody>\n",
       "    <tr>\n",
       "      <th>101</th>\n",
       "      <td> 1</td>\n",
       "      <td> 1</td>\n",
       "    </tr>\n",
       "    <tr>\n",
       "      <th>505</th>\n",
       "      <td> 1</td>\n",
       "      <td> 1</td>\n",
       "    </tr>\n",
       "    <tr>\n",
       "      <th>526</th>\n",
       "      <td> 1</td>\n",
       "      <td> 1</td>\n",
       "    </tr>\n",
       "    <tr>\n",
       "      <th>604</th>\n",
       "      <td> 1</td>\n",
       "      <td> 1</td>\n",
       "    </tr>\n",
       "    <tr>\n",
       "      <th>627</th>\n",
       "      <td> 1</td>\n",
       "      <td> 1</td>\n",
       "    </tr>\n",
       "    <tr>\n",
       "      <th>638</th>\n",
       "      <td> 2</td>\n",
       "      <td> 2</td>\n",
       "    </tr>\n",
       "  </tbody>\n",
       "</table>\n",
       "<p>6 rows × 2 columns</p>\n",
       "</div>"
      ],
      "text/plain": [
       "        User count  Listen count\n",
       "songID                          \n",
       "101              1             1\n",
       "505              1             1\n",
       "526              1             1\n",
       "604              1             1\n",
       "627              1             1\n",
       "638              2             2\n",
       "\n",
       "[6 rows x 2 columns]"
      ]
     },
     "execution_count": 67,
     "metadata": {},
     "output_type": "execute_result"
    }
   ],
   "source": [
    "filterData=groupUserData[groupUserData['User count']<=4000]\n",
    "filterData.head(6)"
   ]
  },
  {
   "cell_type": "code",
   "execution_count": 68,
   "metadata": {
    "collapsed": false
   },
   "outputs": [
    {
     "data": {
      "text/plain": [
       "<matplotlib.axes.AxesSubplot at 0x7f91dd0224d0>"
      ]
     },
     "execution_count": 68,
     "metadata": {},
     "output_type": "execute_result"
    },
    {
     "data": {
      "image/png": "[encoded data removed]",
      "text/plain": [
       "<matplotlib.figure.Figure at 0x7f91dd0abad0>"
      ]
     },
     "metadata": {},
     "output_type": "display_data"
    }
   ],
   "source": [
    "filterData.plot(x='User count',y='Listen count',style='o')"
   ]
  },
  {
   "cell_type": "code",
   "execution_count": 61,
   "metadata": {
    "collapsed": false
   },
   "outputs": [
    {
     "name": "stdout",
     "output_type": "stream",
     "text": [
      "            User count  Listen count\n",
      "songID                              \n",
      "1075509248          68         24924\n",
      "1075528563        1003          6610\n",
      "1075551390        1231         10914\n",
      "1075750534        1744          9305\n",
      "1075750904        2806        124832\n",
      "1075752143        1010          6928\n",
      "1075752246        3974          6361\n",
      "1075755099        3869          5285\n",
      "\n",
      "[8 rows x 2 columns]\n"
     ]
    }
   ],
   "source": [
    "abnormal=filterData[filterData['Listen count']>5000]\n",
    "print abnormal"
   ]
  },
  {
   "cell_type": "markdown",
   "metadata": {},
   "source": [
    "# For Username"
   ]
  },
  {
   "cell_type": "code",
   "execution_count": 52,
   "metadata": {
    "collapsed": false
   },
   "outputs": [
    {
     "data": {
      "text/html": [
       "<div style=\"max-height:1000px;max-width:1500px;overflow:auto;\">\n",
       "<table border=\"1\" class=\"dataframe\">\n",
       "  <thead>\n",
       "    <tr style=\"text-align: right;\">\n",
       "      <th></th>\n",
       "      <th>username</th>\n",
       "      <th>songID</th>\n",
       "    </tr>\n",
       "    <tr>\n",
       "      <th>username</th>\n",
       "      <th></th>\n",
       "      <th></th>\n",
       "    </tr>\n",
       "  </thead>\n",
       "  <tbody>\n",
       "    <tr>\n",
       "      <th>0.gameplay</th>\n",
       "      <td>  7</td>\n",
       "      <td>  7</td>\n",
       "    </tr>\n",
       "    <tr>\n",
       "      <th>0000bi1111</th>\n",
       "      <td>  1</td>\n",
       "      <td>  1</td>\n",
       "    </tr>\n",
       "    <tr>\n",
       "      <th>000111sdfg</th>\n",
       "      <td> 23</td>\n",
       "      <td> 18</td>\n",
       "    </tr>\n",
       "    <tr>\n",
       "      <th>0007thien</th>\n",
       "      <td> 13</td>\n",
       "      <td> 11</td>\n",
       "    </tr>\n",
       "    <tr>\n",
       "      <th>000baokhanh</th>\n",
       "      <td> 18</td>\n",
       "      <td> 14</td>\n",
       "    </tr>\n",
       "    <tr>\n",
       "      <th>000c0c000</th>\n",
       "      <td>  1</td>\n",
       "      <td>  1</td>\n",
       "    </tr>\n",
       "  </tbody>\n",
       "</table>\n",
       "<p>6 rows × 2 columns</p>\n",
       "</div>"
      ],
      "text/plain": [
       "             username  songID\n",
       "username                     \n",
       "0.gameplay          7       7\n",
       "0000bi1111          1       1\n",
       "000111sdfg         23      18\n",
       "0007thien          13      11\n",
       "000baokhanh        18      14\n",
       "000c0c000           1       1\n",
       "\n",
       "[6 rows x 2 columns]"
      ]
     },
     "execution_count": 52,
     "metadata": {},
     "output_type": "execute_result"
    }
   ],
   "source": [
    "groupUser=dataUser.groupby(['username']).agg({'songID':pd.Series.nunique,'username':pd.Series.count})\n",
    "groupUser.head(6)"
   ]
  },
  {
   "cell_type": "code",
   "execution_count": 53,
   "metadata": {
    "collapsed": false
   },
   "outputs": [
    {
     "name": "stdout",
     "output_type": "stream",
     "text": [
      "             Listen count  Song count\n",
      "username                             \n",
      "0.gameplay              7           7\n",
      "0000bi1111              1           1\n",
      "000111sdfg             23          18\n",
      "0007thien              13          11\n",
      "000baokhanh            18          14\n",
      "000c0c000               1           1\n",
      "\n",
      "[6 rows x 2 columns]\n"
     ]
    }
   ],
   "source": [
    "groupUser.columns=['Listen count','Song count']\n",
    "print groupUser.head(6)\n"
   ]
  },
  {
   "cell_type": "code",
   "execution_count": 54,
   "metadata": {
    "collapsed": false
   },
   "outputs": [
    {
     "data": {
      "text/plain": [
       "<matplotlib.axes.AxesSubplot at 0x7f91de015c50>"
      ]
     },
     "execution_count": 54,
     "metadata": {},
     "output_type": "execute_result"
    },
    {
     "data": {
      "image/png": "[encoded data removed]",
      "text/plain": [
       "<matplotlib.figure.Figure at 0x7f91ddeccfd0>"
      ]
     },
     "metadata": {},
     "output_type": "display_data"
    }
   ],
   "source": [
    "groupUser.plot(x='Song count',y='Listen count',style='o')"
   ]
  },
  {
   "cell_type": "markdown",
   "metadata": {},
   "source": [
    "# For IP"
   ]
  },
  {
   "cell_type": "code",
   "execution_count": 56,
   "metadata": {
    "collapsed": false
   },
   "outputs": [
    {
     "data": {
      "text/html": [
       "<div style=\"max-height:1000px;max-width:1500px;overflow:auto;\">\n",
       "<table border=\"1\" class=\"dataframe\">\n",
       "  <thead>\n",
       "    <tr style=\"text-align: right;\">\n",
       "      <th></th>\n",
       "      <th>IP</th>\n",
       "      <th>songID</th>\n",
       "    </tr>\n",
       "    <tr>\n",
       "      <th>IP</th>\n",
       "      <th></th>\n",
       "      <th></th>\n",
       "    </tr>\n",
       "  </thead>\n",
       "  <tbody>\n",
       "    <tr>\n",
       "      <th>0.0.111.228</th>\n",
       "      <td> 1</td>\n",
       "      <td> 1</td>\n",
       "    </tr>\n",
       "    <tr>\n",
       "      <th>0.0.39.210</th>\n",
       "      <td> 1</td>\n",
       "      <td> 1</td>\n",
       "    </tr>\n",
       "    <tr>\n",
       "      <th>0.126.211.43</th>\n",
       "      <td> 1</td>\n",
       "      <td> 1</td>\n",
       "    </tr>\n",
       "    <tr>\n",
       "      <th>0.135.170.170</th>\n",
       "      <td> 1</td>\n",
       "      <td> 1</td>\n",
       "    </tr>\n",
       "    <tr>\n",
       "      <th>1.0.255.125</th>\n",
       "      <td> 1</td>\n",
       "      <td> 1</td>\n",
       "    </tr>\n",
       "    <tr>\n",
       "      <th>1.1.145.81</th>\n",
       "      <td> 1</td>\n",
       "      <td> 1</td>\n",
       "    </tr>\n",
       "  </tbody>\n",
       "</table>\n",
       "<p>6 rows × 2 columns</p>\n",
       "</div>"
      ],
      "text/plain": [
       "               IP  songID\n",
       "IP                       \n",
       "0.0.111.228     1       1\n",
       "0.0.39.210      1       1\n",
       "0.126.211.43    1       1\n",
       "0.135.170.170   1       1\n",
       "1.0.255.125     1       1\n",
       "1.1.145.81      1       1\n",
       "\n",
       "[6 rows x 2 columns]"
      ]
     },
     "execution_count": 56,
     "metadata": {},
     "output_type": "execute_result"
    }
   ],
   "source": [
    "groupIPData=data.groupby(['IP']).agg({'songID':pd.Series.nunique,'IP':pd.Series.count})\n",
    "groupIPData.head(6)"
   ]
  },
  {
   "cell_type": "code",
   "execution_count": 57,
   "metadata": {
    "collapsed": false
   },
   "outputs": [
    {
     "name": "stdout",
     "output_type": "stream",
     "text": [
      "               Listen count  Song count\n",
      "IP                                     \n",
      "0.0.111.228               1           1\n",
      "0.0.39.210                1           1\n",
      "0.126.211.43              1           1\n",
      "0.135.170.170             1           1\n",
      "1.0.255.125               1           1\n",
      "1.1.145.81                1           1\n",
      "\n",
      "[6 rows x 2 columns]\n"
     ]
    }
   ],
   "source": [
    "groupIPData.columns=['Listen count','Song count']\n",
    "print groupIPData.head(6)"
   ]
  },
  {
   "cell_type": "code",
   "execution_count": 69,
   "metadata": {
    "collapsed": false
   },
   "outputs": [
    {
     "data": {
      "text/plain": [
       "<matplotlib.axes.AxesSubplot at 0x7f91ddbe88d0>"
      ]
     },
     "execution_count": 69,
     "metadata": {},
     "output_type": "execute_result"
    },
    {
     "data": {
      "image/png": "[encoded data removed]",
      "text/plain": [
       "<matplotlib.figure.Figure at 0x7f91dd085490>"
      ]
     },
     "metadata": {},
     "output_type": "display_data"
    }
   ],
   "source": [
    "groupIPData.plot(x='Song count',y='Listen count',style='o')"
   ]
  },
  {
   "cell_type": "code",
   "execution_count": 70,
   "metadata": {
    "collapsed": false
   },
   "outputs": [
    {
     "data": {
      "text/html": [
       "<div style=\"max-height:1000px;max-width:1500px;overflow:auto;\">\n",
       "<table border=\"1\" class=\"dataframe\">\n",
       "  <thead>\n",
       "    <tr style=\"text-align: right;\">\n",
       "      <th></th>\n",
       "      <th>songID</th>\n",
       "      <th>IP</th>\n",
       "      <th>username</th>\n",
       "      <th>visitorID</th>\n",
       "      <th>details</th>\n",
       "      <th>t1</th>\n",
       "      <th>t10</th>\n",
       "    </tr>\n",
       "  </thead>\n",
       "  <tbody>\n",
       "    <tr>\n",
       "      <th>0</th>\n",
       "      <td> 1075542680</td>\n",
       "      <td>      1.55.197.9</td>\n",
       "      <td>                NaN</td>\n",
       "      <td>NaN</td>\n",
       "      <td> {\"strGenreId\":\"1\",\"from_id\":\"album\",\"artistId\"...</td>\n",
       "      <td> 1</td>\n",
       "      <td> 10</td>\n",
       "    </tr>\n",
       "    <tr>\n",
       "      <th>1</th>\n",
       "      <td>    6222235</td>\n",
       "      <td>   42.114.37.199</td>\n",
       "      <td> maimaimotminhta123</td>\n",
       "      <td>NaN</td>\n",
       "      <td> {\"strGenreId\":\"1\",\"artistId\":\"0\",\"id\":\"6222235...</td>\n",
       "      <td> 1</td>\n",
       "      <td> 10</td>\n",
       "    </tr>\n",
       "    <tr>\n",
       "      <th>2</th>\n",
       "      <td> 1074700863</td>\n",
       "      <td>   118.70.81.116</td>\n",
       "      <td>                NaN</td>\n",
       "      <td>NaN</td>\n",
       "      <td> {\"strGenreId\":\"1\",\"artistId\":\"40466\",\"id\":\"107...</td>\n",
       "      <td> 1</td>\n",
       "      <td> 10</td>\n",
       "    </tr>\n",
       "    <tr>\n",
       "      <th>3</th>\n",
       "      <td> 1074797521</td>\n",
       "      <td> 113.175.241.192</td>\n",
       "      <td>                NaN</td>\n",
       "      <td>NaN</td>\n",
       "      <td> {\"strGenreId\":\"1\",\"artistId\":\"16409\",\"id\":\"107...</td>\n",
       "      <td> 1</td>\n",
       "      <td> 10</td>\n",
       "    </tr>\n",
       "    <tr>\n",
       "      <th>4</th>\n",
       "      <td> 1075758987</td>\n",
       "      <td>  14.176.230.140</td>\n",
       "      <td>                NaN</td>\n",
       "      <td>NaN</td>\n",
       "      <td> {\"strGenreId\":\"1\",\"artistId\":\"66503\",\"id\":\"107...</td>\n",
       "      <td> 1</td>\n",
       "      <td> 10</td>\n",
       "    </tr>\n",
       "    <tr>\n",
       "      <th>5</th>\n",
       "      <td>    6073170</td>\n",
       "      <td>   101.53.22.206</td>\n",
       "      <td>                NaN</td>\n",
       "      <td>NaN</td>\n",
       "      <td> {\"strGenreId\":\"3\",\"artistId\":\"0\",\"id\":\"6073170...</td>\n",
       "      <td> 1</td>\n",
       "      <td> 10</td>\n",
       "    </tr>\n",
       "  </tbody>\n",
       "</table>\n",
       "<p>6 rows × 7 columns</p>\n",
       "</div>"
      ],
      "text/plain": [
       "       songID               IP            username  visitorID  \\\n",
       "0  1075542680       1.55.197.9                 NaN        NaN   \n",
       "1     6222235    42.114.37.199  maimaimotminhta123        NaN   \n",
       "2  1074700863    118.70.81.116                 NaN        NaN   \n",
       "3  1074797521  113.175.241.192                 NaN        NaN   \n",
       "4  1075758987   14.176.230.140                 NaN        NaN   \n",
       "5     6073170    101.53.22.206                 NaN        NaN   \n",
       "\n",
       "                                             details  t1  t10  \n",
       "0  {\"strGenreId\":\"1\",\"from_id\":\"album\",\"artistId\"...   1   10  \n",
       "1  {\"strGenreId\":\"1\",\"artistId\":\"0\",\"id\":\"6222235...   1   10  \n",
       "2  {\"strGenreId\":\"1\",\"artistId\":\"40466\",\"id\":\"107...   1   10  \n",
       "3  {\"strGenreId\":\"1\",\"artistId\":\"16409\",\"id\":\"107...   1   10  \n",
       "4  {\"strGenreId\":\"1\",\"artistId\":\"66503\",\"id\":\"107...   1   10  \n",
       "5  {\"strGenreId\":\"3\",\"artistId\":\"0\",\"id\":\"6073170...   1   10  \n",
       "\n",
       "[6 rows x 7 columns]"
      ]
     },
     "execution_count": 70,
     "metadata": {},
     "output_type": "execute_result"
    }
   ],
   "source": [
    "data.head(6)"
   ]
  },
  {
   "cell_type": "code",
   "execution_count": 76,
   "metadata": {
    "collapsed": false
   },
   "outputs": [
    {
     "data": {
      "text/html": [
       "<div style=\"max-height:1000px;max-width:1500px;overflow:auto;\">\n",
       "<table border=\"1\" class=\"dataframe\">\n",
       "  <thead>\n",
       "    <tr style=\"text-align: right;\">\n",
       "      <th></th>\n",
       "      <th>songID</th>\n",
       "      <th>IP</th>\n",
       "      <th>username</th>\n",
       "    </tr>\n",
       "  </thead>\n",
       "  <tbody>\n",
       "    <tr>\n",
       "      <th>0</th>\n",
       "      <td> 1075542680</td>\n",
       "      <td>      1.55.197.9</td>\n",
       "      <td>                NaN</td>\n",
       "    </tr>\n",
       "    <tr>\n",
       "      <th>1</th>\n",
       "      <td>    6222235</td>\n",
       "      <td>   42.114.37.199</td>\n",
       "      <td> maimaimotminhta123</td>\n",
       "    </tr>\n",
       "    <tr>\n",
       "      <th>2</th>\n",
       "      <td> 1074700863</td>\n",
       "      <td>   118.70.81.116</td>\n",
       "      <td>                NaN</td>\n",
       "    </tr>\n",
       "    <tr>\n",
       "      <th>3</th>\n",
       "      <td> 1074797521</td>\n",
       "      <td> 113.175.241.192</td>\n",
       "      <td>                NaN</td>\n",
       "    </tr>\n",
       "    <tr>\n",
       "      <th>4</th>\n",
       "      <td> 1075758987</td>\n",
       "      <td>  14.176.230.140</td>\n",
       "      <td>                NaN</td>\n",
       "    </tr>\n",
       "    <tr>\n",
       "      <th>5</th>\n",
       "      <td>    6073170</td>\n",
       "      <td>   101.53.22.206</td>\n",
       "      <td>                NaN</td>\n",
       "    </tr>\n",
       "  </tbody>\n",
       "</table>\n",
       "<p>6 rows × 3 columns</p>\n",
       "</div>"
      ],
      "text/plain": [
       "       songID               IP            username\n",
       "0  1075542680       1.55.197.9                 NaN\n",
       "1     6222235    42.114.37.199  maimaimotminhta123\n",
       "2  1074700863    118.70.81.116                 NaN\n",
       "3  1074797521  113.175.241.192                 NaN\n",
       "4  1075758987   14.176.230.140                 NaN\n",
       "5     6073170    101.53.22.206                 NaN\n",
       "\n",
       "[6 rows x 3 columns]"
      ]
     },
     "execution_count": 76,
     "metadata": {},
     "output_type": "execute_result"
    }
   ],
   "source": [
    "exportData=data[['songID','IP','username']]\n",
    "exportData.head(6)"
   ]
  },
  {
   "cell_type": "code",
   "execution_count": 77,
   "metadata": {
    "collapsed": true
   },
   "outputs": [],
   "source": [
    "exportData.to_csv('data_0410', sep='\\t')"
   ]
  },
  {
   "cell_type": "code",
   "execution_count": 16,
   "metadata": {
    "collapsed": false
   },
   "outputs": [
    {
     "data": {
      "text/html": [
       "<div style=\"max-height:1000px;max-width:1500px;overflow:auto;\">\n",
       "<table border=\"1\" class=\"dataframe\">\n",
       "  <thead>\n",
       "    <tr style=\"text-align: right;\">\n",
       "      <th></th>\n",
       "      <th>User count</th>\n",
       "      <th>Listen count</th>\n",
       "    </tr>\n",
       "    <tr>\n",
       "      <th>songID</th>\n",
       "      <th></th>\n",
       "      <th></th>\n",
       "    </tr>\n",
       "  </thead>\n",
       "  <tbody>\n",
       "    <tr>\n",
       "      <th>101</th>\n",
       "      <td> 1</td>\n",
       "      <td> 1</td>\n",
       "    </tr>\n",
       "    <tr>\n",
       "      <th>505</th>\n",
       "      <td> 1</td>\n",
       "      <td> 1</td>\n",
       "    </tr>\n",
       "    <tr>\n",
       "      <th>526</th>\n",
       "      <td> 1</td>\n",
       "      <td> 1</td>\n",
       "    </tr>\n",
       "    <tr>\n",
       "      <th>604</th>\n",
       "      <td> 1</td>\n",
       "      <td> 1</td>\n",
       "    </tr>\n",
       "    <tr>\n",
       "      <th>627</th>\n",
       "      <td> 1</td>\n",
       "      <td> 1</td>\n",
       "    </tr>\n",
       "    <tr>\n",
       "      <th>638</th>\n",
       "      <td> 2</td>\n",
       "      <td> 2</td>\n",
       "    </tr>\n",
       "  </tbody>\n",
       "</table>\n",
       "<p>6 rows × 2 columns</p>\n",
       "</div>"
      ],
      "text/plain": [
       "        User count  Listen count\n",
       "songID                          \n",
       "101              1             1\n",
       "505              1             1\n",
       "526              1             1\n",
       "604              1             1\n",
       "627              1             1\n",
       "638              2             2\n",
       "\n",
       "[6 rows x 2 columns]"
      ]
     },
     "execution_count": 16,
     "metadata": {},
     "output_type": "execute_result"
    }
   ],
   "source": [
    " dataTo=groupUserData[['User count','Listen count']]\n",
    "dataTo.head(6)"
   ]
  },
  {
   "cell_type": "code",
   "execution_count": 18,
   "metadata": {
    "collapsed": false
   },
   "outputs": [],
   "source": [
    "dataTo.to_csv('data', sep='\\t')"
   ]
  },
  {
   "cell_type": "code",
   "execution_count": 170,
   "metadata": {
    "collapsed": false
   },
   "outputs": [
    {
     "data": {
      "text/plain": [
       "array([[ 1.87128912]])"
      ]
     },
     "execution_count": 170,
     "metadata": {},
     "output_type": "execute_result"
    }
   ],
   "source": [
    "from sklearn.linear_model import LinearRegression\n",
    "lr = LinearRegression()\n",
    "X = [[x] for x in groupUserData['User count'].values]\n",
    "Y = [[x] for x in groupUserData['Listen count'].values]\n",
    "lr.fit(X,Y)\n",
    "LinearRegression(copy_X=True, fit_intercept=True, normalize=False)\n",
    "lr.coef_\n"
   ]
  },
  {
   "cell_type": "code",
   "execution_count": 22,
   "metadata": {
    "collapsed": false
   },
   "outputs": [
    {
     "data": {
      "text/plain": [
       "array([-1.75566341])"
      ]
     },
     "execution_count": 22,
     "metadata": {},
     "output_type": "execute_result"
    }
   ],
   "source": [
    "lr.intercept_"
   ]
  },
  {
   "cell_type": "code",
   "execution_count": null,
   "metadata": {
    "collapsed": false
   },
   "outputs": [],
   "source": []
  },
  {
   "cell_type": "code",
   "execution_count": 23,
   "metadata": {
    "collapsed": false,
    "scrolled": true
   },
   "outputs": [
    {
     "name": "stdout",
     "output_type": "stream",
     "text": [
      "                            OLS Regression Results                            \n",
      "==============================================================================\n",
      "Dep. Variable:                      y   R-squared:                       0.166\n",
      "Model:                            OLS   Adj. R-squared:                  0.166\n",
      "Method:                 Least Squares   F-statistic:                 1.612e+04\n",
      "Date:                Fri, 14 Oct 2016   Prob (F-statistic):               0.00\n",
      "Time:                        09:01:56   Log-Likelihood:            -6.0820e+05\n",
      "No. Observations:               81175   AIC:                         1.216e+06\n",
      "Df Residuals:                   81174   BIC:                         1.216e+06\n",
      "Df Model:                           1                                         \n",
      "==============================================================================\n",
      "                 coef    std err          t      P>|t|      [95.0% Conf. Int.]\n",
      "------------------------------------------------------------------------------\n",
      "x1             1.8698      0.015    126.972      0.000         1.841     1.899\n",
      "==============================================================================\n",
      "Omnibus:                   427402.259   Durbin-Watson:                   1.994\n",
      "Prob(Omnibus):                  0.000   Jarque-Bera (JB):   17065934064832.855\n",
      "Skew:                         259.822   Prob(JB):                         0.00\n",
      "Kurtosis:                   71033.992   Cond. No.                         1.00\n",
      "==============================================================================\n"
     ]
    }
   ],
   "source": [
    "import numpy as np\n",
    "import statsmodels.api as sm\n",
    "X = [[x] for x in groupUserData['User count'].values]\n",
    "Y = [[x] for x in groupUserData['Listen count'].values]\n",
    "results = sm.OLS(Y, X).fit()\n",
    "print results.summary()\n"
   ]
  },
  {
   "cell_type": "code",
   "execution_count": 171,
   "metadata": {
    "collapsed": false,
    "scrolled": true
   },
   "outputs": [
    {
     "data": {
      "text/plain": [
       "<matplotlib.axes.AxesSubplot at 0x7f1fcacb2c10>"
      ]
     },
     "execution_count": 171,
     "metadata": {},
     "output_type": "execute_result"
    },
    {
     "data": {
      "image/png": "[encoded data removed]",
      "text/plain": [
       "<matplotlib.figure.Figure at 0x7f1fce2d0390>"
      ]
     },
     "metadata": {},
     "output_type": "display_data"
    }
   ],
   "source": [
    "y2=groupUserData['User count']*1.87128912-1.75566341\n",
    "y2=pd.concat([groupUserData['User count'], y2], axis=1)\n",
    "y2.columns=['User count','Listen count']\n",
    "y2.plot(x='User count',y='Listen count',style='o',xlim=(0,10000),ylim=(0,140000))"
   ]
  },
  {
   "cell_type": "code",
   "execution_count": 78,
   "metadata": {
    "collapsed": false
   },
   "outputs": [
    {
     "data": {
      "text/plain": [
       "<matplotlib.axes.AxesSubplot at 0x7f1fcefacb90>"
      ]
     },
     "execution_count": 78,
     "metadata": {},
     "output_type": "execute_result"
    },
    {
     "data": {
      "image/png": "[encoded data removed]",
      "text/plain": [
       "<matplotlib.figure.Figure at 0x7f1fcf031590>"
      ]
     },
     "metadata": {},
     "output_type": "display_data"
    }
   ],
   "source": [
    "groupUserData.plot(x='User count',y='Listen count',style='o')"
   ]
  },
  {
   "cell_type": "code",
   "execution_count": 7,
   "metadata": {
    "collapsed": false
   },
   "outputs": [
    {
     "data": {
      "text/html": [
       "<div style=\"max-height:1000px;max-width:1500px;overflow:auto;\">\n",
       "<table border=\"1\" class=\"dataframe\">\n",
       "  <thead>\n",
       "    <tr style=\"text-align: right;\">\n",
       "      <th></th>\n",
       "      <th>User count</th>\n",
       "      <th>Listen count</th>\n",
       "    </tr>\n",
       "  </thead>\n",
       "  <tbody>\n",
       "    <tr>\n",
       "      <th>count</th>\n",
       "      <td> 81175.000000</td>\n",
       "      <td>  81175.000000</td>\n",
       "    </tr>\n",
       "    <tr>\n",
       "      <th>mean</th>\n",
       "      <td>     9.091124</td>\n",
       "      <td>     15.256458</td>\n",
       "    </tr>\n",
       "    <tr>\n",
       "      <th>std</th>\n",
       "      <td>   103.084892</td>\n",
       "      <td>    475.104032</td>\n",
       "    </tr>\n",
       "    <tr>\n",
       "      <th>min</th>\n",
       "      <td>     1.000000</td>\n",
       "      <td>      1.000000</td>\n",
       "    </tr>\n",
       "    <tr>\n",
       "      <th>25%</th>\n",
       "      <td>     1.000000</td>\n",
       "      <td>      1.000000</td>\n",
       "    </tr>\n",
       "    <tr>\n",
       "      <th>50%</th>\n",
       "      <td>     1.000000</td>\n",
       "      <td>      2.000000</td>\n",
       "    </tr>\n",
       "    <tr>\n",
       "      <th>75%</th>\n",
       "      <td>     3.000000</td>\n",
       "      <td>      4.000000</td>\n",
       "    </tr>\n",
       "    <tr>\n",
       "      <th>max</th>\n",
       "      <td>  9938.000000</td>\n",
       "      <td> 124832.000000</td>\n",
       "    </tr>\n",
       "  </tbody>\n",
       "</table>\n",
       "<p>8 rows × 2 columns</p>\n",
       "</div>"
      ],
      "text/plain": [
       "         User count   Listen count\n",
       "count  81175.000000   81175.000000\n",
       "mean       9.091124      15.256458\n",
       "std      103.084892     475.104032\n",
       "min        1.000000       1.000000\n",
       "25%        1.000000       1.000000\n",
       "50%        1.000000       2.000000\n",
       "75%        3.000000       4.000000\n",
       "max     9938.000000  124832.000000\n",
       "\n",
       "[8 rows x 2 columns]"
      ]
     },
     "execution_count": 7,
     "metadata": {},
     "output_type": "execute_result"
    }
   ],
   "source": [
    "groupUserData.describe()"
   ]
  },
  {
   "cell_type": "code",
   "execution_count": 110,
   "metadata": {
    "collapsed": false,
    "scrolled": true
   },
   "outputs": [
    {
     "name": "stdout",
     "output_type": "stream",
     "text": [
      "-3.5 8.5\n"
     ]
    }
   ],
   "source": [
    "groupUserInt=groupUserData['Listen count'].values.astype(int)\n",
    "Q3, Q1 = np.percentile(groupUserInt, [75 ,25])\n",
    "IQR=Q3-Q1\n",
    "neg=Q1-1.5*IQR\n",
    "pos=Q3+1.5*IQR\n",
    "print neg, pos\n"
   ]
  },
  {
   "cell_type": "code",
   "execution_count": 154,
   "metadata": {
    "collapsed": false
   },
   "outputs": [
    {
     "data": {
      "text/html": [
       "<div style=\"max-height:1000px;max-width:1500px;overflow:auto;\">\n",
       "<table border=\"1\" class=\"dataframe\">\n",
       "  <thead>\n",
       "    <tr style=\"text-align: right;\">\n",
       "      <th></th>\n",
       "      <th>User count</th>\n",
       "      <th>Listen count</th>\n",
       "    </tr>\n",
       "    <tr>\n",
       "      <th>songID</th>\n",
       "      <th></th>\n",
       "      <th></th>\n",
       "    </tr>\n",
       "  </thead>\n",
       "  <tbody>\n",
       "    <tr>\n",
       "      <th>101</th>\n",
       "      <td> 1</td>\n",
       "      <td> 1</td>\n",
       "    </tr>\n",
       "    <tr>\n",
       "      <th>505</th>\n",
       "      <td> 1</td>\n",
       "      <td> 1</td>\n",
       "    </tr>\n",
       "    <tr>\n",
       "      <th>526</th>\n",
       "      <td> 1</td>\n",
       "      <td> 1</td>\n",
       "    </tr>\n",
       "    <tr>\n",
       "      <th>604</th>\n",
       "      <td> 1</td>\n",
       "      <td> 1</td>\n",
       "    </tr>\n",
       "    <tr>\n",
       "      <th>627</th>\n",
       "      <td> 1</td>\n",
       "      <td> 1</td>\n",
       "    </tr>\n",
       "  </tbody>\n",
       "</table>\n",
       "<p>5 rows × 2 columns</p>\n",
       "</div>"
      ],
      "text/plain": [
       "        User count  Listen count\n",
       "songID                          \n",
       "101              1             1\n",
       "505              1             1\n",
       "526              1             1\n",
       "604              1             1\n",
       "627              1             1\n",
       "\n",
       "[5 rows x 2 columns]"
      ]
     },
     "execution_count": 154,
     "metadata": {},
     "output_type": "execute_result"
    }
   ],
   "source": [
    "temp=groupUserData[groupUserData['Listen count']<=8.5]\n",
    "temp.head(5)\n"
   ]
  },
  {
   "cell_type": "code",
   "execution_count": 155,
   "metadata": {
    "collapsed": false
   },
   "outputs": [
    {
     "data": {
      "text/html": [
       "<div style=\"max-height:1000px;max-width:1500px;overflow:auto;\">\n",
       "<table border=\"1\" class=\"dataframe\">\n",
       "  <thead>\n",
       "    <tr style=\"text-align: right;\">\n",
       "      <th></th>\n",
       "      <th>User count</th>\n",
       "      <th>Listen count</th>\n",
       "    </tr>\n",
       "  </thead>\n",
       "  <tbody>\n",
       "    <tr>\n",
       "      <th>count</th>\n",
       "      <td> 70065.000000</td>\n",
       "      <td> 70065.000000</td>\n",
       "    </tr>\n",
       "    <tr>\n",
       "      <th>mean</th>\n",
       "      <td>     1.599872</td>\n",
       "      <td>     2.074788</td>\n",
       "    </tr>\n",
       "    <tr>\n",
       "      <th>std</th>\n",
       "      <td>     1.181935</td>\n",
       "      <td>     1.672112</td>\n",
       "    </tr>\n",
       "    <tr>\n",
       "      <th>min</th>\n",
       "      <td>     1.000000</td>\n",
       "      <td>     1.000000</td>\n",
       "    </tr>\n",
       "    <tr>\n",
       "      <th>25%</th>\n",
       "      <td>     1.000000</td>\n",
       "      <td>     1.000000</td>\n",
       "    </tr>\n",
       "    <tr>\n",
       "      <th>50%</th>\n",
       "      <td>     1.000000</td>\n",
       "      <td>     1.000000</td>\n",
       "    </tr>\n",
       "    <tr>\n",
       "      <th>75%</th>\n",
       "      <td>     2.000000</td>\n",
       "      <td>     3.000000</td>\n",
       "    </tr>\n",
       "    <tr>\n",
       "      <th>max</th>\n",
       "      <td>     8.000000</td>\n",
       "      <td>     8.000000</td>\n",
       "    </tr>\n",
       "  </tbody>\n",
       "</table>\n",
       "<p>8 rows × 2 columns</p>\n",
       "</div>"
      ],
      "text/plain": [
       "         User count  Listen count\n",
       "count  70065.000000  70065.000000\n",
       "mean       1.599872      2.074788\n",
       "std        1.181935      1.672112\n",
       "min        1.000000      1.000000\n",
       "25%        1.000000      1.000000\n",
       "50%        1.000000      1.000000\n",
       "75%        2.000000      3.000000\n",
       "max        8.000000      8.000000\n",
       "\n",
       "[8 rows x 2 columns]"
      ]
     },
     "execution_count": 155,
     "metadata": {},
     "output_type": "execute_result"
    }
   ],
   "source": [
    "temp.describe()"
   ]
  },
  {
   "cell_type": "code",
   "execution_count": 145,
   "metadata": {
    "collapsed": false
   },
   "outputs": [
    {
     "name": "stdout",
     "output_type": "stream",
     "text": [
      "                            OLS Regression Results                            \n",
      "==============================================================================\n",
      "Dep. Variable:                      y   R-squared:                       0.881\n",
      "Model:                            OLS   Adj. R-squared:                  0.881\n",
      "Method:                 Least Squares   F-statistic:                 5.992e+05\n",
      "Date:                Fri, 14 Oct 2016   Prob (F-statistic):               0.00\n",
      "Time:                        10:44:06   Log-Likelihood:            -4.4200e+05\n",
      "No. Observations:               81173   AIC:                         8.840e+05\n",
      "Df Residuals:                   81172   BIC:                         8.840e+05\n",
      "Df Model:                           1                                         \n",
      "==============================================================================\n",
      "                 coef    std err          t      P>|t|      [95.0% Conf. Int.]\n",
      "------------------------------------------------------------------------------\n",
      "x1             1.4783      0.002    774.087      0.000         1.475     1.482\n",
      "==============================================================================\n",
      "Omnibus:                   323731.548   Durbin-Watson:                   1.722\n",
      "Prob(Omnibus):                  0.000   Jarque-Bera (JB):     596657798054.442\n",
      "Skew:                         101.451   Prob(JB):                         0.00\n",
      "Kurtosis:                   13283.420   Cond. No.                         1.00\n",
      "==============================================================================\n"
     ]
    }
   ],
   "source": [
    "import numpy as np\n",
    "import statsmodels.api as sm\n",
    "X = [[x] for x in temp['User count'].values]\n",
    "Y = [[x] for x in temp['Listen count'].values]\n",
    "results = sm.OLS(Y, X).fit()\n",
    "print results.summary()\n"
   ]
  },
  {
   "cell_type": "code",
   "execution_count": 146,
   "metadata": {
    "collapsed": false
   },
   "outputs": [
    {
     "data": {
      "text/plain": [
       "array([[ 1.47828409]])"
      ]
     },
     "execution_count": 146,
     "metadata": {},
     "output_type": "execute_result"
    }
   ],
   "source": [
    "from sklearn.linear_model import LinearRegression\n",
    "lr = LinearRegression()\n",
    "X = [[x] for x in temp['User count'].values]\n",
    "Y = [[x] for x in temp['Listen count'].values]\n",
    "lr.fit(X,Y)\n",
    "LinearRegression(copy_X=True, fit_intercept=True, normalize=False)\n",
    "lr.coef_\n"
   ]
  },
  {
   "cell_type": "code",
   "execution_count": 147,
   "metadata": {
    "collapsed": false
   },
   "outputs": [
    {
     "data": {
      "text/plain": [
       "array([ 0.02467967])"
      ]
     },
     "execution_count": 147,
     "metadata": {},
     "output_type": "execute_result"
    }
   ],
   "source": [
    "lr.intercept_"
   ]
  },
  {
   "cell_type": "code",
   "execution_count": 148,
   "metadata": {
    "collapsed": false
   },
   "outputs": [
    {
     "data": {
      "text/plain": [
       "<matplotlib.axes.AxesSubplot at 0x7f1fcaf5f350>"
      ]
     },
     "execution_count": 148,
     "metadata": {},
     "output_type": "execute_result"
    },
    {
     "data": {
      "image/png": "[encoded data removed]",
      "text/plain": [
       "<matplotlib.figure.Figure at 0x7f1fcad175d0>"
      ]
     },
     "metadata": {},
     "output_type": "display_data"
    }
   ],
   "source": [
    "y2=temp['User count']*1.47828409+0.02467967\n",
    "y2=pd.concat([temp['User count'], y2], axis=1)\n",
    "y2.columns=['User count','Listen count']\n",
    "y2.plot(x='User count',y='Listen count',style='o',xlim=(0,10000),ylim=(0,140000))"
   ]
  },
  {
   "cell_type": "code",
   "execution_count": 149,
   "metadata": {
    "collapsed": false
   },
   "outputs": [
    {
     "data": {
      "text/html": [
       "<div style=\"max-height:1000px;max-width:1500px;overflow:auto;\">\n",
       "<table border=\"1\" class=\"dataframe\">\n",
       "  <thead>\n",
       "    <tr style=\"text-align: right;\">\n",
       "      <th></th>\n",
       "      <th>User count</th>\n",
       "      <th>Listen count</th>\n",
       "    </tr>\n",
       "    <tr>\n",
       "      <th>songID</th>\n",
       "      <th></th>\n",
       "      <th></th>\n",
       "    </tr>\n",
       "  </thead>\n",
       "  <tbody>\n",
       "    <tr>\n",
       "      <th>101</th>\n",
       "      <td> 1</td>\n",
       "      <td> 1.502964</td>\n",
       "    </tr>\n",
       "    <tr>\n",
       "      <th>505</th>\n",
       "      <td> 1</td>\n",
       "      <td> 1.502964</td>\n",
       "    </tr>\n",
       "    <tr>\n",
       "      <th>526</th>\n",
       "      <td> 1</td>\n",
       "      <td> 1.502964</td>\n",
       "    </tr>\n",
       "    <tr>\n",
       "      <th>604</th>\n",
       "      <td> 1</td>\n",
       "      <td> 1.502964</td>\n",
       "    </tr>\n",
       "    <tr>\n",
       "      <th>627</th>\n",
       "      <td> 1</td>\n",
       "      <td> 1.502964</td>\n",
       "    </tr>\n",
       "    <tr>\n",
       "      <th>638</th>\n",
       "      <td> 2</td>\n",
       "      <td> 2.981248</td>\n",
       "    </tr>\n",
       "    <tr>\n",
       "      <th>717</th>\n",
       "      <td> 1</td>\n",
       "      <td> 1.502964</td>\n",
       "    </tr>\n",
       "  </tbody>\n",
       "</table>\n",
       "<p>7 rows × 2 columns</p>\n",
       "</div>"
      ],
      "text/plain": [
       "        User count  Listen count\n",
       "songID                          \n",
       "101              1      1.502964\n",
       "505              1      1.502964\n",
       "526              1      1.502964\n",
       "604              1      1.502964\n",
       "627              1      1.502964\n",
       "638              2      2.981248\n",
       "717              1      1.502964\n",
       "\n",
       "[7 rows x 2 columns]"
      ]
     },
     "execution_count": 149,
     "metadata": {},
     "output_type": "execute_result"
    }
   ],
   "source": [
    "y2.head(7)"
   ]
  },
  {
   "cell_type": "code",
   "execution_count": 150,
   "metadata": {
    "collapsed": false
   },
   "outputs": [
    {
     "data": {
      "text/plain": [
       "<matplotlib.axes.AxesSubplot at 0x7f1fcac3f710>"
      ]
     },
     "execution_count": 150,
     "metadata": {},
     "output_type": "execute_result"
    },
    {
     "data": {
      "image/png": "[encoded data removed]",
      "text/plain": [
       "<matplotlib.figure.Figure at 0x7f1fcad44990>"
      ]
     },
     "metadata": {},
     "output_type": "display_data"
    }
   ],
   "source": [
    "y2=temp['User count']*1.4783\n",
    "y2=pd.concat([temp['User count'], y2], axis=1)\n",
    "y2.columns=['User count','Listen count']\n",
    "y2.plot(x='User count',y='Listen count',style='o',xlim=(0,10000),ylim=(0,140000))"
   ]
  },
  {
   "cell_type": "code",
   "execution_count": 151,
   "metadata": {
    "collapsed": false
   },
   "outputs": [
    {
     "data": {
      "text/html": [
       "<div style=\"max-height:1000px;max-width:1500px;overflow:auto;\">\n",
       "<table border=\"1\" class=\"dataframe\">\n",
       "  <thead>\n",
       "    <tr style=\"text-align: right;\">\n",
       "      <th></th>\n",
       "      <th>User count</th>\n",
       "      <th>Listen count</th>\n",
       "    </tr>\n",
       "    <tr>\n",
       "      <th>songID</th>\n",
       "      <th></th>\n",
       "      <th></th>\n",
       "    </tr>\n",
       "  </thead>\n",
       "  <tbody>\n",
       "    <tr>\n",
       "      <th>101</th>\n",
       "      <td> 1</td>\n",
       "      <td> 1.4783</td>\n",
       "    </tr>\n",
       "    <tr>\n",
       "      <th>505</th>\n",
       "      <td> 1</td>\n",
       "      <td> 1.4783</td>\n",
       "    </tr>\n",
       "    <tr>\n",
       "      <th>526</th>\n",
       "      <td> 1</td>\n",
       "      <td> 1.4783</td>\n",
       "    </tr>\n",
       "    <tr>\n",
       "      <th>604</th>\n",
       "      <td> 1</td>\n",
       "      <td> 1.4783</td>\n",
       "    </tr>\n",
       "    <tr>\n",
       "      <th>627</th>\n",
       "      <td> 1</td>\n",
       "      <td> 1.4783</td>\n",
       "    </tr>\n",
       "    <tr>\n",
       "      <th>638</th>\n",
       "      <td> 2</td>\n",
       "      <td> 2.9566</td>\n",
       "    </tr>\n",
       "    <tr>\n",
       "      <th>717</th>\n",
       "      <td> 1</td>\n",
       "      <td> 1.4783</td>\n",
       "    </tr>\n",
       "  </tbody>\n",
       "</table>\n",
       "<p>7 rows × 2 columns</p>\n",
       "</div>"
      ],
      "text/plain": [
       "        User count  Listen count\n",
       "songID                          \n",
       "101              1        1.4783\n",
       "505              1        1.4783\n",
       "526              1        1.4783\n",
       "604              1        1.4783\n",
       "627              1        1.4783\n",
       "638              2        2.9566\n",
       "717              1        1.4783\n",
       "\n",
       "[7 rows x 2 columns]"
      ]
     },
     "execution_count": 151,
     "metadata": {},
     "output_type": "execute_result"
    }
   ],
   "source": [
    "y2.head(7)"
   ]
  },
  {
   "cell_type": "code",
   "execution_count": 152,
   "metadata": {
    "collapsed": false
   },
   "outputs": [
    {
     "data": {
      "text/plain": [
       "<matplotlib.axes.AxesSubplot at 0x7f1fcaff3b10>"
      ]
     },
     "execution_count": 152,
     "metadata": {},
     "output_type": "execute_result"
    },
    {
     "data": {
      "image/png": "[encoded data removed]",
      "text/plain": [
       "<matplotlib.figure.Figure at 0x7f1fcaefe7d0>"
      ]
     },
     "metadata": {},
     "output_type": "display_data"
    }
   ],
   "source": [
    "groupUserData.plot(x='User count',y='Listen count',style='o')"
   ]
  },
  {
   "cell_type": "markdown",
   "metadata": {},
   "source": [
    "# ANOVA"
   ]
  },
  {
   "cell_type": "code",
   "execution_count": 1,
   "metadata": {
    "collapsed": false
   },
   "outputs": [
    {
     "ename": "NameError",
     "evalue": "name 'groupUserData' is not defined",
     "output_type": "error",
     "traceback": [
      "\u001b[0;31m---------------------------------------------------------------------------\u001b[0m",
      "\u001b[0;31mNameError\u001b[0m                                 Traceback (most recent call last)",
      "\u001b[0;32m<ipython-input-1-9880df10c1f9>\u001b[0m in \u001b[0;36m<module>\u001b[0;34m()\u001b[0m\n\u001b[0;32m----> 1\u001b[0;31m \u001b[0mgroupUserData\u001b[0m\u001b[0;34m.\u001b[0m\u001b[0mdescribe\u001b[0m\u001b[0;34m(\u001b[0m\u001b[0;34m)\u001b[0m\u001b[0;34m\u001b[0m\u001b[0m\n\u001b[0m",
      "\u001b[0;31mNameError\u001b[0m: name 'groupUserData' is not defined"
     ]
    }
   ],
   "source": [
    "groupUserData.describe()"
   ]
  },
  {
   "cell_type": "code",
   "execution_count": 166,
   "metadata": {
    "collapsed": false
   },
   "outputs": [
    {
     "name": "stdout",
     "output_type": "stream",
     "text": [
      " [ True  True  True ...,  True  True  True] [False False False ..., False False False] [[ 1.1342592]] [-0.01492464]\n"
     ]
    }
   ],
   "source": [
    "\n",
    "from sklearn import linear_model, datasets\n",
    "# Robustly fit linear model with RANSAC algorithm\n",
    "model_ransac = linear_model.RANSACRegressor(linear_model.LinearRegression())\n",
    "model_ransac.fit(X, Y)\n",
    "inlier_mask = model_ransac.inlier_mask_\n",
    "outlier_mask = np.logical_not(inlier_mask)\n",
    "print inlier_mask,outlier_mask,model_ransac.estimator_.coef_,model_ransac.estimator_.intercept_"
   ]
  },
  {
   "cell_type": "code",
   "execution_count": 184,
   "metadata": {
    "collapsed": false
   },
   "outputs": [
    {
     "data": {
      "text/plain": [
       "<matplotlib.axes.AxesSubplot at 0x7f1f935b4f90>"
      ]
     },
     "execution_count": 184,
     "metadata": {},
     "output_type": "execute_result"
    },
    {
     "data": {
      "image/png": "[encoded data removed]",
      "text/plain": [
       "<matplotlib.figure.Figure at 0x7f1fce29bd90>"
      ]
     },
     "metadata": {},
     "output_type": "display_data"
    }
   ],
   "source": [
    "y2=groupUserData['User count']*1.1342592-0.01492464\n",
    "y2=pd.concat([groupUserData['User count'], y2], axis=1)\n",
    "y2.columns=['User count','Listen count']\n",
    "y2.plot(x='User count',y='Listen count',style='o',xlim=(0,10000),ylim=(0,140000))"
   ]
  },
  {
   "cell_type": "code",
   "execution_count": 172,
   "metadata": {
    "collapsed": false
   },
   "outputs": [
    {
     "data": {
      "text/plain": [
       "<matplotlib.axes.AxesSubplot at 0x7f1fcaf9ef90>"
      ]
     },
     "execution_count": 172,
     "metadata": {},
     "output_type": "execute_result"
    },
    {
     "data": {
      "image/png": "[encoded data removed]",
      "text/plain": [
       "<matplotlib.figure.Figure at 0x7f1fce2705d0>"
      ]
     },
     "metadata": {},
     "output_type": "display_data"
    }
   ],
   "source": [
    "groupUserData.plot(x='User count',y='Listen count',style='o')"
   ]
  },
  {
   "cell_type": "code",
   "execution_count": 234,
   "metadata": {
    "collapsed": false
   },
   "outputs": [
    {
     "data": {
      "text/plain": [
       "songID\n",
       "101       1426.431431\n",
       "505       1426.431431\n",
       "526       1426.431431\n",
       "604       1426.431431\n",
       "627       1426.431431\n",
       "Name: Listen count, dtype: float64"
      ]
     },
     "execution_count": 234,
     "metadata": {},
     "output_type": "execute_result"
    }
   ],
   "source": [
    "y3=y2['Listen count']+3*475.104032\n",
    "y3.head()"
   ]
  },
  {
   "cell_type": "code",
   "execution_count": 174,
   "metadata": {
    "collapsed": true
   },
   "outputs": [],
   "source": [
    "Xb= [[x] for x in groupUserData['User count'].values]\n",
    "Yb= [[x] for x in groupUserData['Listen count'].values]"
   ]
  },
  {
   "cell_type": "code",
   "execution_count": 43,
   "metadata": {
    "collapsed": false
   },
   "outputs": [
    {
     "ename": "NameError",
     "evalue": "name 'Xb' is not defined",
     "output_type": "error",
     "traceback": [
      "\u001b[0;31m---------------------------------------------------------------------------\u001b[0m",
      "\u001b[0;31mNameError\u001b[0m                                 Traceback (most recent call last)",
      "\u001b[0;32m<ipython-input-43-c07177aa17ac>\u001b[0m in \u001b[0;36m<module>\u001b[0;34m()\u001b[0m\n\u001b[1;32m      2\u001b[0m \u001b[0;32mimport\u001b[0m \u001b[0mmatplotlib\u001b[0m\u001b[0;34m.\u001b[0m\u001b[0mpyplot\u001b[0m \u001b[0;32mas\u001b[0m \u001b[0mplt\u001b[0m\u001b[0;34m\u001b[0m\u001b[0m\n\u001b[1;32m      3\u001b[0m \u001b[0;34m\u001b[0m\u001b[0m\n\u001b[0;32m----> 4\u001b[0;31m \u001b[0mplt\u001b[0m\u001b[0;34m.\u001b[0m\u001b[0mscatter\u001b[0m\u001b[0;34m(\u001b[0m\u001b[0mXb\u001b[0m\u001b[0;34m,\u001b[0m \u001b[0mYb\u001b[0m\u001b[0;34m)\u001b[0m\u001b[0;34m\u001b[0m\u001b[0m\n\u001b[0m\u001b[1;32m      5\u001b[0m \u001b[0mplt\u001b[0m\u001b[0;34m.\u001b[0m\u001b[0maxis\u001b[0m\u001b[0;34m(\u001b[0m\u001b[0;34m[\u001b[0m\u001b[0;36m0\u001b[0m\u001b[0;34m,\u001b[0m\u001b[0;36m10000\u001b[0m\u001b[0;34m,\u001b[0m \u001b[0;36m0\u001b[0m\u001b[0;34m,\u001b[0m\u001b[0;36m140000\u001b[0m\u001b[0;34m]\u001b[0m\u001b[0;34m)\u001b[0m\u001b[0;34m\u001b[0m\u001b[0m\n\u001b[1;32m      6\u001b[0m \u001b[0mplt\u001b[0m\u001b[0;34m.\u001b[0m\u001b[0mshow\u001b[0m\u001b[0;34m(\u001b[0m\u001b[0;34m)\u001b[0m\u001b[0;34m\u001b[0m\u001b[0m\n",
      "\u001b[0;31mNameError\u001b[0m: name 'Xb' is not defined"
     ]
    }
   ],
   "source": [
    "import numpy as np\n",
    "import matplotlib.pyplot as plt\n",
    "\n",
    "plt.scatter(Xb, Yb)\n",
    "plt.axis([0,10000, 0,140000])\n",
    "plt.show()\n"
   ]
  },
  {
   "cell_type": "code",
   "execution_count": 235,
   "metadata": {
    "collapsed": false
   },
   "outputs": [
    {
     "data": {
      "text/plain": [
       "[0, 10000, 0, 140000]"
      ]
     },
     "execution_count": 235,
     "metadata": {},
     "output_type": "execute_result"
    },
    {
     "data": {
      "image/png": "[encoded data removed]",
      "text/plain": [
       "<matplotlib.figure.Figure at 0x7f1f63295f50>"
      ]
     },
     "metadata": {},
     "output_type": "display_data"
    }
   ],
   "source": [
    "plt.plot(Xb,y2,'g')\n",
    "plt.scatter(Xb, Yb)\n",
    "plt.plot(Xb, y3,color='red')\n",
    "plt.axis([0,10000, 0,140000])\n"
   ]
  },
  {
   "cell_type": "code",
   "execution_count": 236,
   "metadata": {
    "collapsed": false,
    "scrolled": true
   },
   "outputs": [
    {
     "name": "stdout",
     "output_type": "stream",
     "text": [
      "30\n",
      "           0\n",
      "1617       2\n",
      "1715       7\n",
      "2070       7\n",
      "1705       6\n",
      "2339       7\n",
      "1761       7\n",
      "2056       9\n",
      "2031       6\n",
      "1634       6\n",
      "2140       7\n",
      "3866    1606\n",
      "3948    1603\n",
      "7697    5109\n",
      "8918    6410\n",
      "24924     68\n",
      "6610    1003\n",
      "2125     551\n",
      "6546    4500\n",
      "10914   1231\n",
      "13826   9938\n",
      "9305    1744\n",
      "124832  2806\n",
      "13636   9443\n",
      "6928    1010\n",
      "6361    3974\n",
      "1874     376\n",
      "1512      14\n",
      "13865   8325\n",
      "10470   6090\n",
      "1502      53\n",
      "\n",
      "[30 rows x 1 columns]\n"
     ]
    }
   ],
   "source": [
    "list=[]\n",
    "user=[]\n",
    "for i in xrange(1,len(y3)):\n",
    "    if(groupUserData['Listen count'].values[i])>y3.values[i]:\n",
    "        list.append(groupUserData['Listen count'].values[i])\n",
    "        user.append(groupUserData['User count'].values[i])\n",
    "print len(list)\n",
    "da=pd.DataFrame(user,list)\n",
    "print da"
   ]
  },
  {
   "cell_type": "code",
   "execution_count": 5,
   "metadata": {
    "collapsed": false
   },
   "outputs": [
    {
     "data": {
      "text/html": [
       "<div style=\"max-height:1000px;max-width:1500px;overflow:auto;\">\n",
       "<table border=\"1\" class=\"dataframe\">\n",
       "  <thead>\n",
       "    <tr style=\"text-align: right;\">\n",
       "      <th></th>\n",
       "      <th>User count</th>\n",
       "      <th>Listen count</th>\n",
       "    </tr>\n",
       "  </thead>\n",
       "  <tbody>\n",
       "    <tr>\n",
       "      <th>count</th>\n",
       "      <td> 81175.000000</td>\n",
       "      <td>  81175.000000</td>\n",
       "    </tr>\n",
       "    <tr>\n",
       "      <th>mean</th>\n",
       "      <td>     9.091124</td>\n",
       "      <td>     15.256458</td>\n",
       "    </tr>\n",
       "    <tr>\n",
       "      <th>std</th>\n",
       "      <td>   103.084892</td>\n",
       "      <td>    475.104032</td>\n",
       "    </tr>\n",
       "    <tr>\n",
       "      <th>min</th>\n",
       "      <td>     1.000000</td>\n",
       "      <td>      1.000000</td>\n",
       "    </tr>\n",
       "    <tr>\n",
       "      <th>25%</th>\n",
       "      <td>     1.000000</td>\n",
       "      <td>      1.000000</td>\n",
       "    </tr>\n",
       "    <tr>\n",
       "      <th>50%</th>\n",
       "      <td>     1.000000</td>\n",
       "      <td>      2.000000</td>\n",
       "    </tr>\n",
       "    <tr>\n",
       "      <th>75%</th>\n",
       "      <td>     3.000000</td>\n",
       "      <td>      4.000000</td>\n",
       "    </tr>\n",
       "    <tr>\n",
       "      <th>max</th>\n",
       "      <td>  9938.000000</td>\n",
       "      <td> 124832.000000</td>\n",
       "    </tr>\n",
       "  </tbody>\n",
       "</table>\n",
       "<p>8 rows × 2 columns</p>\n",
       "</div>"
      ],
      "text/plain": [
       "         User count   Listen count\n",
       "count  81175.000000   81175.000000\n",
       "mean       9.091124      15.256458\n",
       "std      103.084892     475.104032\n",
       "min        1.000000       1.000000\n",
       "25%        1.000000       1.000000\n",
       "50%        1.000000       2.000000\n",
       "75%        3.000000       4.000000\n",
       "max     9938.000000  124832.000000\n",
       "\n",
       "[8 rows x 2 columns]"
      ]
     },
     "execution_count": 5,
     "metadata": {},
     "output_type": "execute_result"
    }
   ],
   "source": [
    "groupUserData.describe()"
   ]
  },
  {
   "cell_type": "code",
   "execution_count": 91,
   "metadata": {
    "collapsed": false
   },
   "outputs": [
    {
     "data": {
      "text/plain": [
       "<matplotlib.axes.AxesSubplot at 0x7fe3c31af310>"
      ]
     },
     "execution_count": 91,
     "metadata": {},
     "output_type": "execute_result"
    },
    {
     "data": {
      "image/png": "[encoded data removed]",
      "text/plain": [
       "<matplotlib.figure.Figure at 0x7fe3c2b160d0>"
      ]
     },
     "metadata": {},
     "output_type": "display_data"
    }
   ],
   "source": [
    "group1=groupUserData[groupUserData['User count']==1]\n",
    "data1=group1['Listen count']\n",
    "fig, ax = plt.subplots()\n",
    "data1.value_counts().plot(ax=ax, kind='bar')"
   ]
  },
  {
   "cell_type": "code",
   "execution_count": 85,
   "metadata": {
    "collapsed": false
   },
   "outputs": [
    {
     "data": {
      "text/plain": [
       "count    49477.000000\n",
       "mean         1.402611\n",
       "std          2.210568\n",
       "min          1.000000\n",
       "25%          1.000000\n",
       "50%          1.000000\n",
       "75%          1.000000\n",
       "max        299.000000\n",
       "Name: Listen count, dtype: float64"
      ]
     },
     "execution_count": 85,
     "metadata": {},
     "output_type": "execute_result"
    }
   ],
   "source": [
    "data1.describe()"
   ]
  },
  {
   "cell_type": "code",
   "execution_count": 93,
   "metadata": {
    "collapsed": false
   },
   "outputs": [
    {
     "data": {
      "text/plain": [
       "<matplotlib.axes.AxesSubplot at 0x7fe3c2a87950>"
      ]
     },
     "execution_count": 93,
     "metadata": {},
     "output_type": "execute_result"
    },
    {
     "data": {
      "image/png": "[encoded data removed]",
      "text/plain": [
       "<matplotlib.figure.Figure at 0x7fe3c2a5c4d0>"
      ]
     },
     "metadata": {},
     "output_type": "display_data"
    }
   ],
   "source": [
    "group2=groupUserData[groupUserData['User count'].isin([2,3])]\n",
    "data2=group2['Listen count']\n",
    "fig, ax = plt.subplots()\n",
    "data2.value_counts().plot(ax=ax, kind='bar')"
   ]
  },
  {
   "cell_type": "code",
   "execution_count": 94,
   "metadata": {
    "collapsed": false
   },
   "outputs": [
    {
     "data": {
      "text/plain": [
       "count    15510.000000\n",
       "mean         3.416763\n",
       "std         14.110957\n",
       "min          2.000000\n",
       "25%          2.000000\n",
       "50%          3.000000\n",
       "75%          4.000000\n",
       "max       1617.000000\n",
       "Name: Listen count, dtype: float64"
      ]
     },
     "execution_count": 94,
     "metadata": {},
     "output_type": "execute_result"
    }
   ],
   "source": [
    "data2.describe()"
   ]
  },
  {
   "cell_type": "code",
   "execution_count": 95,
   "metadata": {
    "collapsed": false
   },
   "outputs": [
    {
     "data": {
      "text/plain": [
       "<matplotlib.axes.AxesSubplot at 0x7fe3c6cffad0>"
      ]
     },
     "execution_count": 95,
     "metadata": {},
     "output_type": "execute_result"
    },
    {
     "data": {
      "image/png": "[encoded data removed]",
      "text/plain": [
       "<matplotlib.figure.Figure at 0x7fe3c2bfb4d0>"
      ]
     },
     "metadata": {},
     "output_type": "display_data"
    }
   ],
   "source": [
    "group3=groupUserData[groupUserData['User count']>3]\n",
    "data3=group3['Listen count']\n",
    "fig, ax = plt.subplots()\n",
    "data3.value_counts().plot(ax=ax, kind='bar')"
   ]
  },
  {
   "cell_type": "code",
   "execution_count": 96,
   "metadata": {
    "collapsed": false
   },
   "outputs": [
    {
     "data": {
      "text/plain": [
       "count    15510.000000\n",
       "mean         3.416763\n",
       "std         14.110957\n",
       "min          2.000000\n",
       "25%          2.000000\n",
       "50%          3.000000\n",
       "75%          4.000000\n",
       "max       1617.000000\n",
       "Name: Listen count, dtype: float64"
      ]
     },
     "execution_count": 96,
     "metadata": {},
     "output_type": "execute_result"
    }
   ],
   "source": [
    "data2.describe()"
   ]
  },
  {
   "cell_type": "markdown",
   "metadata": {},
   "source": [
    "# For Group 1"
   ]
  },
  {
   "cell_type": "code",
   "execution_count": 132,
   "metadata": {
    "collapsed": false
   },
   "outputs": [
    {
     "data": {
      "text/plain": [
       "<matplotlib.axes.AxesSubplot at 0x7fe3c07fc410>"
      ]
     },
     "execution_count": 132,
     "metadata": {},
     "output_type": "execute_result"
    },
    {
     "data": {
      "image/png": "[encoded data removed]",
      "text/plain": [
       "<matplotlib.figure.Figure at 0x7fe3c4cda1d0>"
      ]
     },
     "metadata": {},
     "output_type": "display_data"
    }
   ],
   "source": [
    "fig, ax = plt.subplots()\n",
    "data1.value_counts().sort_index().plot(ax=ax, kind='bar')"
   ]
  },
  {
   "cell_type": "code",
   "execution_count": 151,
   "metadata": {
    "collapsed": false
   },
   "outputs": [
    {
     "data": {
      "text/plain": [
       "<matplotlib.axes.AxesSubplot at 0x7fe3d2d87450>"
      ]
     },
     "execution_count": 151,
     "metadata": {},
     "output_type": "execute_result"
    },
    {
     "data": {
      "image/png": "[encoded data removed]",
      "text/plain": [
       "<matplotlib.figure.Figure at 0x7fe3c55de190>"
      ]
     },
     "metadata": {},
     "output_type": "display_data"
    }
   ],
   "source": [
    "d=data1.value_counts().sort_index()[7:]\n",
    "fig, ax = plt.subplots()\n",
    "d.plot(ax=ax, kind='bar')"
   ]
  },
  {
   "cell_type": "code",
   "execution_count": 175,
   "metadata": {
    "collapsed": false
   },
   "outputs": [
    {
     "name": "stdout",
     "output_type": "stream",
     "text": [
      "         User count  Listen count\n",
      "songID                           \n",
      "6223989           1           299\n",
      "\n",
      "[1 rows x 2 columns]\n"
     ]
    }
   ],
   "source": []
  },
  {
   "cell_type": "markdown",
   "metadata": {},
   "source": [
    "\n",
    "# For group 2"
   ]
  },
  {
   "cell_type": "code",
   "execution_count": 152,
   "metadata": {
    "collapsed": false
   },
   "outputs": [
    {
     "data": {
      "text/plain": [
       "<matplotlib.axes.AxesSubplot at 0x7fe3c4ae5750>"
      ]
     },
     "execution_count": 152,
     "metadata": {},
     "output_type": "execute_result"
    },
    {
     "data": {
      "image/png": "[encoded data removed]",
      "text/plain": [
       "<matplotlib.figure.Figure at 0x7fe3c5c59890>"
      ]
     },
     "metadata": {},
     "output_type": "display_data"
    }
   ],
   "source": [
    "fig, ax = plt.subplots()\n",
    "data2.value_counts().sort_index().plot(ax=ax, kind='bar')"
   ]
  },
  {
   "cell_type": "code",
   "execution_count": 153,
   "metadata": {
    "collapsed": false
   },
   "outputs": [
    {
     "data": {
      "text/plain": [
       "<matplotlib.axes.AxesSubplot at 0x7fe3c6da0c90>"
      ]
     },
     "execution_count": 153,
     "metadata": {},
     "output_type": "execute_result"
    },
    {
     "data": {
      "image/png": "[encoded data removed]",
      "text/plain": [
       "<matplotlib.figure.Figure at 0x7fe3c56d1b10>"
      ]
     },
     "metadata": {},
     "output_type": "display_data"
    }
   ],
   "source": [
    "d2=data2.value_counts().sort_index()[12:]\n",
    "fig, ax = plt.subplots()\n",
    "d2.plot(ax=ax, kind='bar')"
   ]
  },
  {
   "cell_type": "code",
   "execution_count": 177,
   "metadata": {
    "collapsed": false,
    "scrolled": true
   },
   "outputs": [
    {
     "name": "stdout",
     "output_type": "stream",
     "text": [
      "         User count  Listen count\n",
      "songID                           \n",
      "5888119           2          1617\n",
      "\n",
      "[1 rows x 2 columns]\n"
     ]
    }
   ],
   "source": [
    "print group2[group2['Listen count']==1617]"
   ]
  },
  {
   "cell_type": "code",
   "execution_count": 137,
   "metadata": {
    "collapsed": false
   },
   "outputs": [
    {
     "name": "stdout",
     "output_type": "stream",
     "text": [
      "9.0 21.0 123.0\n"
     ]
    }
   ],
   "source": [
    "groupUserInt=groupUserData['User count'].values.astype(int)\n",
    "Q90,Q95,Q99 = np.percentile(groupUserInt, [90 ,95,99])\n",
    "print Q90,Q95,Q99"
   ]
  },
  {
   "cell_type": "code",
   "execution_count": 154,
   "metadata": {
    "collapsed": false
   },
   "outputs": [
    {
     "data": {
      "text/plain": [
       "<matplotlib.axes.AxesSubplot at 0x7fe3c498dd10>"
      ]
     },
     "execution_count": 154,
     "metadata": {},
     "output_type": "execute_result"
    },
    {
     "data": {
      "image/png": "[encoded data removed]",
      "text/plain": [
       "<matplotlib.figure.Figure at 0x7fe3c5901210>"
      ]
     },
     "metadata": {},
     "output_type": "display_data"
    }
   ],
   "source": [
    "group4=groupUserData[groupUserData['User count'].isin([4,5,6,7,8,9])]\n",
    "data4=group4['Listen count']\n",
    "fig, ax = plt.subplots()\n",
    "data4.value_counts().sort_index().plot(ax=ax, kind='bar')"
   ]
  },
  {
   "cell_type": "code",
   "execution_count": 165,
   "metadata": {
    "collapsed": false
   },
   "outputs": [
    {
     "data": {
      "text/plain": [
       "<matplotlib.axes.AxesSubplot at 0x7fe3d1366890>"
      ]
     },
     "execution_count": 165,
     "metadata": {},
     "output_type": "execute_result"
    },
    {
     "data": {
      "image/png": "[encoded data removed]",
      "text/plain": [
       "<matplotlib.figure.Figure at 0x7fe3c637ed10>"
      ]
     },
     "metadata": {},
     "output_type": "display_data"
    }
   ],
   "source": [
    "d4=data4.value_counts().sort_index()[16:]\n",
    "fig, ax = plt.subplots()\n",
    "d4.plot(ax=ax, kind='bar')"
   ]
  },
  {
   "cell_type": "code",
   "execution_count": 157,
   "metadata": {
    "collapsed": false
   },
   "outputs": [
    {
     "data": {
      "text/plain": [
       "<matplotlib.axes.AxesSubplot at 0x7fe3d28754d0>"
      ]
     },
     "execution_count": 157,
     "metadata": {},
     "output_type": "execute_result"
    },
    {
     "data": {
      "image/png": "[encoded data removed]",
      "text/plain": [
       "<matplotlib.figure.Figure at 0x7fe3c55b7250>"
      ]
     },
     "metadata": {},
     "output_type": "display_data"
    }
   ],
   "source": [
    "group5=groupUserData[groupUserData['User count'].isin([10,11,12,13,14,15,16,17,18,19,20,21])]\n",
    "data5=group5['Listen count']\n",
    "fig, ax = plt.subplots()\n",
    "data5.value_counts().sort_index().plot(ax=ax, kind='bar')"
   ]
  },
  {
   "cell_type": "code",
   "execution_count": 163,
   "metadata": {
    "collapsed": false
   },
   "outputs": [
    {
     "data": {
      "text/plain": [
       "<matplotlib.axes.AxesSubplot at 0x7fe3c6e7f110>"
      ]
     },
     "execution_count": 163,
     "metadata": {},
     "output_type": "execute_result"
    },
    {
     "data": {
      "image/png": "[encoded data removed]",
      "text/plain": [
       "<matplotlib.figure.Figure at 0x7fe3d134c410>"
      ]
     },
     "metadata": {},
     "output_type": "display_data"
    }
   ],
   "source": [
    "d5= data5.value_counts().sort_index()[30:]\n",
    "fig, ax = plt.subplots()\n",
    "d5.plot(ax=ax, kind='bar')"
   ]
  },
  {
   "cell_type": "code",
   "execution_count": 167,
   "metadata": {
    "collapsed": false
   },
   "outputs": [
    {
     "data": {
      "text/plain": [
       "<matplotlib.axes.AxesSubplot at 0x7fe3d27e5d10>"
      ]
     },
     "execution_count": 167,
     "metadata": {},
     "output_type": "execute_result"
    },
    {
     "data": {
      "image/png": "[encoded data removed]",
      "text/plain": [
       "<matplotlib.figure.Figure at 0x7fe3c7b8df50>"
      ]
     },
     "metadata": {},
     "output_type": "display_data"
    }
   ],
   "source": [
    "group6=groupUserData[groupUserData['User count']>21]\n",
    "group6=group6[group6['User count']<=123]\n",
    "data6=group6['Listen count']\n",
    "fig, ax = plt.subplots()\n",
    "data6.value_counts().sort_index().plot(ax=ax, kind='bar')"
   ]
  },
  {
   "cell_type": "code",
   "execution_count": 168,
   "metadata": {
    "collapsed": false
   },
   "outputs": [
    {
     "data": {
      "text/plain": [
       "<matplotlib.axes.AxesSubplot at 0x7fe3d280d210>"
      ]
     },
     "execution_count": 168,
     "metadata": {},
     "output_type": "execute_result"
    },
    {
     "data": {
      "image/png": "[encoded data removed]",
      "text/plain": [
       "<matplotlib.figure.Figure at 0x7fe3c7ed6110>"
      ]
     },
     "metadata": {},
     "output_type": "display_data"
    }
   ],
   "source": [
    "group7=groupUserData[groupUserData['User count']>123]\n",
    "data7=group7['Listen count']\n",
    "fig, ax = plt.subplots()\n",
    "data7.value_counts().sort_index().plot(ax=ax, kind='bar')"
   ]
  },
  {
   "cell_type": "code",
   "execution_count": 179,
   "metadata": {
    "collapsed": false
   },
   "outputs": [
    {
     "name": "stdout",
     "output_type": "stream",
     "text": [
      "        User count   Listen count\n",
      "count   807.000000     807.000000\n",
      "mean    492.016109     882.287485\n",
      "std     907.033288    4595.878991\n",
      "min     124.000000     144.000000\n",
      "25%     164.000000     226.000000\n",
      "50%     233.000000     329.000000\n",
      "75%     374.000000     522.000000\n",
      "max    9938.000000  124832.000000\n",
      "\n",
      "[8 rows x 2 columns]\n"
     ]
    }
   ],
   "source": [
    "print group7.describe()"
   ]
  },
  {
   "cell_type": "code",
   "execution_count": 180,
   "metadata": {
    "collapsed": false
   },
   "outputs": [
    {
     "name": "stdout",
     "output_type": "stream",
     "text": [
      "1033.0 1711.4 4856.26\n"
     ]
    }
   ],
   "source": [
    "groupUserInt=group7['User count'].values.astype(int)\n",
    "Q90,Q95,Q99 = np.percentile(groupUserInt, [90 ,95,99])\n",
    "print Q90,Q95,Q99"
   ]
  },
  {
   "cell_type": "code",
   "execution_count": 181,
   "metadata": {
    "collapsed": false
   },
   "outputs": [
    {
     "name": "stdout",
     "output_type": "stream",
     "text": [
      "1495.2 2665.7 8614.44\n"
     ]
    }
   ],
   "source": [
    "groupUserInt=group7['Listen count'].values.astype(int)\n",
    "Q90,Q95,Q99 = np.percentile(groupUserInt, [90 ,95,99])\n",
    "print Q90,Q95,Q99"
   ]
  },
  {
   "cell_type": "code",
   "execution_count": 183,
   "metadata": {
    "collapsed": false
   },
   "outputs": [
    {
     "name": "stdout",
     "output_type": "stream",
     "text": [
      "            User count  Listen count\n",
      "songID                              \n",
      "1075465009        5109          7697\n",
      "1075507785        6410          8918\n",
      "1075525108        6567          8673\n",
      "1075550604        4879          6362\n",
      "1075552481        9938         13826\n",
      "1075751008        9443         13636\n",
      "1075752472        5337          7458\n",
      "1075757848        8325         13865\n",
      "1075758987        6090         10470\n",
      "\n",
      "[9 rows x 2 columns]\n"
     ]
    }
   ],
   "source": [
    "print groupUserData[groupUserData['User count']>4856]"
   ]
  },
  {
   "cell_type": "code",
   "execution_count": 184,
   "metadata": {
    "collapsed": false
   },
   "outputs": [
    {
     "name": "stdout",
     "output_type": "stream",
     "text": [
      "            User count  Listen count\n",
      "songID                              \n",
      "1075507785        6410          8918\n",
      "1075509248          68         24924\n",
      "1075525108        6567          8673\n",
      "1075551390        1231         10914\n",
      "1075552481        9938         13826\n",
      "1075750534        1744          9305\n",
      "1075750904        2806        124832\n",
      "1075751008        9443         13636\n",
      "1075757848        8325         13865\n",
      "1075758987        6090         10470\n",
      "\n",
      "[10 rows x 2 columns]\n"
     ]
    }
   ],
   "source": [
    "print groupUserData[groupUserData['Listen count']>8614]"
   ]
  },
  {
   "cell_type": "code",
   "execution_count": null,
   "metadata": {
    "collapsed": true
   },
   "outputs": [],
   "source": []
  }
 ],
 "metadata": {
  "kernelspec": {
   "display_name": "Python 2",
   "language": "python",
   "name": "python2"
  },
  "language_info": {
   "codemirror_mode": {
    "name": "ipython",
    "version": 2
   },
   "file_extension": ".py",
   "mimetype": "text/x-python",
   "name": "python",
   "nbconvert_exporter": "python",
   "pygments_lexer": "ipython2",
   "version": "2.7.6"
  }
 },
 "nbformat": 4,
 "nbformat_minor": 1
}
