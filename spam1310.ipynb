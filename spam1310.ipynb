{
 "cells": [
  {
   "cell_type": "code",
   "execution_count": 1,
   "metadata": {
    "collapsed": false
   },
   "outputs": [
    {
     "data": {
      "text/html": [
       "<div style=\"max-height:1000px;max-width:1500px;overflow:auto;\">\n",
       "<table border=\"1\" class=\"dataframe\">\n",
       "  <thead>\n",
       "    <tr style=\"text-align: right;\">\n",
       "      <th></th>\n",
       "      <th>username</th>\n",
       "      <th>visitorID</th>\n",
       "      <th>songID</th>\n",
       "    </tr>\n",
       "  </thead>\n",
       "  <tbody>\n",
       "    <tr>\n",
       "      <th>0</th>\n",
       "      <td> NaN</td>\n",
       "      <td> 2000.30f449f3f5221c7c4533.1475475034056.6a2a93fc</td>\n",
       "      <td> 1075525434</td>\n",
       "    </tr>\n",
       "    <tr>\n",
       "      <th>1</th>\n",
       "      <td> NaN</td>\n",
       "      <td> 2000.22c03b00a6d14f8f16c0.1475512451510.55a76ad0</td>\n",
       "      <td> 1075451846</td>\n",
       "    </tr>\n",
       "    <tr>\n",
       "      <th>2</th>\n",
       "      <td> NaN</td>\n",
       "      <td> 2000.9587386b99ba70e429ab.1475506846118.00704fce</td>\n",
       "      <td> 1075457841</td>\n",
       "    </tr>\n",
       "    <tr>\n",
       "      <th>3</th>\n",
       "      <td> NaN</td>\n",
       "      <td> 2000.b4db2ae0ae20477e1e31.1469582408415.db51ea3d</td>\n",
       "      <td> 1075755756</td>\n",
       "    </tr>\n",
       "  </tbody>\n",
       "</table>\n",
       "<p>4 rows × 3 columns</p>\n",
       "</div>"
      ],
      "text/plain": [
       "  username                                         visitorID      songID\n",
       "0      NaN  2000.30f449f3f5221c7c4533.1475475034056.6a2a93fc  1075525434\n",
       "1      NaN  2000.22c03b00a6d14f8f16c0.1475512451510.55a76ad0  1075451846\n",
       "2      NaN  2000.9587386b99ba70e429ab.1475506846118.00704fce  1075457841\n",
       "3      NaN  2000.b4db2ae0ae20477e1e31.1469582408415.db51ea3d  1075755756\n",
       "\n",
       "[4 rows x 3 columns]"
      ]
     },
     "execution_count": 1,
     "metadata": {},
     "output_type": "execute_result"
    }
   ],
   "source": [
    "%matplotlib inline\n",
    "import pandas as pd\n",
    "import numpy as np\n",
    "data=pd.read_csv('/home/danhd/Desktop/ZingMp3_Spam/spam0410_2.txt',sep='\\t',header=None)\n",
    "data.columns = ['username','visitorID','songID']\n",
    "data.head(4)"
   ]
  },
  {
   "cell_type": "code",
   "execution_count": 2,
   "metadata": {
    "collapsed": true
   },
   "outputs": [],
   "source": [
    "data=data.dropna(subset=['visitorID'])"
   ]
  },
  {
   "cell_type": "code",
   "execution_count": 3,
   "metadata": {
    "collapsed": false
   },
   "outputs": [
    {
     "name": "stdout",
     "output_type": "stream",
     "text": [
      "            Listen count  Visit count\n",
      "songID                               \n",
      "1073741840           565          193\n",
      "1073741841           107           32\n",
      "1073741842           353          105\n",
      "1073741843             6            4\n",
      "1073741844             5            4\n",
      "1073741845             3            2\n",
      "\n",
      "[6 rows x 2 columns]\n"
     ]
    }
   ],
   "source": [
    "groupVisitorData=data.groupby(['songID']).agg({'visitorID':pd.Series.nunique,'songID':pd.Series.count})\n",
    "groupVisitorData.columns=['Listen count','Visit count']\n",
    "print groupVisitorData.head(6)"
   ]
  },
  {
   "cell_type": "code",
   "execution_count": 78,
   "metadata": {
    "collapsed": false
   },
   "outputs": [
    {
     "data": {
      "text/plain": [
       "<matplotlib.axes.AxesSubplot at 0x7fa6793fef50>"
      ]
     },
     "execution_count": 78,
     "metadata": {},
     "output_type": "execute_result"
    },
    {
     "data": {
      "image/png": "[encoded data removed]",
      "text/plain": [
       "<matplotlib.figure.Figure at 0x7fa69353e710>"
      ]
     },
     "metadata": {},
     "output_type": "display_data"
    }
   ],
   "source": [
    "groupVisitorData.plot(x='Visit count',y='Listen count',style='o')"
   ]
  },
  {
   "cell_type": "code",
   "execution_count": 79,
   "metadata": {
    "collapsed": false
   },
   "outputs": [
    {
     "data": {
      "text/html": [
       "<div style=\"max-height:1000px;max-width:1500px;overflow:auto;\">\n",
       "<table border=\"1\" class=\"dataframe\">\n",
       "  <thead>\n",
       "    <tr style=\"text-align: right;\">\n",
       "      <th></th>\n",
       "      <th>Listen count</th>\n",
       "      <th>Visit count</th>\n",
       "    </tr>\n",
       "  </thead>\n",
       "  <tbody>\n",
       "    <tr>\n",
       "      <th>count</th>\n",
       "      <td>  61997.000000</td>\n",
       "      <td> 61997.000000</td>\n",
       "    </tr>\n",
       "    <tr>\n",
       "      <th>mean</th>\n",
       "      <td>    106.408971</td>\n",
       "      <td>    22.805700</td>\n",
       "    </tr>\n",
       "    <tr>\n",
       "      <th>std</th>\n",
       "      <td>   2172.664974</td>\n",
       "      <td>   334.568321</td>\n",
       "    </tr>\n",
       "    <tr>\n",
       "      <th>min</th>\n",
       "      <td>      1.000000</td>\n",
       "      <td>     1.000000</td>\n",
       "    </tr>\n",
       "    <tr>\n",
       "      <th>25%</th>\n",
       "      <td>      1.000000</td>\n",
       "      <td>     1.000000</td>\n",
       "    </tr>\n",
       "    <tr>\n",
       "      <th>50%</th>\n",
       "      <td>      4.000000</td>\n",
       "      <td>     2.000000</td>\n",
       "    </tr>\n",
       "    <tr>\n",
       "      <th>75%</th>\n",
       "      <td>     20.000000</td>\n",
       "      <td>     6.000000</td>\n",
       "    </tr>\n",
       "    <tr>\n",
       "      <th>max</th>\n",
       "      <td> 315406.000000</td>\n",
       "      <td> 40342.000000</td>\n",
       "    </tr>\n",
       "  </tbody>\n",
       "</table>\n",
       "<p>8 rows × 2 columns</p>\n",
       "</div>"
      ],
      "text/plain": [
       "        Listen count   Visit count\n",
       "count   61997.000000  61997.000000\n",
       "mean      106.408971     22.805700\n",
       "std      2172.664974    334.568321\n",
       "min         1.000000      1.000000\n",
       "25%         1.000000      1.000000\n",
       "50%         4.000000      2.000000\n",
       "75%        20.000000      6.000000\n",
       "max    315406.000000  40342.000000\n",
       "\n",
       "[8 rows x 2 columns]"
      ]
     },
     "execution_count": 79,
     "metadata": {},
     "output_type": "execute_result"
    }
   ],
   "source": [
    "groupVisitorData.describe()"
   ]
  },
  {
   "cell_type": "code",
   "execution_count": 104,
   "metadata": {
    "collapsed": false
   },
   "outputs": [
    {
     "name": "stdout",
     "output_type": "stream",
     "text": [
      "85.0 211.2 1374.0\n"
     ]
    }
   ],
   "source": [
    "groupUserInt=groupVisitorData['Listen count'].values.astype(int)\n",
    "Q90, Q95,Q99 = np.percentile(groupUserInt, [90 ,95,99])\n",
    "print Q90, Q95,Q99"
   ]
  },
  {
   "cell_type": "code",
   "execution_count": 80,
   "metadata": {
    "collapsed": false
   },
   "outputs": [
    {
     "data": {
      "text/plain": [
       "<matplotlib.axes.AxesSubplot at 0x7fa6760bd910>"
      ]
     },
     "execution_count": 80,
     "metadata": {},
     "output_type": "execute_result"
    },
    {
     "data": {
      "image/png": "[encoded data removed]",
      "text/plain": [
       "<matplotlib.figure.Figure at 0x7fa67b625f50>"
      ]
     },
     "metadata": {},
     "output_type": "display_data"
    }
   ],
   "source": [
    "import matplotlib.pyplot as plt\n",
    "\n",
    "group1=groupVisitorData[groupVisitorData['Visit count'].isin([1])]\n",
    "data1=group1['Listen count']\n",
    "fig, ax = plt.subplots()\n",
    "data1.value_counts().plot(ax=ax, kind='bar')"
   ]
  },
  {
   "cell_type": "code",
   "execution_count": 81,
   "metadata": {
    "collapsed": false,
    "scrolled": true
   },
   "outputs": [
    {
     "data": {
      "text/html": [
       "<div style=\"max-height:1000px;max-width:1500px;overflow:auto;\">\n",
       "<table border=\"1\" class=\"dataframe\">\n",
       "  <thead>\n",
       "    <tr style=\"text-align: right;\">\n",
       "      <th></th>\n",
       "      <th>Listen count</th>\n",
       "      <th>Visit count</th>\n",
       "    </tr>\n",
       "  </thead>\n",
       "  <tbody>\n",
       "    <tr>\n",
       "      <th>count</th>\n",
       "      <td> 27255.000000</td>\n",
       "      <td> 27255</td>\n",
       "    </tr>\n",
       "    <tr>\n",
       "      <th>mean</th>\n",
       "      <td>     3.060943</td>\n",
       "      <td>     1</td>\n",
       "    </tr>\n",
       "    <tr>\n",
       "      <th>std</th>\n",
       "      <td>     7.163594</td>\n",
       "      <td>     0</td>\n",
       "    </tr>\n",
       "    <tr>\n",
       "      <th>min</th>\n",
       "      <td>     1.000000</td>\n",
       "      <td>     1</td>\n",
       "    </tr>\n",
       "    <tr>\n",
       "      <th>25%</th>\n",
       "      <td>     1.000000</td>\n",
       "      <td>     1</td>\n",
       "    </tr>\n",
       "    <tr>\n",
       "      <th>50%</th>\n",
       "      <td>     1.000000</td>\n",
       "      <td>     1</td>\n",
       "    </tr>\n",
       "    <tr>\n",
       "      <th>75%</th>\n",
       "      <td>     2.000000</td>\n",
       "      <td>     1</td>\n",
       "    </tr>\n",
       "    <tr>\n",
       "      <th>max</th>\n",
       "      <td>   168.000000</td>\n",
       "      <td>     1</td>\n",
       "    </tr>\n",
       "  </tbody>\n",
       "</table>\n",
       "<p>8 rows × 2 columns</p>\n",
       "</div>"
      ],
      "text/plain": [
       "       Listen count  Visit count\n",
       "count  27255.000000        27255\n",
       "mean       3.060943            1\n",
       "std        7.163594            0\n",
       "min        1.000000            1\n",
       "25%        1.000000            1\n",
       "50%        1.000000            1\n",
       "75%        2.000000            1\n",
       "max      168.000000            1\n",
       "\n",
       "[8 rows x 2 columns]"
      ]
     },
     "execution_count": 81,
     "metadata": {},
     "output_type": "execute_result"
    }
   ],
   "source": [
    "group1.describe()"
   ]
  },
  {
   "cell_type": "code",
   "execution_count": 83,
   "metadata": {
    "collapsed": false
   },
   "outputs": [
    {
     "name": "stdout",
     "output_type": "stream",
     "text": [
      "0.439618046034\n"
     ]
    }
   ],
   "source": [
    "print 27255.000000/61997.000000"
   ]
  },
  {
   "cell_type": "code",
   "execution_count": 103,
   "metadata": {
    "collapsed": false
   },
   "outputs": [
    {
     "name": "stdout",
     "output_type": "stream",
     "text": [
      "6.0 12.0 34.0\n"
     ]
    }
   ],
   "source": [
    "groupUserInt=group1['Listen count'].values.astype(int)\n",
    "Q90, Q95,Q99 = np.percentile(groupUserInt, [90 ,95,99])\n",
    "print Q90, Q95,Q99"
   ]
  },
  {
   "cell_type": "code",
   "execution_count": 86,
   "metadata": {
    "collapsed": false,
    "scrolled": true
   },
   "outputs": [
    {
     "data": {
      "text/plain": [
       "<matplotlib.axes.AxesSubplot at 0x7fa675ced450>"
      ]
     },
     "execution_count": 86,
     "metadata": {},
     "output_type": "execute_result"
    },
    {
     "data": {
      "image/png": "[encoded data removed]",
      "text/plain": [
       "<matplotlib.figure.Figure at 0x7fa561c78090>"
      ]
     },
     "metadata": {},
     "output_type": "display_data"
    }
   ],
   "source": [
    "d=data1.value_counts().sort_index()[34:]\n",
    "fig, ax = plt.subplots()\n",
    "d.plot(ax=ax, kind='bar')"
   ]
  },
  {
   "cell_type": "code",
   "execution_count": 90,
   "metadata": {
    "collapsed": false
   },
   "outputs": [
    {
     "data": {
      "text/plain": [
       "<matplotlib.axes.AxesSubplot at 0x7fa67563b890>"
      ]
     },
     "execution_count": 90,
     "metadata": {},
     "output_type": "execute_result"
    },
    {
     "data": {
      "image/png": "[encoded data removed]",
      "text/plain": [
       "<matplotlib.figure.Figure at 0x7fa675a0f8d0>"
      ]
     },
     "metadata": {},
     "output_type": "display_data"
    }
   ],
   "source": [
    "group2=groupVisitorData[groupVisitorData['Visit count'].isin([2,3,4])]\n",
    "data2=group1['Listen count']\n",
    "fig, ax = plt.subplots()\n",
    "data2.value_counts().plot(ax=ax, kind='bar')"
   ]
  },
  {
   "cell_type": "code",
   "execution_count": 91,
   "metadata": {
    "collapsed": false
   },
   "outputs": [
    {
     "data": {
      "text/html": [
       "<div style=\"max-height:1000px;max-width:1500px;overflow:auto;\">\n",
       "<table border=\"1\" class=\"dataframe\">\n",
       "  <thead>\n",
       "    <tr style=\"text-align: right;\">\n",
       "      <th></th>\n",
       "      <th>Listen count</th>\n",
       "      <th>Visit count</th>\n",
       "    </tr>\n",
       "  </thead>\n",
       "  <tbody>\n",
       "    <tr>\n",
       "      <th>count</th>\n",
       "      <td> 16836.000000</td>\n",
       "      <td> 16836.000000</td>\n",
       "    </tr>\n",
       "    <tr>\n",
       "      <th>mean</th>\n",
       "      <td>     9.063376</td>\n",
       "      <td>     2.632454</td>\n",
       "    </tr>\n",
       "    <tr>\n",
       "      <th>std</th>\n",
       "      <td>    13.426068</td>\n",
       "      <td>     0.764820</td>\n",
       "    </tr>\n",
       "    <tr>\n",
       "      <th>min</th>\n",
       "      <td>     2.000000</td>\n",
       "      <td>     2.000000</td>\n",
       "    </tr>\n",
       "    <tr>\n",
       "      <th>25%</th>\n",
       "      <td>     3.000000</td>\n",
       "      <td>     2.000000</td>\n",
       "    </tr>\n",
       "    <tr>\n",
       "      <th>50%</th>\n",
       "      <td>     4.000000</td>\n",
       "      <td>     2.000000</td>\n",
       "    </tr>\n",
       "    <tr>\n",
       "      <th>75%</th>\n",
       "      <td>    10.000000</td>\n",
       "      <td>     3.000000</td>\n",
       "    </tr>\n",
       "    <tr>\n",
       "      <th>max</th>\n",
       "      <td>   279.000000</td>\n",
       "      <td>     4.000000</td>\n",
       "    </tr>\n",
       "  </tbody>\n",
       "</table>\n",
       "<p>8 rows × 2 columns</p>\n",
       "</div>"
      ],
      "text/plain": [
       "       Listen count   Visit count\n",
       "count  16836.000000  16836.000000\n",
       "mean       9.063376      2.632454\n",
       "std       13.426068      0.764820\n",
       "min        2.000000      2.000000\n",
       "25%        3.000000      2.000000\n",
       "50%        4.000000      2.000000\n",
       "75%       10.000000      3.000000\n",
       "max      279.000000      4.000000\n",
       "\n",
       "[8 rows x 2 columns]"
      ]
     },
     "execution_count": 91,
     "metadata": {},
     "output_type": "execute_result"
    }
   ],
   "source": [
    "group2.describe()"
   ]
  },
  {
   "cell_type": "code",
   "execution_count": 92,
   "metadata": {
    "collapsed": false
   },
   "outputs": [
    {
     "name": "stdout",
     "output_type": "stream",
     "text": [
      "21.0 32.0 71.0\n"
     ]
    }
   ],
   "source": [
    "groupUserInt=group2['Listen count'].values.astype(int)\n",
    "Q90, Q95,Q99 = np.percentile(groupUserInt, [90 ,95,99])\n",
    "print Q90, Q95,Q99"
   ]
  },
  {
   "cell_type": "code",
   "execution_count": 95,
   "metadata": {
    "collapsed": false
   },
   "outputs": [
    {
     "data": {
      "text/plain": [
       "<matplotlib.axes.AxesSubplot at 0x7fa66735c950>"
      ]
     },
     "execution_count": 95,
     "metadata": {},
     "output_type": "execute_result"
    },
    {
     "data": {
      "image/png": "[encoded data removed]",
      "text/plain": [
       "<matplotlib.figure.Figure at 0x7fa5afcb0610>"
      ]
     },
     "metadata": {},
     "output_type": "display_data"
    }
   ],
   "source": [
    "d=data2.value_counts().sort_index()[69:]\n",
    "fig, ax = plt.subplots()\n",
    "d.plot(ax=ax, kind='bar')"
   ]
  },
  {
   "cell_type": "code",
   "execution_count": 96,
   "metadata": {
    "collapsed": false
   },
   "outputs": [
    {
     "data": {
      "text/plain": [
       "<matplotlib.axes.AxesSubplot at 0x7fa667194610>"
      ]
     },
     "execution_count": 96,
     "metadata": {},
     "output_type": "execute_result"
    },
    {
     "data": {
      "image/png": "[encoded data removed]",
      "text/plain": [
       "<matplotlib.figure.Figure at 0x7fa667bea610>"
      ]
     },
     "metadata": {},
     "output_type": "display_data"
    }
   ],
   "source": [
    "group3=groupVisitorData[groupVisitorData['Visit count'].isin([5,6,7,8,9,10,11,12,13,14,15,16,17,18,19,20])]\n",
    "data3=group3['Listen count']\n",
    "fig, ax = plt.subplots()\n",
    "data3.value_counts().plot(ax=ax, kind='bar')"
   ]
  },
  {
   "cell_type": "code",
   "execution_count": 97,
   "metadata": {
    "collapsed": false
   },
   "outputs": [
    {
     "data": {
      "text/html": [
       "<div style=\"max-height:1000px;max-width:1500px;overflow:auto;\">\n",
       "<table border=\"1\" class=\"dataframe\">\n",
       "  <thead>\n",
       "    <tr style=\"text-align: right;\">\n",
       "      <th></th>\n",
       "      <th>Listen count</th>\n",
       "      <th>Visit count</th>\n",
       "    </tr>\n",
       "  </thead>\n",
       "  <tbody>\n",
       "    <tr>\n",
       "      <th>count</th>\n",
       "      <td> 11357.000000</td>\n",
       "      <td> 11357.000000</td>\n",
       "    </tr>\n",
       "    <tr>\n",
       "      <th>mean</th>\n",
       "      <td>    33.916087</td>\n",
       "      <td>     9.506208</td>\n",
       "    </tr>\n",
       "    <tr>\n",
       "      <th>std</th>\n",
       "      <td>    31.916674</td>\n",
       "      <td>     4.255002</td>\n",
       "    </tr>\n",
       "    <tr>\n",
       "      <th>min</th>\n",
       "      <td>     5.000000</td>\n",
       "      <td>     5.000000</td>\n",
       "    </tr>\n",
       "    <tr>\n",
       "      <th>25%</th>\n",
       "      <td>    12.000000</td>\n",
       "      <td>     6.000000</td>\n",
       "    </tr>\n",
       "    <tr>\n",
       "      <th>50%</th>\n",
       "      <td>    23.000000</td>\n",
       "      <td>     8.000000</td>\n",
       "    </tr>\n",
       "    <tr>\n",
       "      <th>75%</th>\n",
       "      <td>    44.000000</td>\n",
       "      <td>    12.000000</td>\n",
       "    </tr>\n",
       "    <tr>\n",
       "      <th>max</th>\n",
       "      <td>   430.000000</td>\n",
       "      <td>    20.000000</td>\n",
       "    </tr>\n",
       "  </tbody>\n",
       "</table>\n",
       "<p>8 rows × 2 columns</p>\n",
       "</div>"
      ],
      "text/plain": [
       "       Listen count   Visit count\n",
       "count  11357.000000  11357.000000\n",
       "mean      33.916087      9.506208\n",
       "std       31.916674      4.255002\n",
       "min        5.000000      5.000000\n",
       "25%       12.000000      6.000000\n",
       "50%       23.000000      8.000000\n",
       "75%       44.000000     12.000000\n",
       "max      430.000000     20.000000\n",
       "\n",
       "[8 rows x 2 columns]"
      ]
     },
     "execution_count": 97,
     "metadata": {},
     "output_type": "execute_result"
    }
   ],
   "source": [
    "group3.describe()"
   ]
  },
  {
   "cell_type": "code",
   "execution_count": 98,
   "metadata": {
    "collapsed": false
   },
   "outputs": [
    {
     "name": "stdout",
     "output_type": "stream",
     "text": [
      "74.0 98.0 150.44\n"
     ]
    }
   ],
   "source": [
    "groupUserInt=group3['Listen count'].values.astype(int)\n",
    "Q90, Q95,Q99 = np.percentile(groupUserInt, [90 ,95,99])\n",
    "print Q90, Q95,Q99"
   ]
  },
  {
   "cell_type": "code",
   "execution_count": 102,
   "metadata": {
    "collapsed": false
   },
   "outputs": [
    {
     "data": {
      "text/plain": [
       "<matplotlib.axes.AxesSubplot at 0x7fa5aee39490>"
      ]
     },
     "execution_count": 102,
     "metadata": {},
     "output_type": "execute_result"
    },
    {
     "data": {
      "image/png": "[encoded data removed]",
      "text/plain": [
       "<matplotlib.figure.Figure at 0x7fa5ae7f57d0>"
      ]
     },
     "metadata": {},
     "output_type": "display_data"
    }
   ],
   "source": [
    "d=data3.value_counts().sort_index()[146:]\n",
    "fig, ax = plt.subplots()\n",
    "d.plot(ax=ax, kind='bar')"
   ]
  },
  {
   "cell_type": "code",
   "execution_count": 106,
   "metadata": {
    "collapsed": false
   },
   "outputs": [
    {
     "data": {
      "text/plain": [
       "<matplotlib.axes.AxesSubplot at 0x7fa6793d0e50>"
      ]
     },
     "execution_count": 106,
     "metadata": {},
     "output_type": "execute_result"
    },
    {
     "data": {
      "image/png": "[encoded data removed]",
      "text/plain": [
       "<matplotlib.figure.Figure at 0x7fa679445e50>"
      ]
     },
     "metadata": {},
     "output_type": "display_data"
    }
   ],
   "source": [
    "group4=groupVisitorData[(groupVisitorData['Visit count']>20) & (groupVisitorData['Visit count']<=85)]\n",
    "data4=group4['Listen count']\n",
    "fig, ax = plt.subplots()\n",
    "data4.value_counts().plot(ax=ax, kind='bar')"
   ]
  },
  {
   "cell_type": "code",
   "execution_count": 126,
   "metadata": {
    "collapsed": false
   },
   "outputs": [
    {
     "data": {
      "text/html": [
       "<div style=\"max-height:1000px;max-width:1500px;overflow:auto;\">\n",
       "<table border=\"1\" class=\"dataframe\">\n",
       "  <thead>\n",
       "    <tr style=\"text-align: right;\">\n",
       "      <th></th>\n",
       "      <th>Listen count</th>\n",
       "      <th>Visit count</th>\n",
       "    </tr>\n",
       "  </thead>\n",
       "  <tbody>\n",
       "    <tr>\n",
       "      <th>count</th>\n",
       "      <td> 4329.000000</td>\n",
       "      <td> 4329.000000</td>\n",
       "    </tr>\n",
       "    <tr>\n",
       "      <th>mean</th>\n",
       "      <td>  153.115269</td>\n",
       "      <td>   40.493416</td>\n",
       "    </tr>\n",
       "    <tr>\n",
       "      <th>std</th>\n",
       "      <td>  130.772139</td>\n",
       "      <td>   17.029061</td>\n",
       "    </tr>\n",
       "    <tr>\n",
       "      <th>min</th>\n",
       "      <td>   21.000000</td>\n",
       "      <td>   21.000000</td>\n",
       "    </tr>\n",
       "    <tr>\n",
       "      <th>25%</th>\n",
       "      <td>   77.000000</td>\n",
       "      <td>   26.000000</td>\n",
       "    </tr>\n",
       "    <tr>\n",
       "      <th>50%</th>\n",
       "      <td>  124.000000</td>\n",
       "      <td>   36.000000</td>\n",
       "    </tr>\n",
       "    <tr>\n",
       "      <th>75%</th>\n",
       "      <td>  198.000000</td>\n",
       "      <td>   51.000000</td>\n",
       "    </tr>\n",
       "    <tr>\n",
       "      <th>max</th>\n",
       "      <td> 5369.000000</td>\n",
       "      <td>   85.000000</td>\n",
       "    </tr>\n",
       "  </tbody>\n",
       "</table>\n",
       "<p>8 rows × 2 columns</p>\n",
       "</div>"
      ],
      "text/plain": [
       "       Listen count  Visit count\n",
       "count   4329.000000  4329.000000\n",
       "mean     153.115269    40.493416\n",
       "std      130.772139    17.029061\n",
       "min       21.000000    21.000000\n",
       "25%       77.000000    26.000000\n",
       "50%      124.000000    36.000000\n",
       "75%      198.000000    51.000000\n",
       "max     5369.000000    85.000000\n",
       "\n",
       "[8 rows x 2 columns]"
      ]
     },
     "execution_count": 126,
     "metadata": {},
     "output_type": "execute_result"
    }
   ],
   "source": [
    "group4.describe()"
   ]
  },
  {
   "cell_type": "code",
   "execution_count": 107,
   "metadata": {
    "collapsed": false
   },
   "outputs": [
    {
     "name": "stdout",
     "output_type": "stream",
     "text": [
      "68.0 75.0 83.0\n"
     ]
    }
   ],
   "source": [
    "groupUserInt=group4['Visit count'].values.astype(int)\n",
    "Q90,Q95,Q99 = np.percentile(groupUserInt, [90 ,95,99])\n",
    "print Q90,Q95,Q99"
   ]
  },
  {
   "cell_type": "code",
   "execution_count": 112,
   "metadata": {
    "collapsed": false
   },
   "outputs": [
    {
     "name": "stdout",
     "output_type": "stream",
     "text": [
      "84    16\n",
      "85    26\n",
      "86    26\n",
      "87    28\n",
      "88    26\n",
      "dtype: int64\n"
     ]
    },
    {
     "data": {
      "text/plain": [
       "<matplotlib.axes.AxesSubplot at 0x7fa6764d2b50>"
      ]
     },
     "execution_count": 112,
     "metadata": {},
     "output_type": "execute_result"
    },
    {
     "data": {
      "image/png": "[encoded data removed]",
      "text/plain": [
       "<matplotlib.figure.Figure at 0x7fa6742a7cd0>"
      ]
     },
     "metadata": {},
     "output_type": "display_data"
    }
   ],
   "source": [
    "d=data4.value_counts().sort_index()[63:]\n",
    "print d.head()\n",
    "fig, ax = plt.subplots()\n",
    "d.plot(ax=ax, kind='bar')"
   ]
  },
  {
   "cell_type": "code",
   "execution_count": 113,
   "metadata": {
    "collapsed": false
   },
   "outputs": [
    {
     "data": {
      "text/plain": [
       "<matplotlib.axes.AxesSubplot at 0x7fa674768750>"
      ]
     },
     "execution_count": 113,
     "metadata": {},
     "output_type": "execute_result"
    },
    {
     "data": {
      "image/png": "[encoded data removed]",
      "text/plain": [
       "<matplotlib.figure.Figure at 0x7fa6659e2550>"
      ]
     },
     "metadata": {},
     "output_type": "display_data"
    }
   ],
   "source": [
    "group5=groupVisitorData[(groupVisitorData['Visit count']>85) & (groupVisitorData['Visit count']<=211)]\n",
    "data5=group5['Listen count']\n",
    "fig, ax = plt.subplots()\n",
    "data5.value_counts().plot(ax=ax, kind='bar')"
   ]
  },
  {
   "cell_type": "code",
   "execution_count": 127,
   "metadata": {
    "collapsed": false
   },
   "outputs": [
    {
     "data": {
      "text/html": [
       "<div style=\"max-height:1000px;max-width:1500px;overflow:auto;\">\n",
       "<table border=\"1\" class=\"dataframe\">\n",
       "  <thead>\n",
       "    <tr style=\"text-align: right;\">\n",
       "      <th></th>\n",
       "      <th>Listen count</th>\n",
       "      <th>Visit count</th>\n",
       "    </tr>\n",
       "  </thead>\n",
       "  <tbody>\n",
       "    <tr>\n",
       "      <th>count</th>\n",
       "      <td> 1191.000000</td>\n",
       "      <td> 1191.000000</td>\n",
       "    </tr>\n",
       "    <tr>\n",
       "      <th>mean</th>\n",
       "      <td>  508.888329</td>\n",
       "      <td>  132.766583</td>\n",
       "    </tr>\n",
       "    <tr>\n",
       "      <th>std</th>\n",
       "      <td>  300.728156</td>\n",
       "      <td>   34.867542</td>\n",
       "    </tr>\n",
       "    <tr>\n",
       "      <th>min</th>\n",
       "      <td>   97.000000</td>\n",
       "      <td>   86.000000</td>\n",
       "    </tr>\n",
       "    <tr>\n",
       "      <th>25%</th>\n",
       "      <td>  306.000000</td>\n",
       "      <td>  103.000000</td>\n",
       "    </tr>\n",
       "    <tr>\n",
       "      <th>50%</th>\n",
       "      <td>  447.000000</td>\n",
       "      <td>  125.000000</td>\n",
       "    </tr>\n",
       "    <tr>\n",
       "      <th>75%</th>\n",
       "      <td>  634.500000</td>\n",
       "      <td>  159.000000</td>\n",
       "    </tr>\n",
       "    <tr>\n",
       "      <th>max</th>\n",
       "      <td> 4264.000000</td>\n",
       "      <td>  211.000000</td>\n",
       "    </tr>\n",
       "  </tbody>\n",
       "</table>\n",
       "<p>8 rows × 2 columns</p>\n",
       "</div>"
      ],
      "text/plain": [
       "       Listen count  Visit count\n",
       "count   1191.000000  1191.000000\n",
       "mean     508.888329   132.766583\n",
       "std      300.728156    34.867542\n",
       "min       97.000000    86.000000\n",
       "25%      306.000000   103.000000\n",
       "50%      447.000000   125.000000\n",
       "75%      634.500000   159.000000\n",
       "max     4264.000000   211.000000\n",
       "\n",
       "[8 rows x 2 columns]"
      ]
     },
     "execution_count": 127,
     "metadata": {},
     "output_type": "execute_result"
    }
   ],
   "source": [
    "group5.describe()"
   ]
  },
  {
   "cell_type": "code",
   "execution_count": 114,
   "metadata": {
    "collapsed": false
   },
   "outputs": [
    {
     "name": "stdout",
     "output_type": "stream",
     "text": [
      "187.0 197.5 208.1\n"
     ]
    }
   ],
   "source": [
    "groupUserInt=group5['Visit count'].values.astype(int)\n",
    "Q90,Q95,Q99 = np.percentile(groupUserInt, [90 ,95,99])\n",
    "print Q90,Q95,Q99"
   ]
  },
  {
   "cell_type": "code",
   "execution_count": 122,
   "metadata": {
    "collapsed": false
   },
   "outputs": [
    {
     "name": "stdout",
     "output_type": "stream",
     "text": [
      "209    3\n",
      "210    1\n",
      "212    1\n",
      "213    2\n",
      "214    3\n",
      "dtype: int64\n"
     ]
    },
    {
     "data": {
      "text/plain": [
       "<matplotlib.axes.AxesSubplot at 0x7fa65142e850>"
      ]
     },
     "execution_count": 122,
     "metadata": {},
     "output_type": "execute_result"
    },
    {
     "data": {
      "image/png": "[encoded data removed]",
      "text/plain": [
       "<matplotlib.figure.Figure at 0x7fa6581bc590>"
      ]
     },
     "metadata": {},
     "output_type": "display_data"
    }
   ],
   "source": [
    "d=data5.value_counts().sort_index()[56:]\n",
    "print d.head()\n",
    "fig, ax = plt.subplots()\n",
    "d.plot(ax=ax, kind='bar')"
   ]
  },
  {
   "cell_type": "code",
   "execution_count": 123,
   "metadata": {
    "collapsed": false
   },
   "outputs": [
    {
     "data": {
      "text/plain": [
       "<matplotlib.axes.AxesSubplot at 0x7fa6479d4510>"
      ]
     },
     "execution_count": 123,
     "metadata": {},
     "output_type": "execute_result"
    },
    {
     "data": {
      "image/png": "[encoded data removed]",
      "text/plain": [
       "<matplotlib.figure.Figure at 0x7fa64675df90>"
      ]
     },
     "metadata": {},
     "output_type": "display_data"
    }
   ],
   "source": [
    "group6=groupVisitorData[(groupVisitorData['Visit count']>211) & (groupVisitorData['Visit count']<=1374)]\n",
    "data6=group6['Listen count']\n",
    "fig, ax = plt.subplots()\n",
    "data6.value_counts().plot(ax=ax, kind='bar')"
   ]
  },
  {
   "cell_type": "code",
   "execution_count": 128,
   "metadata": {
    "collapsed": false
   },
   "outputs": [
    {
     "data": {
      "text/html": [
       "<div style=\"max-height:1000px;max-width:1500px;overflow:auto;\">\n",
       "<table border=\"1\" class=\"dataframe\">\n",
       "  <thead>\n",
       "    <tr style=\"text-align: right;\">\n",
       "      <th></th>\n",
       "      <th>Listen count</th>\n",
       "      <th>Visit count</th>\n",
       "    </tr>\n",
       "  </thead>\n",
       "  <tbody>\n",
       "    <tr>\n",
       "      <th>count</th>\n",
       "      <td>   940.000000</td>\n",
       "      <td>  940.000000</td>\n",
       "    </tr>\n",
       "    <tr>\n",
       "      <th>mean</th>\n",
       "      <td>  1981.531915</td>\n",
       "      <td>  467.984043</td>\n",
       "    </tr>\n",
       "    <tr>\n",
       "      <th>std</th>\n",
       "      <td>  1584.247105</td>\n",
       "      <td>  256.244049</td>\n",
       "    </tr>\n",
       "    <tr>\n",
       "      <th>min</th>\n",
       "      <td>   306.000000</td>\n",
       "      <td>  212.000000</td>\n",
       "    </tr>\n",
       "    <tr>\n",
       "      <th>25%</th>\n",
       "      <td>   959.000000</td>\n",
       "      <td>  268.000000</td>\n",
       "    </tr>\n",
       "    <tr>\n",
       "      <th>50%</th>\n",
       "      <td>  1497.500000</td>\n",
       "      <td>  375.500000</td>\n",
       "    </tr>\n",
       "    <tr>\n",
       "      <th>75%</th>\n",
       "      <td>  2441.250000</td>\n",
       "      <td>  605.000000</td>\n",
       "    </tr>\n",
       "    <tr>\n",
       "      <th>max</th>\n",
       "      <td> 14157.000000</td>\n",
       "      <td> 1364.000000</td>\n",
       "    </tr>\n",
       "  </tbody>\n",
       "</table>\n",
       "<p>8 rows × 2 columns</p>\n",
       "</div>"
      ],
      "text/plain": [
       "       Listen count  Visit count\n",
       "count    940.000000   940.000000\n",
       "mean    1981.531915   467.984043\n",
       "std     1584.247105   256.244049\n",
       "min      306.000000   212.000000\n",
       "25%      959.000000   268.000000\n",
       "50%     1497.500000   375.500000\n",
       "75%     2441.250000   605.000000\n",
       "max    14157.000000  1364.000000\n",
       "\n",
       "[8 rows x 2 columns]"
      ]
     },
     "execution_count": 128,
     "metadata": {},
     "output_type": "execute_result"
    }
   ],
   "source": [
    "group6.describe()"
   ]
  },
  {
   "cell_type": "code",
   "execution_count": 124,
   "metadata": {
    "collapsed": false
   },
   "outputs": [
    {
     "name": "stdout",
     "output_type": "stream",
     "text": [
      "838.1 1016.15 1288.32\n"
     ]
    }
   ],
   "source": [
    "groupUserInt=group6['Visit count'].values.astype(int)\n",
    "Q90,Q95,Q99 = np.percentile(groupUserInt, [90 ,95,99])\n",
    "print Q90,Q95,Q99"
   ]
  },
  {
   "cell_type": "code",
   "execution_count": 129,
   "metadata": {
    "collapsed": false
   },
   "outputs": [
    {
     "data": {
      "text/plain": [
       "<matplotlib.axes.AxesSubplot at 0x7fa63be520d0>"
      ]
     },
     "execution_count": 129,
     "metadata": {},
     "output_type": "execute_result"
    },
    {
     "data": {
      "image/png": "[encoded data removed]",
      "text/plain": [
       "<matplotlib.figure.Figure at 0x7fa63b46cfd0>"
      ]
     },
     "metadata": {},
     "output_type": "display_data"
    }
   ],
   "source": [
    "group7=groupVisitorData[groupVisitorData['Visit count']>1374]\n",
    "data7=group7['Listen count']\n",
    "fig, ax = plt.subplots()\n",
    "data7.value_counts().plot(ax=ax, kind='bar')"
   ]
  },
  {
   "cell_type": "code",
   "execution_count": 130,
   "metadata": {
    "collapsed": false
   },
   "outputs": [
    {
     "data": {
      "text/html": [
       "<div style=\"max-height:1000px;max-width:1500px;overflow:auto;\">\n",
       "<table border=\"1\" class=\"dataframe\">\n",
       "  <thead>\n",
       "    <tr style=\"text-align: right;\">\n",
       "      <th></th>\n",
       "      <th>Listen count</th>\n",
       "      <th>Visit count</th>\n",
       "    </tr>\n",
       "  </thead>\n",
       "  <tbody>\n",
       "    <tr>\n",
       "      <th>count</th>\n",
       "      <td>     89.000000</td>\n",
       "      <td>    89.000000</td>\n",
       "    </tr>\n",
       "    <tr>\n",
       "      <th>mean</th>\n",
       "      <td>  31958.123596</td>\n",
       "      <td>  5180.022472</td>\n",
       "    </tr>\n",
       "    <tr>\n",
       "      <th>std</th>\n",
       "      <td>  47168.090005</td>\n",
       "      <td>  6977.250702</td>\n",
       "    </tr>\n",
       "    <tr>\n",
       "      <th>min</th>\n",
       "      <td>   4131.000000</td>\n",
       "      <td>  1375.000000</td>\n",
       "    </tr>\n",
       "    <tr>\n",
       "      <th>25%</th>\n",
       "      <td>   9612.000000</td>\n",
       "      <td>  1860.000000</td>\n",
       "    </tr>\n",
       "    <tr>\n",
       "      <th>50%</th>\n",
       "      <td>  16171.000000</td>\n",
       "      <td>  2484.000000</td>\n",
       "    </tr>\n",
       "    <tr>\n",
       "      <th>75%</th>\n",
       "      <td>  29011.000000</td>\n",
       "      <td>  4909.000000</td>\n",
       "    </tr>\n",
       "    <tr>\n",
       "      <th>max</th>\n",
       "      <td> 315406.000000</td>\n",
       "      <td> 40342.000000</td>\n",
       "    </tr>\n",
       "  </tbody>\n",
       "</table>\n",
       "<p>8 rows × 2 columns</p>\n",
       "</div>"
      ],
      "text/plain": [
       "        Listen count   Visit count\n",
       "count      89.000000     89.000000\n",
       "mean    31958.123596   5180.022472\n",
       "std     47168.090005   6977.250702\n",
       "min      4131.000000   1375.000000\n",
       "25%      9612.000000   1860.000000\n",
       "50%     16171.000000   2484.000000\n",
       "75%     29011.000000   4909.000000\n",
       "max    315406.000000  40342.000000\n",
       "\n",
       "[8 rows x 2 columns]"
      ]
     },
     "execution_count": 130,
     "metadata": {},
     "output_type": "execute_result"
    }
   ],
   "source": [
    "group7.describe()"
   ]
  },
  {
   "cell_type": "code",
   "execution_count": 4,
   "metadata": {
    "collapsed": false
   },
   "outputs": [
    {
     "ename": "NameError",
     "evalue": "name 'group7' is not defined",
     "output_type": "error",
     "traceback": [
      "\u001b[0;31m---------------------------------------------------------------------------\u001b[0m",
      "\u001b[0;31mNameError\u001b[0m                                 Traceback (most recent call last)",
      "\u001b[0;32m<ipython-input-4-a9bf1a7c1960>\u001b[0m in \u001b[0;36m<module>\u001b[0;34m()\u001b[0m\n\u001b[0;32m----> 1\u001b[0;31m \u001b[0mgroupUserInt\u001b[0m\u001b[0;34m=\u001b[0m\u001b[0mgroup7\u001b[0m\u001b[0;34m[\u001b[0m\u001b[0;34m'Visit count'\u001b[0m\u001b[0;34m]\u001b[0m\u001b[0;34m.\u001b[0m\u001b[0mvalues\u001b[0m\u001b[0;34m.\u001b[0m\u001b[0mastype\u001b[0m\u001b[0;34m(\u001b[0m\u001b[0mint\u001b[0m\u001b[0;34m)\u001b[0m\u001b[0;34m\u001b[0m\u001b[0m\n\u001b[0m\u001b[1;32m      2\u001b[0m \u001b[0mQ90\u001b[0m\u001b[0;34m,\u001b[0m\u001b[0mQ95\u001b[0m\u001b[0;34m,\u001b[0m\u001b[0mQ99\u001b[0m \u001b[0;34m=\u001b[0m \u001b[0mnp\u001b[0m\u001b[0;34m.\u001b[0m\u001b[0mpercentile\u001b[0m\u001b[0;34m(\u001b[0m\u001b[0mgroupUserInt\u001b[0m\u001b[0;34m,\u001b[0m \u001b[0;34m[\u001b[0m\u001b[0;36m90\u001b[0m \u001b[0;34m,\u001b[0m\u001b[0;36m95\u001b[0m\u001b[0;34m,\u001b[0m\u001b[0;36m99\u001b[0m\u001b[0;34m]\u001b[0m\u001b[0;34m)\u001b[0m\u001b[0;34m\u001b[0m\u001b[0m\n\u001b[1;32m      3\u001b[0m \u001b[0;32mprint\u001b[0m \u001b[0mQ90\u001b[0m\u001b[0;34m,\u001b[0m\u001b[0mQ95\u001b[0m\u001b[0;34m,\u001b[0m\u001b[0mQ99\u001b[0m\u001b[0;34m\u001b[0m\u001b[0m\n",
      "\u001b[0;31mNameError\u001b[0m: name 'group7' is not defined"
     ]
    }
   ],
   "source": [
    "groupUserInt=group7['Visit count'].values.astype(int)\n",
    "Q90,Q95,Q99 = np.percentile(groupUserInt, [90 ,95,99])\n",
    "print Q90,Q95,Q99"
   ]
  },
  {
   "cell_type": "markdown",
   "metadata": {},
   "source": [
    "# <color='red'>DB SCAN</color>"
   ]
  },
  {
   "cell_type": "code",
   "execution_count": 5,
   "metadata": {
    "collapsed": false
   },
   "outputs": [
    {
     "name": "stdout",
     "output_type": "stream",
     "text": [
      "[[ 565.  193.]\n",
      " [ 107.   32.]\n",
      " [ 353.  105.]\n",
      " ..., \n",
      " [   1.    1.]\n",
      " [  27.    9.]\n",
      " [   3.    1.]]\n"
     ]
    }
   ],
   "source": [
    "dbData = groupVisitorData.as_matrix().astype(\"float32\", copy = False)\n",
    "print dbData"
   ]
  },
  {
   "cell_type": "code",
   "execution_count": 6,
   "metadata": {
    "collapsed": false
   },
   "outputs": [
    {
     "name": "stdout",
     "output_type": "stream",
     "text": [
      "[[  2.11076796e-01   5.08700073e-01]\n",
      " [  2.72033096e-04   2.74811815e-02]\n",
      " [  1.13499045e-01   2.45673582e-01]\n",
      " ..., \n",
      " [ -4.85168397e-02  -6.51758611e-02]\n",
      " [ -3.65497582e-02  -4.12643664e-02]\n",
      " [ -4.75962982e-02  -6.51758611e-02]]\n"
     ]
    }
   ],
   "source": [
    "from sklearn.preprocessing import StandardScaler\n",
    "\n",
    "stscaler = StandardScaler().fit(dbData)\n",
    "dbData = stscaler.transform(dbData)\n",
    "print dbData"
   ]
  },
  {
   "cell_type": "code",
   "execution_count": 7,
   "metadata": {
    "collapsed": false
   },
   "outputs": [
    {
     "data": {
      "image/png": "[encoded data removed]",
      "text/plain": [
       "<matplotlib.figure.Figure at 0x7f657bc12350>"
      ]
     },
     "metadata": {},
     "output_type": "display_data"
    }
   ],
   "source": [
    "x = dbData[:,0]\n",
    "y= dbData[:,1]\n",
    "import numpy as np\n",
    "import matplotlib.pyplot as plt\n",
    "\n",
    "plt.scatter(x,y)\n",
    "plt.xlim(0,160)\n",
    "plt.ylim(0,140)\n",
    "plt.show()"
   ]
  },
  {
   "cell_type": "code",
   "execution_count": null,
   "metadata": {
    "collapsed": false
   },
   "outputs": [],
   "source": [
    "from sklearn.cluster import DBSCAN\n",
    "dbsc = DBSCAN(eps = 10, min_samples = 15).fit(dbData)\n"
   ]
  },
  {
   "cell_type": "code",
   "execution_count": null,
   "metadata": {
    "collapsed": true
   },
   "outputs": [],
   "source": [
    "print 'a'"
   ]
  }
 ],
 "metadata": {
  "kernelspec": {
   "display_name": "Python 2",
   "language": "python",
   "name": "python2"
  },
  "language_info": {
   "codemirror_mode": {
    "name": "ipython",
    "version": 2
   },
   "file_extension": ".py",
   "mimetype": "text/x-python",
   "name": "python",
   "nbconvert_exporter": "python",
   "pygments_lexer": "ipython2",
   "version": "2.7.6"
  }
 },
 "nbformat": 4,
 "nbformat_minor": 1
}
