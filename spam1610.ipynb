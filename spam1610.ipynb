{
 "cells": [
  {
   "cell_type": "code",
   "execution_count": 1,
   "metadata": {
    "collapsed": false
   },
   "outputs": [
    {
     "data": {
      "text/html": [
       "<div style=\"max-height:1000px;max-width:1500px;overflow:auto;\">\n",
       "<table border=\"1\" class=\"dataframe\">\n",
       "  <thead>\n",
       "    <tr style=\"text-align: right;\">\n",
       "      <th></th>\n",
       "      <th>songID</th>\n",
       "      <th>IP</th>\n",
       "      <th>username</th>\n",
       "      <th>visitorID</th>\n",
       "      <th>details</th>\n",
       "      <th>t1</th>\n",
       "      <th>t10</th>\n",
       "    </tr>\n",
       "  </thead>\n",
       "  <tbody>\n",
       "    <tr>\n",
       "      <th>0</th>\n",
       "      <td> 1074806053</td>\n",
       "      <td>  171.249.88.28</td>\n",
       "      <td>        NaN</td>\n",
       "      <td>NaN</td>\n",
       "      <td> {\"strGenreId\":\"1\",\"artistId\":\"42090\",\"id\":\"107...</td>\n",
       "      <td> 1</td>\n",
       "      <td> 10</td>\n",
       "    </tr>\n",
       "    <tr>\n",
       "      <th>1</th>\n",
       "      <td> 1075757848</td>\n",
       "      <td>  113.23.51.111</td>\n",
       "      <td>        NaN</td>\n",
       "      <td>NaN</td>\n",
       "      <td> {\"strGenreId\":\"1\",\"artistId\":\"966\",\"id\":\"10757...</td>\n",
       "      <td> 1</td>\n",
       "      <td> 10</td>\n",
       "    </tr>\n",
       "    <tr>\n",
       "      <th>2</th>\n",
       "      <td> 1075412108</td>\n",
       "      <td> 103.199.32.196</td>\n",
       "      <td>        NaN</td>\n",
       "      <td>NaN</td>\n",
       "      <td> {\"strGenreId\":\"1\",\"artistId\":\"67526\",\"id\":\"107...</td>\n",
       "      <td> 1</td>\n",
       "      <td> 10</td>\n",
       "    </tr>\n",
       "    <tr>\n",
       "      <th>3</th>\n",
       "      <td> 1075750904</td>\n",
       "      <td> 113.175.17.152</td>\n",
       "      <td> hoe1234567</td>\n",
       "      <td>NaN</td>\n",
       "      <td> {\"strGenreId\":\"1\",\"from_id\":\"album\",\"artistId\"...</td>\n",
       "      <td> 1</td>\n",
       "      <td> 10</td>\n",
       "    </tr>\n",
       "  </tbody>\n",
       "</table>\n",
       "<p>4 rows × 7 columns</p>\n",
       "</div>"
      ],
      "text/plain": [
       "       songID              IP    username  visitorID  \\\n",
       "0  1074806053   171.249.88.28         NaN        NaN   \n",
       "1  1075757848   113.23.51.111         NaN        NaN   \n",
       "2  1075412108  103.199.32.196         NaN        NaN   \n",
       "3  1075750904  113.175.17.152  hoe1234567        NaN   \n",
       "\n",
       "                                             details  t1  t10  \n",
       "0  {\"strGenreId\":\"1\",\"artistId\":\"42090\",\"id\":\"107...   1   10  \n",
       "1  {\"strGenreId\":\"1\",\"artistId\":\"966\",\"id\":\"10757...   1   10  \n",
       "2  {\"strGenreId\":\"1\",\"artistId\":\"67526\",\"id\":\"107...   1   10  \n",
       "3  {\"strGenreId\":\"1\",\"from_id\":\"album\",\"artistId\"...   1   10  \n",
       "\n",
       "[4 rows x 7 columns]"
      ]
     },
     "execution_count": 1,
     "metadata": {},
     "output_type": "execute_result"
    }
   ],
   "source": [
    "%matplotlib inline\n",
    "import pandas as pd\n",
    "import numpy as np\n",
    "data=pd.read_csv('/home/danhd/Desktop/ZingMp3_Spam/spam1610.txt',sep='\\t',header=None)\n",
    "data.columns = ['songID','IP','username','visitorID','details','t1','t10']\n",
    "data.head(4)"
   ]
  },
  {
   "cell_type": "code",
   "execution_count": 2,
   "metadata": {
    "collapsed": false
   },
   "outputs": [
    {
     "data": {
      "text/html": [
       "<div style=\"max-height:1000px;max-width:1500px;overflow:auto;\">\n",
       "<table border=\"1\" class=\"dataframe\">\n",
       "  <thead>\n",
       "    <tr style=\"text-align: right;\">\n",
       "      <th></th>\n",
       "      <th>IP</th>\n",
       "      <th>songID</th>\n",
       "    </tr>\n",
       "    <tr>\n",
       "      <th>songID</th>\n",
       "      <th></th>\n",
       "      <th></th>\n",
       "    </tr>\n",
       "  </thead>\n",
       "  <tbody>\n",
       "    <tr>\n",
       "      <th>17 </th>\n",
       "      <td> 1</td>\n",
       "      <td> 1</td>\n",
       "    </tr>\n",
       "    <tr>\n",
       "      <th>34 </th>\n",
       "      <td> 2</td>\n",
       "      <td> 5</td>\n",
       "    </tr>\n",
       "    <tr>\n",
       "      <th>100</th>\n",
       "      <td> 1</td>\n",
       "      <td> 1</td>\n",
       "    </tr>\n",
       "    <tr>\n",
       "      <th>106</th>\n",
       "      <td> 1</td>\n",
       "      <td> 1</td>\n",
       "    </tr>\n",
       "    <tr>\n",
       "      <th>129</th>\n",
       "      <td> 1</td>\n",
       "      <td> 1</td>\n",
       "    </tr>\n",
       "    <tr>\n",
       "      <th>151</th>\n",
       "      <td> 2</td>\n",
       "      <td> 2</td>\n",
       "    </tr>\n",
       "  </tbody>\n",
       "</table>\n",
       "<p>6 rows × 2 columns</p>\n",
       "</div>"
      ],
      "text/plain": [
       "        IP  songID\n",
       "songID            \n",
       "17       1       1\n",
       "34       2       5\n",
       "100      1       1\n",
       "106      1       1\n",
       "129      1       1\n",
       "151      2       2\n",
       "\n",
       "[6 rows x 2 columns]"
      ]
     },
     "execution_count": 2,
     "metadata": {},
     "output_type": "execute_result"
    }
   ],
   "source": [
    "groupData=data.groupby(['songID']).agg({'IP':pd.Series.nunique,'songID':pd.Series.count})\n",
    "groupData.head(6)"
   ]
  },
  {
   "cell_type": "code",
   "execution_count": 3,
   "metadata": {
    "collapsed": false
   },
   "outputs": [
    {
     "data": {
      "text/plain": [
       "count     0\n",
       "mean    NaN\n",
       "std     NaN\n",
       "min     NaN\n",
       "25%     NaN\n",
       "50%     NaN\n",
       "75%     NaN\n",
       "max     NaN\n",
       "Name: visitorID, dtype: float64"
      ]
     },
     "execution_count": 3,
     "metadata": {},
     "output_type": "execute_result"
    }
   ],
   "source": [
    "data['visitorID'].describe()"
   ]
  },
  {
   "cell_type": "code",
   "execution_count": 5,
   "metadata": {
    "collapsed": false
   },
   "outputs": [
    {
     "name": "stdout",
     "output_type": "stream",
     "text": [
      "        IP count  Listen count\n",
      "songID                        \n",
      "11             1             1\n",
      "17             1             1\n",
      "112            2             3\n",
      "128            1             1\n",
      "151            1             1\n",
      "155            1             2\n",
      "\n",
      "[6 rows x 2 columns]\n"
     ]
    }
   ],
   "source": [
    "groupData.columns=['IP count','Listen count']\n",
    "print groupData.head(6)"
   ]
  },
  {
   "cell_type": "code",
   "execution_count": 6,
   "metadata": {
    "collapsed": false
   },
   "outputs": [
    {
     "data": {
      "text/html": [
       "<div style=\"max-height:1000px;max-width:1500px;overflow:auto;\">\n",
       "<table border=\"1\" class=\"dataframe\">\n",
       "  <thead>\n",
       "    <tr style=\"text-align: right;\">\n",
       "      <th></th>\n",
       "      <th>IP count</th>\n",
       "      <th>Listen count</th>\n",
       "    </tr>\n",
       "  </thead>\n",
       "  <tbody>\n",
       "    <tr>\n",
       "      <th>count</th>\n",
       "      <td> 203844.000000</td>\n",
       "      <td> 203844.000000</td>\n",
       "    </tr>\n",
       "    <tr>\n",
       "      <th>mean</th>\n",
       "      <td>     27.997792</td>\n",
       "      <td>     36.282255</td>\n",
       "    </tr>\n",
       "    <tr>\n",
       "      <th>std</th>\n",
       "      <td>    660.279820</td>\n",
       "      <td>    908.220568</td>\n",
       "    </tr>\n",
       "    <tr>\n",
       "      <th>min</th>\n",
       "      <td>      1.000000</td>\n",
       "      <td>      1.000000</td>\n",
       "    </tr>\n",
       "    <tr>\n",
       "      <th>25%</th>\n",
       "      <td>      1.000000</td>\n",
       "      <td>      1.000000</td>\n",
       "    </tr>\n",
       "    <tr>\n",
       "      <th>50%</th>\n",
       "      <td>      1.000000</td>\n",
       "      <td>      2.000000</td>\n",
       "    </tr>\n",
       "    <tr>\n",
       "      <th>75%</th>\n",
       "      <td>      4.000000</td>\n",
       "      <td>      5.000000</td>\n",
       "    </tr>\n",
       "    <tr>\n",
       "      <th>max</th>\n",
       "      <td> 110301.000000</td>\n",
       "      <td> 166152.000000</td>\n",
       "    </tr>\n",
       "  </tbody>\n",
       "</table>\n",
       "<p>8 rows × 2 columns</p>\n",
       "</div>"
      ],
      "text/plain": [
       "            IP count   Listen count\n",
       "count  203844.000000  203844.000000\n",
       "mean       27.997792      36.282255\n",
       "std       660.279820     908.220568\n",
       "min         1.000000       1.000000\n",
       "25%         1.000000       1.000000\n",
       "50%         1.000000       2.000000\n",
       "75%         4.000000       5.000000\n",
       "max    110301.000000  166152.000000\n",
       "\n",
       "[8 rows x 2 columns]"
      ]
     },
     "execution_count": 6,
     "metadata": {},
     "output_type": "execute_result"
    }
   ],
   "source": [
    "groupData.describe()"
   ]
  },
  {
   "cell_type": "code",
   "execution_count": 51,
   "metadata": {
    "collapsed": false
   },
   "outputs": [
    {
     "data": {
      "text/plain": [
       "<matplotlib.axes.AxesSubplot at 0x7f452adfb450>"
      ]
     },
     "execution_count": 51,
     "metadata": {},
     "output_type": "execute_result"
    },
    {
     "data": {
      "image/png": "[encoded data removed]",
      "text/plain": [
       "<matplotlib.figure.Figure at 0x7f44f48e0ad0>"
      ]
     },
     "metadata": {},
     "output_type": "display_data"
    }
   ],
   "source": [
    "groupData.plot(x='IP count',y='Listen count',style='o')"
   ]
  },
  {
   "cell_type": "code",
   "execution_count": 52,
   "metadata": {
    "collapsed": false
   },
   "outputs": [
    {
     "data": {
      "text/html": [
       "<div style=\"max-height:1000px;max-width:1500px;overflow:auto;\">\n",
       "<table border=\"1\" class=\"dataframe\">\n",
       "  <thead>\n",
       "    <tr style=\"text-align: right;\">\n",
       "      <th></th>\n",
       "      <th>IP count</th>\n",
       "      <th>Listen count</th>\n",
       "    </tr>\n",
       "    <tr>\n",
       "      <th>songID</th>\n",
       "      <th></th>\n",
       "      <th></th>\n",
       "    </tr>\n",
       "  </thead>\n",
       "  <tbody>\n",
       "    <tr>\n",
       "      <th>11 </th>\n",
       "      <td> 1</td>\n",
       "      <td> 1</td>\n",
       "    </tr>\n",
       "    <tr>\n",
       "      <th>17 </th>\n",
       "      <td> 1</td>\n",
       "      <td> 1</td>\n",
       "    </tr>\n",
       "    <tr>\n",
       "      <th>112</th>\n",
       "      <td> 2</td>\n",
       "      <td> 3</td>\n",
       "    </tr>\n",
       "    <tr>\n",
       "      <th>128</th>\n",
       "      <td> 1</td>\n",
       "      <td> 1</td>\n",
       "    </tr>\n",
       "    <tr>\n",
       "      <th>151</th>\n",
       "      <td> 1</td>\n",
       "      <td> 1</td>\n",
       "    </tr>\n",
       "    <tr>\n",
       "      <th>155</th>\n",
       "      <td> 1</td>\n",
       "      <td> 2</td>\n",
       "    </tr>\n",
       "  </tbody>\n",
       "</table>\n",
       "<p>6 rows × 2 columns</p>\n",
       "</div>"
      ],
      "text/plain": [
       "        IP count  Listen count\n",
       "songID                        \n",
       "11             1             1\n",
       "17             1             1\n",
       "112            2             3\n",
       "128            1             1\n",
       "151            1             1\n",
       "155            1             2\n",
       "\n",
       "[6 rows x 2 columns]"
      ]
     },
     "execution_count": 52,
     "metadata": {},
     "output_type": "execute_result"
    }
   ],
   "source": [
    "filterIPData=groupData[groupData['IP count']<=40000]\n",
    "filterIPData.head(6)"
   ]
  },
  {
   "cell_type": "code",
   "execution_count": 53,
   "metadata": {
    "collapsed": false
   },
   "outputs": [
    {
     "data": {
      "text/plain": [
       "<matplotlib.axes.AxesSubplot at 0x7f44ee0a1b10>"
      ]
     },
     "execution_count": 53,
     "metadata": {},
     "output_type": "execute_result"
    },
    {
     "data": {
      "image/png": "[encoded data removed]",
      "text/plain": [
       "<matplotlib.figure.Figure at 0x7f452af53350>"
      ]
     },
     "metadata": {},
     "output_type": "display_data"
    }
   ],
   "source": [
    "filterIPData.plot(x='IP count',y='Listen count',style='o')"
   ]
  },
  {
   "cell_type": "code",
   "execution_count": 8,
   "metadata": {
    "collapsed": false
   },
   "outputs": [
    {
     "data": {
      "text/plain": [
       "count     0\n",
       "mean    NaN\n",
       "std     NaN\n",
       "min     NaN\n",
       "25%     NaN\n",
       "50%     NaN\n",
       "75%     NaN\n",
       "max     NaN\n",
       "Name: visitorID, dtype: float64"
      ]
     },
     "execution_count": 8,
     "metadata": {},
     "output_type": "execute_result"
    }
   ],
   "source": [
    "data['visitorID'].describe()"
   ]
  },
  {
   "cell_type": "code",
   "execution_count": 10,
   "metadata": {
    "collapsed": false
   },
   "outputs": [
    {
     "data": {
      "text/html": [
       "<div style=\"max-height:1000px;max-width:1500px;overflow:auto;\">\n",
       "<table border=\"1\" class=\"dataframe\">\n",
       "  <thead>\n",
       "    <tr style=\"text-align: right;\">\n",
       "      <th></th>\n",
       "      <th>songID</th>\n",
       "      <th>IP</th>\n",
       "      <th>username</th>\n",
       "      <th>visitorID</th>\n",
       "      <th>details</th>\n",
       "      <th>t1</th>\n",
       "      <th>t10</th>\n",
       "    </tr>\n",
       "  </thead>\n",
       "  <tbody>\n",
       "    <tr>\n",
       "      <th>3 </th>\n",
       "      <td> 1074797521</td>\n",
       "      <td>    1.53.219.158</td>\n",
       "      <td>    fb.sad_wolf96</td>\n",
       "      <td>NaN</td>\n",
       "      <td> {\"strGenreId\":\"1\",\"from_id\":\"playlist\",\"artist...</td>\n",
       "      <td> 1</td>\n",
       "      <td> 10</td>\n",
       "    </tr>\n",
       "    <tr>\n",
       "      <th>5 </th>\n",
       "      <td> 1075344293</td>\n",
       "      <td> 203.128.247.114</td>\n",
       "      <td>      trinhtudo74</td>\n",
       "      <td>NaN</td>\n",
       "      <td> {\"strGenreId\":\"1\",\"from_id\":\"album\",\"artistId\"...</td>\n",
       "      <td> 1</td>\n",
       "      <td> 10</td>\n",
       "    </tr>\n",
       "    <tr>\n",
       "      <th>6 </th>\n",
       "      <td> 1074986930</td>\n",
       "      <td>    1.54.192.153</td>\n",
       "      <td>  trunghieubui.92</td>\n",
       "      <td>NaN</td>\n",
       "      <td> {\"strGenreId\":\"1\",\"from_id\":\"album\",\"artistId\"...</td>\n",
       "      <td> 1</td>\n",
       "      <td> 10</td>\n",
       "    </tr>\n",
       "    <tr>\n",
       "      <th>10</th>\n",
       "      <td> 1075752472</td>\n",
       "      <td>   14.184.226.88</td>\n",
       "      <td> pimpim_kute_baby</td>\n",
       "      <td>NaN</td>\n",
       "      <td> {\"strGenreId\":\"1\",\"from_id\":\"playlist\",\"artist...</td>\n",
       "      <td> 1</td>\n",
       "      <td> 10</td>\n",
       "    </tr>\n",
       "    <tr>\n",
       "      <th>11</th>\n",
       "      <td> 1075551390</td>\n",
       "      <td>   14.186.119.92</td>\n",
       "      <td>       vothienskv</td>\n",
       "      <td>NaN</td>\n",
       "      <td> {\"strGenreId\":\"1\",\"artistId\":\"14321\",\"id\":\"107...</td>\n",
       "      <td> 1</td>\n",
       "      <td> 10</td>\n",
       "    </tr>\n",
       "    <tr>\n",
       "      <th>14</th>\n",
       "      <td> 1075509006</td>\n",
       "      <td>  113.22.191.201</td>\n",
       "      <td>         rubuy123</td>\n",
       "      <td>NaN</td>\n",
       "      <td> {\"strGenreId\":\"3\",\"from_id\":\"album\",\"artistId\"...</td>\n",
       "      <td> 1</td>\n",
       "      <td> 10</td>\n",
       "    </tr>\n",
       "  </tbody>\n",
       "</table>\n",
       "<p>6 rows × 7 columns</p>\n",
       "</div>"
      ],
      "text/plain": [
       "        songID               IP          username  visitorID  \\\n",
       "3   1074797521     1.53.219.158     fb.sad_wolf96        NaN   \n",
       "5   1075344293  203.128.247.114       trinhtudo74        NaN   \n",
       "6   1074986930     1.54.192.153   trunghieubui.92        NaN   \n",
       "10  1075752472    14.184.226.88  pimpim_kute_baby        NaN   \n",
       "11  1075551390    14.186.119.92        vothienskv        NaN   \n",
       "14  1075509006   113.22.191.201          rubuy123        NaN   \n",
       "\n",
       "                                              details  t1  t10  \n",
       "3   {\"strGenreId\":\"1\",\"from_id\":\"playlist\",\"artist...   1   10  \n",
       "5   {\"strGenreId\":\"1\",\"from_id\":\"album\",\"artistId\"...   1   10  \n",
       "6   {\"strGenreId\":\"1\",\"from_id\":\"album\",\"artistId\"...   1   10  \n",
       "10  {\"strGenreId\":\"1\",\"from_id\":\"playlist\",\"artist...   1   10  \n",
       "11  {\"strGenreId\":\"1\",\"artistId\":\"14321\",\"id\":\"107...   1   10  \n",
       "14  {\"strGenreId\":\"3\",\"from_id\":\"album\",\"artistId\"...   1   10  \n",
       "\n",
       "[6 rows x 7 columns]"
      ]
     },
     "execution_count": 10,
     "metadata": {},
     "output_type": "execute_result"
    }
   ],
   "source": [
    "dataUser=data.dropna(subset=['username'])\n",
    "dataUser.head(6)"
   ]
  },
  {
   "cell_type": "code",
   "execution_count": 11,
   "metadata": {
    "collapsed": false
   },
   "outputs": [
    {
     "name": "stdout",
     "output_type": "stream",
     "text": [
      "        User count  Listen count\n",
      "songID                          \n",
      "215              1             3\n",
      "486              1            10\n",
      "559              1             2\n",
      "797              1             1\n",
      "880              1             1\n",
      "903              1             1\n",
      "\n",
      "[6 rows x 2 columns]\n"
     ]
    }
   ],
   "source": [
    "groupUserData=dataUser.groupby(['songID']).agg({'username':pd.Series.nunique,'songID':pd.Series.count})\n",
    "groupUserData.columns=['User count','Listen count']\n",
    "print groupUserData.head(6)"
   ]
  },
  {
   "cell_type": "code",
   "execution_count": 42,
   "metadata": {
    "collapsed": false
   },
   "outputs": [
    {
     "data": {
      "text/plain": [
       "<matplotlib.axes.AxesSubplot at 0x7f452b0f1690>"
      ]
     },
     "execution_count": 42,
     "metadata": {},
     "output_type": "execute_result"
    },
    {
     "data": {
      "image/png": "[encoded data removed]",
      "text/plain": [
       "<matplotlib.figure.Figure at 0x7f44ee673290>"
      ]
     },
     "metadata": {},
     "output_type": "display_data"
    }
   ],
   "source": [
    "groupUserData.plot(x='User count',y='Listen count',style='o')\n"
   ]
  },
  {
   "cell_type": "code",
   "execution_count": 47,
   "metadata": {
    "collapsed": false
   },
   "outputs": [
    {
     "data": {
      "text/html": [
       "<div style=\"max-height:1000px;max-width:1500px;overflow:auto;\">\n",
       "<table border=\"1\" class=\"dataframe\">\n",
       "  <thead>\n",
       "    <tr style=\"text-align: right;\">\n",
       "      <th></th>\n",
       "      <th>User count</th>\n",
       "      <th>Listen count</th>\n",
       "    </tr>\n",
       "    <tr>\n",
       "      <th>songID</th>\n",
       "      <th></th>\n",
       "      <th></th>\n",
       "    </tr>\n",
       "  </thead>\n",
       "  <tbody>\n",
       "    <tr>\n",
       "      <th>215</th>\n",
       "      <td> 1</td>\n",
       "      <td>  3</td>\n",
       "    </tr>\n",
       "    <tr>\n",
       "      <th>486</th>\n",
       "      <td> 1</td>\n",
       "      <td> 10</td>\n",
       "    </tr>\n",
       "    <tr>\n",
       "      <th>559</th>\n",
       "      <td> 1</td>\n",
       "      <td>  2</td>\n",
       "    </tr>\n",
       "    <tr>\n",
       "      <th>797</th>\n",
       "      <td> 1</td>\n",
       "      <td>  1</td>\n",
       "    </tr>\n",
       "    <tr>\n",
       "      <th>880</th>\n",
       "      <td> 1</td>\n",
       "      <td>  1</td>\n",
       "    </tr>\n",
       "    <tr>\n",
       "      <th>903</th>\n",
       "      <td> 1</td>\n",
       "      <td>  1</td>\n",
       "    </tr>\n",
       "  </tbody>\n",
       "</table>\n",
       "<p>6 rows × 2 columns</p>\n",
       "</div>"
      ],
      "text/plain": [
       "        User count  Listen count\n",
       "songID                          \n",
       "215              1             3\n",
       "486              1            10\n",
       "559              1             2\n",
       "797              1             1\n",
       "880              1             1\n",
       "903              1             1\n",
       "\n",
       "[6 rows x 2 columns]"
      ]
     },
     "execution_count": 47,
     "metadata": {},
     "output_type": "execute_result"
    }
   ],
   "source": [
    "filterData=groupUserData[groupUserData['User count']<=500]\n",
    "filterData.head(6)"
   ]
  },
  {
   "cell_type": "code",
   "execution_count": 50,
   "metadata": {
    "collapsed": false
   },
   "outputs": [
    {
     "data": {
      "text/plain": [
       "<matplotlib.axes.AxesSubplot at 0x7f4555133d50>"
      ]
     },
     "execution_count": 50,
     "metadata": {},
     "output_type": "execute_result"
    },
    {
     "data": {
      "image/png": "[encoded data removed]",
      "text/plain": [
       "<matplotlib.figure.Figure at 0x7f44ee5c3ad0>"
      ]
     },
     "metadata": {},
     "output_type": "display_data"
    }
   ],
   "source": [
    "filterData.plot(x='User count',y='Listen count',style='o')"
   ]
  },
  {
   "cell_type": "code",
   "execution_count": null,
   "metadata": {
    "collapsed": true
   },
   "outputs": [],
   "source": []
  },
  {
   "cell_type": "code",
   "execution_count": 46,
   "metadata": {
    "collapsed": false
   },
   "outputs": [
    {
     "name": "stdout",
     "output_type": "stream",
     "text": [
      "            User count  Listen count\n",
      "songID                              \n",
      "1075509248          56         86684\n",
      "1075525165        3918          5217\n",
      "1075528563        1054          7313\n",
      "1075550468        3989          5880\n",
      "1075551390        1256         10703\n",
      "1075750904        2873         11182\n",
      "1075751728        2556          6146\n",
      "1075764711        3055          5480\n",
      "1075765293        3218          5595\n",
      "\n",
      "[9 rows x 2 columns]\n"
     ]
    }
   ],
   "source": [
    "abnormal=filterData[filterData['Listen count']>5000]\n",
    "print abnormal"
   ]
  },
  {
   "cell_type": "markdown",
   "metadata": {},
   "source": [
    "# For User"
   ]
  },
  {
   "cell_type": "code",
   "execution_count": 14,
   "metadata": {
    "collapsed": false
   },
   "outputs": [
    {
     "data": {
      "text/html": [
       "<div style=\"max-height:1000px;max-width:1500px;overflow:auto;\">\n",
       "<table border=\"1\" class=\"dataframe\">\n",
       "  <thead>\n",
       "    <tr style=\"text-align: right;\">\n",
       "      <th></th>\n",
       "      <th>username</th>\n",
       "      <th>songID</th>\n",
       "    </tr>\n",
       "    <tr>\n",
       "      <th>username</th>\n",
       "      <th></th>\n",
       "      <th></th>\n",
       "    </tr>\n",
       "  </thead>\n",
       "  <tbody>\n",
       "    <tr>\n",
       "      <th>000000datpro</th>\n",
       "      <td>  8</td>\n",
       "      <td>  6</td>\n",
       "    </tr>\n",
       "    <tr>\n",
       "      <th>000111sdfg</th>\n",
       "      <td> 27</td>\n",
       "      <td> 18</td>\n",
       "    </tr>\n",
       "    <tr>\n",
       "      <th>0007thien</th>\n",
       "      <td> 39</td>\n",
       "      <td> 39</td>\n",
       "    </tr>\n",
       "    <tr>\n",
       "      <th>000c0c000</th>\n",
       "      <td> 12</td>\n",
       "      <td> 12</td>\n",
       "    </tr>\n",
       "    <tr>\n",
       "      <th>000kehanthu000</th>\n",
       "      <td>  1</td>\n",
       "      <td>  1</td>\n",
       "    </tr>\n",
       "    <tr>\n",
       "      <th>000ngoctrung000</th>\n",
       "      <td> 17</td>\n",
       "      <td>  7</td>\n",
       "    </tr>\n",
       "  </tbody>\n",
       "</table>\n",
       "<p>6 rows × 2 columns</p>\n",
       "</div>"
      ],
      "text/plain": [
       "                 username  songID\n",
       "username                         \n",
       "000000datpro            8       6\n",
       "000111sdfg             27      18\n",
       "0007thien              39      39\n",
       "000c0c000              12      12\n",
       "000kehanthu000          1       1\n",
       "000ngoctrung000        17       7\n",
       "\n",
       "[6 rows x 2 columns]"
      ]
     },
     "execution_count": 14,
     "metadata": {},
     "output_type": "execute_result"
    }
   ],
   "source": [
    "groupUser=dataUser.groupby(['username']).agg({'songID':pd.Series.nunique,'username':pd.Series.count})\n",
    "groupUser.head(6)"
   ]
  },
  {
   "cell_type": "code",
   "execution_count": 25,
   "metadata": {
    "collapsed": false
   },
   "outputs": [
    {
     "name": "stdout",
     "output_type": "stream",
     "text": [
      "                 Listen count  Song count\n",
      "username                                 \n",
      "000000datpro                8           6\n",
      "000111sdfg                 27          18\n",
      "0007thien                  39          39\n",
      "000c0c000                  12          12\n",
      "000kehanthu000              1           1\n",
      "000ngoctrung000            17           7\n",
      "\n",
      "[6 rows x 2 columns]\n"
     ]
    }
   ],
   "source": [
    "groupUser.columns=['Listen count','Song count']\n",
    "print groupUser.head(6)\n"
   ]
  },
  {
   "cell_type": "code",
   "execution_count": 27,
   "metadata": {
    "collapsed": false
   },
   "outputs": [
    {
     "data": {
      "text/plain": [
       "<matplotlib.axes.AxesSubplot at 0x7f452b175090>"
      ]
     },
     "execution_count": 27,
     "metadata": {},
     "output_type": "execute_result"
    },
    {
     "data": {
      "image/png": "[encoded data removed]",
      "text/plain": [
       "<matplotlib.figure.Figure at 0x7f452b1755d0>"
      ]
     },
     "metadata": {},
     "output_type": "display_data"
    }
   ],
   "source": [
    "groupUser.plot(x='Song count',y='Listen count',style='o')"
   ]
  },
  {
   "cell_type": "markdown",
   "metadata": {},
   "source": [
    "# For IP"
   ]
  },
  {
   "cell_type": "code",
   "execution_count": 28,
   "metadata": {
    "collapsed": false
   },
   "outputs": [
    {
     "data": {
      "text/html": [
       "<div style=\"max-height:1000px;max-width:1500px;overflow:auto;\">\n",
       "<table border=\"1\" class=\"dataframe\">\n",
       "  <thead>\n",
       "    <tr style=\"text-align: right;\">\n",
       "      <th></th>\n",
       "      <th>IP</th>\n",
       "      <th>songID</th>\n",
       "    </tr>\n",
       "    <tr>\n",
       "      <th>IP</th>\n",
       "      <th></th>\n",
       "      <th></th>\n",
       "    </tr>\n",
       "  </thead>\n",
       "  <tbody>\n",
       "    <tr>\n",
       "      <th>0.0.0.0</th>\n",
       "      <td> 2</td>\n",
       "      <td> 2</td>\n",
       "    </tr>\n",
       "    <tr>\n",
       "      <th>0.0.126.254</th>\n",
       "      <td> 1</td>\n",
       "      <td> 1</td>\n",
       "    </tr>\n",
       "    <tr>\n",
       "      <th>0.0.8.250</th>\n",
       "      <td> 1</td>\n",
       "      <td> 1</td>\n",
       "    </tr>\n",
       "    <tr>\n",
       "      <th>0.0.80.198</th>\n",
       "      <td> 1</td>\n",
       "      <td> 1</td>\n",
       "    </tr>\n",
       "    <tr>\n",
       "      <th>1.1.1.1</th>\n",
       "      <td> 1</td>\n",
       "      <td> 1</td>\n",
       "    </tr>\n",
       "    <tr>\n",
       "      <th>1.10.170.85</th>\n",
       "      <td> 9</td>\n",
       "      <td> 9</td>\n",
       "    </tr>\n",
       "  </tbody>\n",
       "</table>\n",
       "<p>6 rows × 2 columns</p>\n",
       "</div>"
      ],
      "text/plain": [
       "             IP  songID\n",
       "IP                     \n",
       "0.0.0.0       2       2\n",
       "0.0.126.254   1       1\n",
       "0.0.8.250     1       1\n",
       "0.0.80.198    1       1\n",
       "1.1.1.1       1       1\n",
       "1.10.170.85   9       9\n",
       "\n",
       "[6 rows x 2 columns]"
      ]
     },
     "execution_count": 28,
     "metadata": {},
     "output_type": "execute_result"
    }
   ],
   "source": [
    "groupIPData=data.groupby(['IP']).agg({'songID':pd.Series.nunique,'IP':pd.Series.count})\n",
    "groupIPData.head(6)"
   ]
  },
  {
   "cell_type": "code",
   "execution_count": 32,
   "metadata": {
    "collapsed": false
   },
   "outputs": [
    {
     "name": "stdout",
     "output_type": "stream",
     "text": [
      "             Listen count  Song count\n",
      "IP                                   \n",
      "0.0.0.0                 2           2\n",
      "0.0.126.254             1           1\n",
      "0.0.8.250               1           1\n",
      "0.0.80.198              1           1\n",
      "1.1.1.1                 1           1\n",
      "1.10.170.85             9           9\n",
      "\n",
      "[6 rows x 2 columns]\n"
     ]
    }
   ],
   "source": [
    "groupIPData.columns=['Listen count','Song count']\n",
    "print groupIPData.head(6)"
   ]
  },
  {
   "cell_type": "code",
   "execution_count": 33,
   "metadata": {
    "collapsed": false,
    "scrolled": true
   },
   "outputs": [
    {
     "data": {
      "text/plain": [
       "<matplotlib.axes.AxesSubplot at 0x7f452afaa310>"
      ]
     },
     "execution_count": 33,
     "metadata": {},
     "output_type": "execute_result"
    },
    {
     "data": {
      "image/png": "[encoded data removed]",
      "text/plain": [
       "<matplotlib.figure.Figure at 0x7f452b2b0090>"
      ]
     },
     "metadata": {},
     "output_type": "display_data"
    }
   ],
   "source": [
    "groupIPData.plot(x='Song count',y='Listen count',style='o')"
   ]
  },
  {
   "cell_type": "code",
   "execution_count": 54,
   "metadata": {
    "collapsed": false
   },
   "outputs": [
    {
     "data": {
      "text/html": [
       "<div style=\"max-height:1000px;max-width:1500px;overflow:auto;\">\n",
       "<table border=\"1\" class=\"dataframe\">\n",
       "  <thead>\n",
       "    <tr style=\"text-align: right;\">\n",
       "      <th></th>\n",
       "      <th>songID</th>\n",
       "      <th>IP</th>\n",
       "      <th>username</th>\n",
       "    </tr>\n",
       "  </thead>\n",
       "  <tbody>\n",
       "    <tr>\n",
       "      <th>0</th>\n",
       "      <td> 1075468549</td>\n",
       "      <td>   171.224.90.96</td>\n",
       "      <td>           NaN</td>\n",
       "    </tr>\n",
       "    <tr>\n",
       "      <th>1</th>\n",
       "      <td>     879744</td>\n",
       "      <td>  113.184.61.228</td>\n",
       "      <td>           NaN</td>\n",
       "    </tr>\n",
       "    <tr>\n",
       "      <th>2</th>\n",
       "      <td> 1075003838</td>\n",
       "      <td>   42.112.238.77</td>\n",
       "      <td>           NaN</td>\n",
       "    </tr>\n",
       "    <tr>\n",
       "      <th>3</th>\n",
       "      <td> 1074797521</td>\n",
       "      <td>    1.53.219.158</td>\n",
       "      <td> fb.sad_wolf96</td>\n",
       "    </tr>\n",
       "    <tr>\n",
       "      <th>4</th>\n",
       "      <td>    6089557</td>\n",
       "      <td>     183.91.27.8</td>\n",
       "      <td>           NaN</td>\n",
       "    </tr>\n",
       "    <tr>\n",
       "      <th>5</th>\n",
       "      <td> 1075344293</td>\n",
       "      <td> 203.128.247.114</td>\n",
       "      <td>   trinhtudo74</td>\n",
       "    </tr>\n",
       "  </tbody>\n",
       "</table>\n",
       "<p>6 rows × 3 columns</p>\n",
       "</div>"
      ],
      "text/plain": [
       "       songID               IP       username\n",
       "0  1075468549    171.224.90.96            NaN\n",
       "1      879744   113.184.61.228            NaN\n",
       "2  1075003838    42.112.238.77            NaN\n",
       "3  1074797521     1.53.219.158  fb.sad_wolf96\n",
       "4     6089557      183.91.27.8            NaN\n",
       "5  1075344293  203.128.247.114    trinhtudo74\n",
       "\n",
       "[6 rows x 3 columns]"
      ]
     },
     "execution_count": 54,
     "metadata": {},
     "output_type": "execute_result"
    }
   ],
   "source": [
    "exportData=data[['songID','IP','username']]\n",
    "exportData.head(6)"
   ]
  },
  {
   "cell_type": "code",
   "execution_count": 55,
   "metadata": {
    "collapsed": true
   },
   "outputs": [],
   "source": [
    "exportData.to_csv('data_1110', sep='\\t')"
   ]
  }
 ],
 "metadata": {
  "kernelspec": {
   "display_name": "Python 2",
   "language": "python",
   "name": "python2"
  },
  "language_info": {
   "codemirror_mode": {
    "name": "ipython",
    "version": 2
   },
   "file_extension": ".py",
   "mimetype": "text/x-python",
   "name": "python",
   "nbconvert_exporter": "python",
   "pygments_lexer": "ipython2",
   "version": "2.7.6"
  }
 },
 "nbformat": 4,
 "nbformat_minor": 1
}
