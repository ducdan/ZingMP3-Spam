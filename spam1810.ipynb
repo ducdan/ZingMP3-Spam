{
 "cells": [
  {
   "cell_type": "code",
   "execution_count": 1,
   "metadata": {
    "collapsed": false
   },
   "outputs": [
    {
     "data": {
      "text/html": [
       "<div style=\"max-height:1000px;max-width:1500px;overflow:auto;\">\n",
       "<table border=\"1\" class=\"dataframe\">\n",
       "  <thead>\n",
       "    <tr style=\"text-align: right;\">\n",
       "      <th></th>\n",
       "      <th>username</th>\n",
       "      <th>visitorID</th>\n",
       "      <th>songID</th>\n",
       "    </tr>\n",
       "  </thead>\n",
       "  <tbody>\n",
       "    <tr>\n",
       "      <th>0</th>\n",
       "      <td> chinaquoc98</td>\n",
       "      <td> 2000.3b515e605168b836e179.1445256609471.64e9d0c1</td>\n",
       "      <td> 1073854610</td>\n",
       "    </tr>\n",
       "    <tr>\n",
       "      <th>1</th>\n",
       "      <td>         NaN</td>\n",
       "      <td> 2000.c373b528b2ff5ba102ee.1474598297105.6fa1712c</td>\n",
       "      <td> 1073927311</td>\n",
       "    </tr>\n",
       "    <tr>\n",
       "      <th>2</th>\n",
       "      <td>         NaN</td>\n",
       "      <td> 2000.71f91bdd840f6d51341e.1476718461522.3a04949f</td>\n",
       "      <td> 1075550712</td>\n",
       "    </tr>\n",
       "    <tr>\n",
       "      <th>3</th>\n",
       "      <td>         NaN</td>\n",
       "      <td> 2000.d23a6113f6401f1e4651.1419342432000.33115e52</td>\n",
       "      <td> 1074603189</td>\n",
       "    </tr>\n",
       "  </tbody>\n",
       "</table>\n",
       "<p>4 rows × 3 columns</p>\n",
       "</div>"
      ],
      "text/plain": [
       "      username                                         visitorID      songID\n",
       "0  chinaquoc98  2000.3b515e605168b836e179.1445256609471.64e9d0c1  1073854610\n",
       "1          NaN  2000.c373b528b2ff5ba102ee.1474598297105.6fa1712c  1073927311\n",
       "2          NaN  2000.71f91bdd840f6d51341e.1476718461522.3a04949f  1075550712\n",
       "3          NaN  2000.d23a6113f6401f1e4651.1419342432000.33115e52  1074603189\n",
       "\n",
       "[4 rows x 3 columns]"
      ]
     },
     "execution_count": 1,
     "metadata": {},
     "output_type": "execute_result"
    }
   ],
   "source": [
    "%matplotlib inline\n",
    "import pandas as pd\n",
    "import numpy as np\n",
    "data=pd.read_csv('/home/danhd/Desktop/ZingMp3_Spam/spam1810.txt',sep='\\t',header=None)\n",
    "data.columns=['username','visitorID','songID']\n",
    "data=data.dropna(subset=['visitorID'])\n",
    "data.head(4)"
   ]
  },
  {
   "cell_type": "code",
   "execution_count": 18,
   "metadata": {
    "collapsed": false
   },
   "outputs": [
    {
     "name": "stdout",
     "output_type": "stream",
     "text": [
      "            Listen count  Visit count\n",
      "songID                               \n",
      "1073741840           595          196\n",
      "1073741841            73           25\n",
      "1073741842           289          108\n",
      "1073741843            23            7\n",
      "1073741844             2            2\n",
      "1073741847             1            1\n",
      "\n",
      "[6 rows x 2 columns]\n"
     ]
    }
   ],
   "source": [
    "groupVisitorData=data.groupby(['songID']).agg({'visitorID':pd.Series.nunique,'songID':pd.Series.count})\n",
    "groupVisitorData.columns=['Listen count','Visit count']\n",
    "print groupVisitorData.head(6)"
   ]
  },
  {
   "cell_type": "code",
   "execution_count": 19,
   "metadata": {
    "collapsed": false
   },
   "outputs": [
    {
     "data": {
      "text/html": [
       "<div style=\"max-height:1000px;max-width:1500px;overflow:auto;\">\n",
       "<table border=\"1\" class=\"dataframe\">\n",
       "  <thead>\n",
       "    <tr style=\"text-align: right;\">\n",
       "      <th></th>\n",
       "      <th>Listen count</th>\n",
       "      <th>Visit count</th>\n",
       "    </tr>\n",
       "  </thead>\n",
       "  <tbody>\n",
       "    <tr>\n",
       "      <th>count</th>\n",
       "      <td>  60235.000000</td>\n",
       "      <td> 60235.000000</td>\n",
       "    </tr>\n",
       "    <tr>\n",
       "      <th>mean</th>\n",
       "      <td>    108.231908</td>\n",
       "      <td>    23.632257</td>\n",
       "    </tr>\n",
       "    <tr>\n",
       "      <th>std</th>\n",
       "      <td>   2328.701099</td>\n",
       "      <td>   379.627649</td>\n",
       "    </tr>\n",
       "    <tr>\n",
       "      <th>min</th>\n",
       "      <td>      1.000000</td>\n",
       "      <td>     1.000000</td>\n",
       "    </tr>\n",
       "    <tr>\n",
       "      <th>25%</th>\n",
       "      <td>      1.000000</td>\n",
       "      <td>     1.000000</td>\n",
       "    </tr>\n",
       "    <tr>\n",
       "      <th>50%</th>\n",
       "      <td>      4.000000</td>\n",
       "      <td>     2.000000</td>\n",
       "    </tr>\n",
       "    <tr>\n",
       "      <th>75%</th>\n",
       "      <td>     20.000000</td>\n",
       "      <td>     6.000000</td>\n",
       "    </tr>\n",
       "    <tr>\n",
       "      <th>max</th>\n",
       "      <td> 294889.000000</td>\n",
       "      <td> 50865.000000</td>\n",
       "    </tr>\n",
       "  </tbody>\n",
       "</table>\n",
       "<p>8 rows × 2 columns</p>\n",
       "</div>"
      ],
      "text/plain": [
       "        Listen count   Visit count\n",
       "count   60235.000000  60235.000000\n",
       "mean      108.231908     23.632257\n",
       "std      2328.701099    379.627649\n",
       "min         1.000000      1.000000\n",
       "25%         1.000000      1.000000\n",
       "50%         4.000000      2.000000\n",
       "75%        20.000000      6.000000\n",
       "max    294889.000000  50865.000000\n",
       "\n",
       "[8 rows x 2 columns]"
      ]
     },
     "execution_count": 19,
     "metadata": {},
     "output_type": "execute_result"
    }
   ],
   "source": [
    "groupVisitorData.describe()"
   ]
  },
  {
   "cell_type": "code",
   "execution_count": 20,
   "metadata": {
    "collapsed": false
   },
   "outputs": [
    {
     "name": "stdout",
     "output_type": "stream",
     "text": [
      "                                                  songID  visitorID\n",
      "visitorID                                                          \n",
      "2000.00000977fc61153f4c70.1448275184688.3741de07       1          1\n",
      "2000.0000136deebf07e15eae.1476777740170.7490ab1a       1          8\n",
      "2000.00004351cf8626d87f97.1474766466086.15c712d8       4         49\n",
      "2000.00004a7264a78df9d4b6.1473754112999.38863d85       5         15\n",
      "2000.00005ddb200ec950901f.1473835704591.8b80af76       1          4\n",
      "2000.0000606d98bf71e128ae.1476781849765.f2d60cf7       1          9\n",
      "\n",
      "[6 rows x 2 columns]\n"
     ]
    }
   ],
   "source": [
    "groupVisitorData=data.groupby(['visitorID']).agg({'songID':pd.Series.nunique,'visitorID':pd.Series.count})\n",
    "print groupVisitorData.head(6)"
   ]
  },
  {
   "cell_type": "code",
   "execution_count": 22,
   "metadata": {
    "collapsed": false
   },
   "outputs": [
    {
     "data": {
      "text/html": [
       "<div style=\"max-height:1000px;max-width:1500px;overflow:auto;\">\n",
       "<table border=\"1\" class=\"dataframe\">\n",
       "  <thead>\n",
       "    <tr style=\"text-align: right;\">\n",
       "      <th></th>\n",
       "      <th>Song count</th>\n",
       "      <th>Listen count</th>\n",
       "    </tr>\n",
       "    <tr>\n",
       "      <th>visitorID</th>\n",
       "      <th></th>\n",
       "      <th></th>\n",
       "    </tr>\n",
       "  </thead>\n",
       "  <tbody>\n",
       "    <tr>\n",
       "      <th>2000.00000977fc61153f4c70.1448275184688.3741de07</th>\n",
       "      <td> 1</td>\n",
       "      <td>  1</td>\n",
       "    </tr>\n",
       "    <tr>\n",
       "      <th>2000.0000136deebf07e15eae.1476777740170.7490ab1a</th>\n",
       "      <td> 1</td>\n",
       "      <td>  8</td>\n",
       "    </tr>\n",
       "    <tr>\n",
       "      <th>2000.00004351cf8626d87f97.1474766466086.15c712d8</th>\n",
       "      <td> 4</td>\n",
       "      <td> 49</td>\n",
       "    </tr>\n",
       "    <tr>\n",
       "      <th>2000.00004a7264a78df9d4b6.1473754112999.38863d85</th>\n",
       "      <td> 5</td>\n",
       "      <td> 15</td>\n",
       "    </tr>\n",
       "    <tr>\n",
       "      <th>2000.00005ddb200ec950901f.1473835704591.8b80af76</th>\n",
       "      <td> 1</td>\n",
       "      <td>  4</td>\n",
       "    </tr>\n",
       "    <tr>\n",
       "      <th>2000.0000606d98bf71e128ae.1476781849765.f2d60cf7</th>\n",
       "      <td> 1</td>\n",
       "      <td>  9</td>\n",
       "    </tr>\n",
       "  </tbody>\n",
       "</table>\n",
       "<p>6 rows × 2 columns</p>\n",
       "</div>"
      ],
      "text/plain": [
       "                                                  Song count  Listen count\n",
       "visitorID                                                                 \n",
       "2000.00000977fc61153f4c70.1448275184688.3741de07           1             1\n",
       "2000.0000136deebf07e15eae.1476777740170.7490ab1a           1             8\n",
       "2000.00004351cf8626d87f97.1474766466086.15c712d8           4            49\n",
       "2000.00004a7264a78df9d4b6.1473754112999.38863d85           5            15\n",
       "2000.00005ddb200ec950901f.1473835704591.8b80af76           1             4\n",
       "2000.0000606d98bf71e128ae.1476781849765.f2d60cf7           1             9\n",
       "\n",
       "[6 rows x 2 columns]"
      ]
     },
     "execution_count": 22,
     "metadata": {},
     "output_type": "execute_result"
    }
   ],
   "source": [
    "groupVisitorData.columns=['Song count','Listen count']\n",
    "groupVisitorData.head(6)"
   ]
  },
  {
   "cell_type": "code",
   "execution_count": 23,
   "metadata": {
    "collapsed": false
   },
   "outputs": [
    {
     "data": {
      "text/plain": [
       "<matplotlib.axes.AxesSubplot at 0x7faff728ff10>"
      ]
     },
     "execution_count": 23,
     "metadata": {},
     "output_type": "execute_result"
    },
    {
     "data": {
      "image/png": "[encoded data removed]",
      "text/plain": [
       "<matplotlib.figure.Figure at 0x7faff72a01d0>"
      ]
     },
     "metadata": {},
     "output_type": "display_data"
    }
   ],
   "source": [
    "groupVisitorData.plot(x='Song count',y='Listen count',style='o')"
   ]
  },
  {
   "cell_type": "code",
   "execution_count": 24,
   "metadata": {
    "collapsed": false
   },
   "outputs": [
    {
     "data": {
      "text/html": [
       "<div style=\"max-height:1000px;max-width:1500px;overflow:auto;\">\n",
       "<table border=\"1\" class=\"dataframe\">\n",
       "  <thead>\n",
       "    <tr style=\"text-align: right;\">\n",
       "      <th></th>\n",
       "      <th>Song count</th>\n",
       "      <th>Listen count</th>\n",
       "    </tr>\n",
       "  </thead>\n",
       "  <tbody>\n",
       "    <tr>\n",
       "      <th>count</th>\n",
       "      <td> 687061.000000</td>\n",
       "      <td> 687061.000000</td>\n",
       "    </tr>\n",
       "    <tr>\n",
       "      <th>mean</th>\n",
       "      <td>      2.071852</td>\n",
       "      <td>      9.488748</td>\n",
       "    </tr>\n",
       "    <tr>\n",
       "      <th>std</th>\n",
       "      <td>      2.733030</td>\n",
       "      <td>     17.354063</td>\n",
       "    </tr>\n",
       "    <tr>\n",
       "      <th>min</th>\n",
       "      <td>      1.000000</td>\n",
       "      <td>      1.000000</td>\n",
       "    </tr>\n",
       "    <tr>\n",
       "      <th>25%</th>\n",
       "      <td>      1.000000</td>\n",
       "      <td>      2.000000</td>\n",
       "    </tr>\n",
       "    <tr>\n",
       "      <th>50%</th>\n",
       "      <td>      1.000000</td>\n",
       "      <td>      5.000000</td>\n",
       "    </tr>\n",
       "    <tr>\n",
       "      <th>75%</th>\n",
       "      <td>      2.000000</td>\n",
       "      <td>     11.000000</td>\n",
       "    </tr>\n",
       "    <tr>\n",
       "      <th>max</th>\n",
       "      <td>    135.000000</td>\n",
       "      <td>   2854.000000</td>\n",
       "    </tr>\n",
       "  </tbody>\n",
       "</table>\n",
       "<p>8 rows × 2 columns</p>\n",
       "</div>"
      ],
      "text/plain": [
       "          Song count   Listen count\n",
       "count  687061.000000  687061.000000\n",
       "mean        2.071852       9.488748\n",
       "std         2.733030      17.354063\n",
       "min         1.000000       1.000000\n",
       "25%         1.000000       2.000000\n",
       "50%         1.000000       5.000000\n",
       "75%         2.000000      11.000000\n",
       "max       135.000000    2854.000000\n",
       "\n",
       "[8 rows x 2 columns]"
      ]
     },
     "execution_count": 24,
     "metadata": {},
     "output_type": "execute_result"
    }
   ],
   "source": [
    "groupVisitorData.describe()"
   ]
  },
  {
   "cell_type": "code",
   "execution_count": 15,
   "metadata": {
    "collapsed": false
   },
   "outputs": [
    {
     "name": "stdout",
     "output_type": "stream",
     "text": [
      "23.0 34.0 362.588\n"
     ]
    }
   ],
   "source": [
    "groupUserInt=groupVisitorData['Listen count'].values.astype(int)\n",
    "Q90, Q95, Q99 = np.percentile(groupUserInt, [90,95,99.99])\n",
    "print Q90,Q95,Q99"
   ]
  },
  {
   "cell_type": "code",
   "execution_count": 54,
   "metadata": {
    "collapsed": false
   },
   "outputs": [
    {
     "name": "stdout",
     "output_type": "stream",
     "text": [
      "                                                  Song count  Listen count\n",
      "visitorID                                                                 \n",
      "2000.0232071122d4cb8a92c5.1467217724977.d16a9813          35           454\n",
      "2000.0baa4b0708c8e196b8d9.1471406751173.3cb3672f          38           395\n",
      "2000.0fb6c6a65876b128e867.1475907110731.f088c389           1           419\n",
      "2000.10b6e4805c40b51eec51.1469505194856.271c8cfc          23           370\n",
      "2000.17da331ea83741691826.1459157897544.78cfdada          28           391\n",
      "2000.1cdeb307ac1e45401c0f.1451816288874.5cad0d37           1           547\n",
      "2000.1d097de6a7324e6c1723.1474461086312.8e2dac75           1           539\n",
      "2000.1e3549f5a4364d681427.1469943216813.570fb8b3           1           591\n",
      "2000.1f4682b16d8484dadd95.1461159849891.e75b401e           1           567\n",
      "2000.27671adb9bf172af2be0.1460644039320.c9a2f54e          30           414\n",
      "2000.2b960b2b3908d0568919.1456501824634.82fee916           2           422\n",
      "2000.2d94c68aa0a949f710b8.1456587921780.a8101b17          59           513\n",
      "2000.33f316c8ece405ba5cf5.1458008265405.d2509e0e          50           373\n",
      "2000.34a364c78dbe64e03daf.1437804251793.646830b0          70           546\n",
      "2000.354a2cf660f289acd0e3.1439788216086.8ec5a2dd           1           742\n",
      "2000.35de80f44832a16cf823.1468923384749.bd1612bd          36           371\n",
      "2000.3932e24a637c8a22d36d.1462248210532.d152e116           1           512\n",
      "2000.39a0e35a0506ec58b517.1421376622023.ccc42868           1          1226\n",
      "2000.42a306b268788126d869.1473458828309.32e85221           2           714\n",
      "2000.469f88b84abfa3e1faae.1440467907984.f2339405           1          1435\n",
      "2000.47497c6327b7cee997a6.1474277875114.8d898c08           1          1710\n",
      "2000.49b4b6a97dd89486cdc9.1434511057209.e152f7e4           2          2854\n",
      "2000.4a40833161fb88a5d1ea.1473670246675.515bf15a          21           696\n",
      "2000.52ce7f74867b6f25366a.1444114374365.07e4c379           1           571\n",
      "2000.62e23e632e4bc7159e5a.1459415442142.5cf6f5ea           1           404\n",
      "2000.67b0a520a01649481007.1462114111853.a9e7f91f           2           912\n",
      "2000.709a85dd62128b4cd203.1471579311769.7caf8918          36           566\n",
      "2000.7dfb968276579f09c646.1474082110761.a2a8a981           1           666\n",
      "2000.7e03daaa95787c262569.1476664069041.6f2a20d3          51           487\n",
      "2000.808ca05f056dec33b57c.1463804645584.0dad34bf           2          2052\n",
      "2000.8456a48f76429f1cc653.1470782026884.6bcab638           1           463\n",
      "2000.856453862252cb0c9243.1474246755554.8c7dedf4           1          1686\n",
      "2000.8617b742604d8913d05c.1444191836656.bdb004b5           2           642\n",
      "2000.864c03428b9762c93b86.1474014574509.110d2aa7           1           940\n",
      "2000.865fd9b332cddb9382dc.1437386286036.f5580e44           1           809\n",
      "2000.8a8df397dbb932e76ba8.1458493116602.7881fb0f          40           520\n",
      "2000.8af9402d4601af5ff610.1457783662994.37e7cecf          50           530\n",
      "2000.901d72690ebee7e0beaf.1474604879242.40490c7b           1           742\n",
      "2000.964d6697b5be5ce005af.1459308392996.ba98385a          20           421\n",
      "2000.96719fac48b5a1ebf8a4.1452194809104.5b483668          24           431\n",
      "2000.9a4941c8a20d4b53121c.1467560383211.284f5dc5           2          2787\n",
      "2000.9edbd2005ad2b38ceac3.1476763269023.d4e5bb0e           4          2184\n",
      "2000.a013c46f71a598fbc1b4.1473526651468.c4a86f1f           1          1667\n",
      "2000.a22f1ccde69e0fc0568f.1419397161558.da46d21b          31           388\n",
      "2000.a2e35f6aceb827e67ea9.1476753276868.5e7bff70           1          1210\n",
      "2000.a39b7121bff556ab0fe4.1474470720542.2a0b0c31           1           364\n",
      "2000.a5a00f36b6fb5fa506ea.1470618849523.fbe60fbd           1           596\n",
      "2000.a754694ece6727397e76.1459140621406.a76b7ec4          48           463\n",
      "2000.b300c5f092937bcd2282.1428543344686.b065e74c           3           851\n",
      "2000.b8d533305a44b31aea55.1432955376262.5279a0a3          36           433\n",
      "2000.bbc9dbd2f3fc1aa243ed.1458493104536.041ae065          35           425\n",
      "2000.bc5e809d854a6c14355b.1474596282267.42df9fdf           1           653\n",
      "2000.c015064c9f7c76222f6d.1462975735577.a71d2b2f          52           779\n",
      "2000.c4dd089de6aa0ff456bb.1462019640435.566478d2           1          2146\n",
      "2000.c98ba7425482bddce493.1469605161577.c1660453          39           374\n",
      "2000.d286513fec13054d5c02.1457884070826.365d0c23          38           427\n",
      "2000.d55e082fbefc57a20eed.1476278224018.0d6b6ece           1          1349\n",
      "2000.d703aae00d33e46dbd22.1476319412677.7b1963d7           2          1207\n",
      "2000.d8030c9b1f92f6ccaf83.1444766936767.6723a93c          20           390\n",
      "2000.d9ef1cee303cd962802d.1476507373301.0f0c44cd           2          2516\n",
      "                                                         ...           ...\n",
      "\n",
      "[69 rows x 2 columns]\n"
     ]
    }
   ],
   "source": [
    "abnormal=groupVisitorData[groupVisitorData['Listen count']>362]\n",
    "print abnormal"
   ]
  },
  {
   "cell_type": "code",
   "execution_count": 55,
   "metadata": {
    "collapsed": false
   },
   "outputs": [
    {
     "name": "stdout",
     "output_type": "stream",
     "text": [
      "Song count\n",
      "Listen count\n"
     ]
    }
   ],
   "source": []
  },
  {
   "cell_type": "code",
   "execution_count": 52,
   "metadata": {
    "collapsed": false
   },
   "outputs": [
    {
     "data": {
      "text/html": [
       "<div style=\"max-height:1000px;max-width:1500px;overflow:auto;\">\n",
       "<table border=\"1\" class=\"dataframe\">\n",
       "  <thead>\n",
       "    <tr style=\"text-align: right;\">\n",
       "      <th></th>\n",
       "      <th>songID</th>\n",
       "    </tr>\n",
       "    <tr>\n",
       "      <th>songID</th>\n",
       "      <th></th>\n",
       "    </tr>\n",
       "  </thead>\n",
       "  <tbody>\n",
       "    <tr>\n",
       "      <th>1075541003</th>\n",
       "      <td> 606</td>\n",
       "    </tr>\n",
       "    <tr>\n",
       "      <th>1075753604</th>\n",
       "      <td> 601</td>\n",
       "    </tr>\n",
       "  </tbody>\n",
       "</table>\n",
       "<p>2 rows × 1 columns</p>\n",
       "</div>"
      ],
      "text/plain": [
       "            songID\n",
       "songID            \n",
       "1075541003     606\n",
       "1075753604     601\n",
       "\n",
       "[2 rows x 1 columns]"
      ]
     },
     "execution_count": 52,
     "metadata": {},
     "output_type": "execute_result"
    }
   ],
   "source": [
    "a=data[data['visitorID']=='2000.d703aae00d33e46dbd22.1476319412677.7b1963d7']\n",
    "a=a.groupby('songID').agg({'songID':pd.Series.count})\n",
    "a.head()"
   ]
  },
  {
   "cell_type": "code",
   "execution_count": 64,
   "metadata": {
    "collapsed": false
   },
   "outputs": [
    {
     "name": "stdout",
     "output_type": "stream",
     "text": [
      "[array([], dtype=int64), array([], dtype=int64), array([419]), array([], dtype=int64), array([], dtype=int64), array([547]), array([539]), array([591]), array([567]), array([], dtype=int64), array([421]), array([], dtype=int64), array([], dtype=int64), array([], dtype=int64), array([742]), array([], dtype=int64), array([512]), array([1226]), array([334, 380]), array([1435]), array([1710]), array([1424, 1430]), array([590]), array([571]), array([404]), array([455, 457]), array([105]), array([666]), array([], dtype=int64), array([1026, 1026]), array([463]), array([1686]), array([641]), array([940]), array([809]), array([], dtype=int64), array([], dtype=int64), array([742]), array([103]), array([], dtype=int64), array([2768]), array([545, 546, 547, 546]), array([1667]), array([], dtype=int64), array([1210]), array([364]), array([596]), array([], dtype=int64), array([796]), array([], dtype=int64), array([], dtype=int64), array([653]), array([], dtype=int64), array([2146]), array([], dtype=int64), array([], dtype=int64), array([1349]), array([606, 601]), array([189]), array([1273, 1243]), array([573]), array([736]), array([670]), array([], dtype=int64), array([], dtype=int64), array([1809]), array([], dtype=int64), array([], dtype=int64), array([], dtype=int64)]\n"
     ]
    }
   ],
   "source": [
    "list=[]\n",
    "for id in abnormal.index.values:\n",
    "    userData=data[data['visitorID']==id]\n",
    "    songGroup=userData.groupby('songID').agg({'songID':pd.Series.count})\n",
    "    list.append(songGroup[songGroup['songID']>100]['songID'].values)\n",
    "print list"
   ]
  },
  {
   "cell_type": "code",
   "execution_count": 61,
   "metadata": {
    "collapsed": false
   },
   "outputs": [
    {
     "name": "stdout",
     "output_type": "stream",
     "text": [
      "2854\n"
     ]
    }
   ],
   "source": [
    "print abnormal['Listen count'].max()"
   ]
  }
 ],
 "metadata": {
  "kernelspec": {
   "display_name": "Python 2",
   "language": "python",
   "name": "python2"
  },
  "language_info": {
   "codemirror_mode": {
    "name": "ipython",
    "version": 2
   },
   "file_extension": ".py",
   "mimetype": "text/x-python",
   "name": "python",
   "nbconvert_exporter": "python",
   "pygments_lexer": "ipython2",
   "version": "2.7.6"
  }
 },
 "nbformat": 4,
 "nbformat_minor": 1
}
